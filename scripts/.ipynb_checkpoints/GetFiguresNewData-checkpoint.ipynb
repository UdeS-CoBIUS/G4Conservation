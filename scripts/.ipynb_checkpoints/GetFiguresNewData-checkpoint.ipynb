{
 "cells": [
  {
   "cell_type": "markdown",
   "metadata": {},
   "source": [
    "# Import libraries"
   ]
  },
  {
   "cell_type": "code",
   "execution_count": 1,
   "metadata": {},
   "outputs": [],
   "source": [
    "import os\n",
    "import re\n",
    "import argparse\n",
    "import scipy\n",
    "import numpy as np\n",
    "import pandas as pd\n",
    "import seaborn as sns\n",
    "from pprint import pprint\n",
    "import matplotlib.pyplot as plt\n",
    "from scipy.optimize import curve_fit"
   ]
  },
  {
   "cell_type": "markdown",
   "metadata": {},
   "source": [
    "# Definition of functions"
   ]
  },
  {
   "cell_type": "code",
   "execution_count": 2,
   "metadata": {},
   "outputs": [],
   "source": [
    "def appendDf(filename, sp):\n",
    "    dftmp = pd.read_csv(filename, sep='\\t')\n",
    "    dftmp['Sp'] = sp\n",
    "    return dftmp"
   ]
  },
  {
   "cell_type": "code",
   "execution_count": 3,
   "metadata": {},
   "outputs": [],
   "source": [
    "def dicoGrpSp():\n",
    "    dicoSp = {'pan_troglodytes' : 'Eukaryote',\n",
    "    'homo_sapiens' : 'Eukaryote',\n",
    "    'pongo_abelii' : 'Eukaryote',\n",
    "    'mus_musculus' : 'Eukaryote',\n",
    "    'monodelphis_domestica' : 'Eukaryote',\n",
    "    'ornithorhynchus_anatinus' : 'Eukaryote',\n",
    "    'anolis_carolinensis' : 'Eukaryote',\n",
    "    'gallus_gallus' : 'Eukaryote',\n",
    "    'danio_rerio' : 'Eukaryote',\n",
    "    'gasterosteus_aculeatus' : 'Eukaryote',\n",
    "    'drosophila_melanogaster' : 'Eukaryote',\n",
    "    'apis_mellifera' : 'Eukaryote',\n",
    "    'caenorhabditis_elegans' : 'Eukaryote',\n",
    "    'neurospora_crassa' : 'Eukaryote',\n",
    "    'aspergillus_nidulans' : 'Eukaryote',\n",
    "    'saccharomyces_cerevisiae' : 'Eukaryote',\n",
    "    'schizosaccharomyces_pombe' : 'Eukaryote',\n",
    "    'dictyostelium_discoideum' : 'Eukaryote',\n",
    "    'arabidopsis_thaliana' : 'Eukaryote',\n",
    "    'vitis_vinifera' : 'Eukaryote',\n",
    "    'solanum_lycopersicum' : 'Eukaryote',\n",
    "    'oryza_sativa' : 'Eukaryote',\n",
    "    'physcomitrella_patens' : 'Eukaryote',\n",
    "    'chlamydomonas_reinhardtii' : 'Eukaryote',\n",
    "    'leishmania_major' : 'Eukaryote',\n",
    "    'methanosarcina_acetivorans_c2a' : 'Archeae',\n",
    "    'halobacterium_salinarum_r1' : 'Archeae',\n",
    "    'hyperthermus_butylicus_dsm_5456' : 'Archeae',\n",
    "    'archaeoglobus_fulgidus_dsm_4304' : 'Archeae',\n",
    "    'methanobrevibacter_smithii_atcc_35061' : 'Archeae',\n",
    "    'pyrococcus_horikoshii_ot3' : 'Archeae',\n",
    "    'thermoplasma_acidophilum_dsm_1728' : 'Archeae',\n",
    "    'sulfolobus_solfataricus_p2' : 'Archeae',\n",
    "    'pyrobaculum_aerophilum_str_im2' : 'Archeae',\n",
    "    'nanoarchaeum_equitans_kin4_m' : 'Archeae',\n",
    "    'candidatus_korarchaeum_cryptofilum_opf8' : 'Archeae',\n",
    "    'cenarchaeum_symbiosum_a' : 'Archeae',\n",
    "    'aquifex_aeolicus_vf5' : 'Bacteria',\n",
    "    'mycoplasma_pneumoniae_m129' : 'Bacteria',\n",
    "    'staphylococcus_aureus_subsp_aureus_n315' : 'Bacteria',\n",
    "    'bacillus_subtilis_subsp_subtilis_str_168' : 'Bacteria',\n",
    "    'enterococcus_faecalis_v583' : 'Bacteria',\n",
    "    'streptococcus_pneumoniae_tigr4' : 'Bacteria',\n",
    "    'chloroflexus_aurantiacus_j_10_fl' : 'Bacteria',\n",
    "    'mycobacterium_tuberculosis_h37rv' : 'Bacteria',\n",
    "    'thermus_thermophilus_hb8' : 'Bacteria',\n",
    "    'chlamydia_trachomatis_d_uw_3_cx' : 'Bacteria',\n",
    "    'borrelia_burgdorferi_b31' : 'Bacteria',\n",
    "    'campylobacter_jejuni_subsp_jejuni_nctc_11168_atcc_700819' : 'Bacteria',\n",
    "    'myxococcus_xanthus_dk_1622' : 'Bacteria',\n",
    "    'geobacter_sulfurreducens_pca' : 'Bacteria',\n",
    "    'wolbachia_endosymbiont_of_drosophila_melanogaster' : 'Bacteria',\n",
    "    'anaplasma_phagocytophilum_str_hz' : 'Bacteria',\n",
    "    'brucella_abortus_bv_1_str_9_941' : 'Bacteria',\n",
    "    'neisseria_meningitidis_z2491' : 'Bacteria',\n",
    "    'legionella_pneumophila_str_paris' : 'Bacteria',\n",
    "    'francisella_tularensis_subsp_tularensis_schu_s4' : 'Bacteria',\n",
    "    'vibrio_cholerae_o1_biovar_el_tor_str_n16961' : 'Bacteria',\n",
    "    'haemophilus_influenzae_rd_kw20' : 'Bacteria',\n",
    "    'yersinia_pestis_biovar_microtus_str_91001' : 'Bacteria',\n",
    "    'escherichia_coli_str_k_12_substr_mg1655' : 'Bacteria'}\n",
    "    return dicoSp"
   ]
  },
  {
   "cell_type": "code",
   "execution_count": 4,
   "metadata": {},
   "outputs": [],
   "source": [
    "def getGrp(sp):\n",
    "    dico = dicoGrpSp()\n",
    "    return dico[sp]"
   ]
  },
  {
   "cell_type": "code",
   "execution_count": 5,
   "metadata": {},
   "outputs": [],
   "source": [
    "def getDSubCl():\n",
    "    d = {'pan_troglodytes' : 'Vertebrate',\n",
    "    'homo_sapiens' : 'Vertebrate',\n",
    "    'pongo_abelii' : 'Vertebrate',\n",
    "    'mus_musculus' : 'Vertebrate',\n",
    "    'monodelphis_domestica' : 'Vertebrate',\n",
    "    'ornithorhynchus_anatinus' : 'Vertebrate',\n",
    "    'anolis_carolinensis' : 'Vertebrate',\n",
    "    'gallus_gallus' : 'Vertebrate',\n",
    "    'danio_rerio' : 'Vertebrate',\n",
    "    'gasterosteus_aculeatus' : 'Vertebrate',\n",
    "    'drosophila_melanogaster' : 'Metazoa',\n",
    "    'apis_mellifera' : 'Metazoa',\n",
    "    'caenorhabditis_elegans' : 'Metazoa',\n",
    "    'neurospora_crassa' : 'Fungi',\n",
    "    'aspergillus_nidulans' : 'Fungi',\n",
    "    'saccharomyces_cerevisiae' : 'Fungi',\n",
    "    'schizosaccharomyces_pombe' : 'Fungi',\n",
    "    'dictyostelium_discoideum' : 'Protist',\n",
    "    'arabidopsis_thaliana' : 'Plant',\n",
    "    'vitis_vinifera' : 'Plant',\n",
    "    'solanum_lycopersicum' : 'Plant',\n",
    "    'oryza_sativa' : 'Plant',\n",
    "    'physcomitrella_patens' : 'Plant',\n",
    "    'chlamydomonas_reinhardtii' : 'Plant',\n",
    "    'leishmania_major' : 'Protist',\n",
    "    'methanosarcina_acetivorans_c2a' : 'Archeae',\n",
    "    'halobacterium_salinarum_r1' : 'Archeae',\n",
    "    'hyperthermus_butylicus_dsm_5456' : 'Archeae',\n",
    "    'archaeoglobus_fulgidus_dsm_4304' : 'Archeae',\n",
    "    'methanobrevibacter_smithii_atcc_35061' : 'Archeae',\n",
    "    'pyrococcus_horikoshii_ot3' : 'Archeae',\n",
    "    'thermoplasma_acidophilum_dsm_1728' : 'Archeae',\n",
    "    'sulfolobus_solfataricus_p2' : 'Archeae',\n",
    "    'pyrobaculum_aerophilum_str_im2' : 'Archeae',\n",
    "    'nanoarchaeum_equitans_kin4_m' : 'Archeae',\n",
    "    'candidatus_korarchaeum_cryptofilum_opf8' : 'Archeae',\n",
    "    'cenarchaeum_symbiosum_a' : 'Archeae',\n",
    "    'aquifex_aeolicus_vf5' : 'Bacteria',\n",
    "    'mycoplasma_pneumoniae_m129' : 'Bacteria',\n",
    "    'staphylococcus_aureus_subsp_aureus_n315' : 'Bacteria',\n",
    "    'bacillus_subtilis_subsp_subtilis_str_168' : 'Bacteria',\n",
    "    'enterococcus_faecalis_v583' : 'Bacteria',\n",
    "    'streptococcus_pneumoniae_tigr4' : 'Bacteria',\n",
    "    'chloroflexus_aurantiacus_j_10_fl' : 'Bacteria',\n",
    "    'mycobacterium_tuberculosis_h37rv' : 'Bacteria',\n",
    "    'thermus_thermophilus_hb8' : 'Bacteria',\n",
    "    'chlamydia_trachomatis_d_uw_3_cx' : 'Bacteria',\n",
    "    'borrelia_burgdorferi_b31' : 'Bacteria',\n",
    "    'campylobacter_jejuni_subsp_jejuni_nctc_11168_atcc_700819' : 'Bacteria',\n",
    "    'myxococcus_xanthus_dk_1622' : 'Bacteria',\n",
    "    'geobacter_sulfurreducens_pca' : 'Bacteria',\n",
    "    'wolbachia_endosymbiont_of_drosophila_melanogaster' : 'Bacteria',\n",
    "    'anaplasma_phagocytophilum_str_hz' : 'Bacteria',\n",
    "    'brucella_abortus_bv_1_str_9_941' : 'Bacteria',\n",
    "    'neisseria_meningitidis_z2491' : 'Bacteria',\n",
    "    'legionella_pneumophila_str_paris' : 'Bacteria',\n",
    "    'francisella_tularensis_subsp_tularensis_schu_s4' : 'Bacteria',\n",
    "    'vibrio_cholerae_o1_biovar_el_tor_str_n16961' : 'Bacteria',\n",
    "    'haemophilus_influenzae_rd_kw20' : 'Bacteria',\n",
    "    'yersinia_pestis_biovar_microtus_str_91001' : 'Bacteria',\n",
    "    'escherichia_coli_str_k_12_substr_mg1655' : 'Bacteria'}\n",
    "    return d"
   ]
  },
  {
   "cell_type": "code",
   "execution_count": 6,
   "metadata": {},
   "outputs": [],
   "source": [
    "def getProk():\n",
    "    d = {'methanosarcina_acetivorans_c2a' : 'Archeae',\n",
    "    'halobacterium_salinarum_r1' : 'Archeae',\n",
    "    'hyperthermus_butylicus_dsm_5456' : 'Archeae',\n",
    "    'archaeoglobus_fulgidus_dsm_4304' : 'Archeae',\n",
    "    'methanobrevibacter_smithii_atcc_35061' : 'Archeae',\n",
    "    'pyrococcus_horikoshii_ot3' : 'Archeae',\n",
    "    'thermoplasma_acidophilum_dsm_1728' : 'Archeae',\n",
    "    'sulfolobus_solfataricus_p2' : 'Archeae',\n",
    "    'pyrobaculum_aerophilum_str_im2' : 'Archeae',\n",
    "    'nanoarchaeum_equitans_kin4_m' : 'Archeae',\n",
    "    'candidatus_korarchaeum_cryptofilum_opf8' : 'Archeae',\n",
    "    'cenarchaeum_symbiosum_a' : 'Archeae',\n",
    "    'aquifex_aeolicus_vf5' : 'Bacteria',\n",
    "    'mycoplasma_pneumoniae_m129' : 'Bacteria',\n",
    "    'staphylococcus_aureus_subsp_aureus_n315' : 'Bacteria',\n",
    "    'bacillus_subtilis_subsp_subtilis_str_168' : 'Bacteria',\n",
    "    'enterococcus_faecalis_v583' : 'Bacteria',\n",
    "    'streptococcus_pneumoniae_tigr4' : 'Bacteria',\n",
    "    'chloroflexus_aurantiacus_j_10_fl' : 'Bacteria',\n",
    "    'mycobacterium_tuberculosis_h37rv' : 'Bacteria',\n",
    "    'thermus_thermophilus_hb8' : 'Bacteria',\n",
    "    'chlamydia_trachomatis_d_uw_3_cx' : 'Bacteria',\n",
    "    'borrelia_burgdorferi_b31' : 'Bacteria',\n",
    "    'campylobacter_jejuni_subsp_jejuni_nctc_11168_atcc_700819' : 'Bacteria',\n",
    "    'myxococcus_xanthus_dk_1622' : 'Bacteria',\n",
    "    'geobacter_sulfurreducens_pca' : 'Bacteria',\n",
    "    'wolbachia_endosymbiont_of_drosophila_melanogaster' : 'Bacteria',\n",
    "    'anaplasma_phagocytophilum_str_hz' : 'Bacteria',\n",
    "    'brucella_abortus_bv_1_str_9_941' : 'Bacteria',\n",
    "    'neisseria_meningitidis_z2491' : 'Bacteria',\n",
    "    'legionella_pneumophila_str_paris' : 'Bacteria',\n",
    "    'francisella_tularensis_subsp_tularensis_schu_s4' : 'Bacteria',\n",
    "    'vibrio_cholerae_o1_biovar_el_tor_str_n16961' : 'Bacteria',\n",
    "    'haemophilus_influenzae_rd_kw20' : 'Bacteria',\n",
    "    'yersinia_pestis_biovar_microtus_str_91001' : 'Bacteria',\n",
    "    'escherichia_coli_str_k_12_substr_mg1655' : 'Bacteria'}\n",
    "    return d"
   ]
  },
  {
   "cell_type": "code",
   "execution_count": 7,
   "metadata": {},
   "outputs": [],
   "source": [
    "def getProkGroup(sp):\n",
    "    d = getProk()\n",
    "    return d[sp]"
   ]
  },
  {
   "cell_type": "code",
   "execution_count": 8,
   "metadata": {},
   "outputs": [],
   "source": [
    "def getSubClass(sp):\n",
    "    d = getDSubCl()\n",
    "    return d[sp]"
   ]
  },
  {
   "cell_type": "code",
   "execution_count": 9,
   "metadata": {},
   "outputs": [],
   "source": [
    "def getShortName():\n",
    "    dicoSp = {'pan_troglodytes' : 'Ptro',\n",
    "    'homo_sapiens' : 'Hsap',\n",
    "    'pongo_abelii' : 'Pabe',\n",
    "    'mus_musculus' : 'Mmus',\n",
    "    'monodelphis_domestica' : 'Mdom',\n",
    "    'ornithorhynchus_anatinus' : 'Oana',\n",
    "    'anolis_carolinensis' : 'Acar',\n",
    "    'gallus_gallus' : 'Ggal',\n",
    "    'danio_rerio' : 'Drer',\n",
    "    'gasterosteus_aculeatus' : 'Gacu',\n",
    "    'drosophila_melanogaster' : 'Dmel',\n",
    "    'apis_mellifera' : 'Amel',\n",
    "    'caenorhabditis_elegans' : 'Cele',\n",
    "    'neurospora_crassa' : 'Ncra',\n",
    "    'aspergillus_nidulans' : 'Anid',\n",
    "    'saccharomyces_cerevisiae' : 'Scer',\n",
    "    'schizosaccharomyces_pombe' : 'Spom',\n",
    "    'dictyostelium_discoideum' : 'Ddis',\n",
    "    'arabidopsis_thaliana' : 'Atha',\n",
    "    'vitis_vinifera' : 'Vvin',\n",
    "    'solanum_lycopersicum' : 'Slyc',\n",
    "    'oryza_sativa' : 'Osat',\n",
    "    'physcomitrella_patens' : 'Ppat',\n",
    "    'chlamydomonas_reinhardtii' : 'Crei',\n",
    "    'leishmania_major' : 'Lmaj',\n",
    "    'methanosarcina_acetivorans_c2a' : 'Mace',\n",
    "    'halobacterium_salinarum_r1' : 'Hsal',\n",
    "    'hyperthermus_butylicus_dsm_5456' : 'Hbut',\n",
    "    'archaeoglobus_fulgidus_dsm_4304' : 'Aful',\n",
    "    'methanobrevibacter_smithii_atcc_35061' : 'Msmi',\n",
    "    'pyrococcus_horikoshii_ot3' : 'Phor',\n",
    "    'thermoplasma_acidophilum_dsm_1728' : 'Taci',\n",
    "    'sulfolobus_solfataricus_p2' : 'Ssol',\n",
    "    'pyrobaculum_aerophilum_str_im2' : 'Paer',\n",
    "    'nanoarchaeum_equitans_kin4_m' : 'Nequ',\n",
    "    'candidatus_korarchaeum_cryptofilum_opf8' : 'Ckor',\n",
    "    'cenarchaeum_symbiosum_a' : 'Csym',\n",
    "    'aquifex_aeolicus_vf5' : 'Aaeo',\n",
    "    'mycoplasma_pneumoniae_m129' : 'Mpne',\n",
    "    'staphylococcus_aureus_subsp_aureus_n315' : 'Saur',\n",
    "    'bacillus_subtilis_subsp_subtilis_str_168' : 'Bsub',\n",
    "    'enterococcus_faecalis_v583' : 'Efae',\n",
    "    'streptococcus_pneumoniae_tigr4' : 'Spne',\n",
    "    'chloroflexus_aurantiacus_j_10_fl' : 'Caur',\n",
    "    'mycobacterium_tuberculosis_h37rv' : 'Mtub',\n",
    "    'thermus_thermophilus_hb8' : 'Tthe',\n",
    "    'chlamydia_trachomatis_d_uw_3_cx' : 'Ctra',\n",
    "    'borrelia_burgdorferi_b31' : 'Bbur',\n",
    "    'campylobacter_jejuni_subsp_jejuni_nctc_11168_atcc_700819' : 'Cjej',\n",
    "    'myxococcus_xanthus_dk_1622' : 'Mxan',\n",
    "    'geobacter_sulfurreducens_pca' : 'Gsul',\n",
    "    'wolbachia_endosymbiont_of_drosophila_melanogaster' : 'Wend',\n",
    "    'anaplasma_phagocytophilum_str_hz' : 'Apha',\n",
    "    'brucella_abortus_bv_1_str_9_941' : 'Babo',\n",
    "    'neisseria_meningitidis_z2491' : 'Nmen',\n",
    "    'legionella_pneumophila_str_paris' : 'Lpne',\n",
    "    'francisella_tularensis_subsp_tularensis_schu_s4' : 'Ftul',\n",
    "    'vibrio_cholerae_o1_biovar_el_tor_str_n16961' : 'Vcho',\n",
    "    'haemophilus_influenzae_rd_kw20' : 'Hinf',\n",
    "    'yersinia_pestis_biovar_microtus_str_91001' : 'Ypes',\n",
    "    'escherichia_coli_str_k_12_substr_mg1655' : 'Ecol'}\n",
    "    return dicoSp"
   ]
  },
  {
   "cell_type": "code",
   "execution_count": 10,
   "metadata": {},
   "outputs": [],
   "source": [
    "def applyShortName(sp):\n",
    "    dico = getShortName()\n",
    "    return dico[sp]"
   ]
  },
  {
   "cell_type": "code",
   "execution_count": 11,
   "metadata": {},
   "outputs": [],
   "source": [
    "def getdicoPatho():\n",
    "    #0 = non pathogenic, 1 = pathogenic\n",
    "    #i've been 'wide' for the term pathogenic : food poisoning,\n",
    "    #nausocamial deaseses... in humans or animals\n",
    "    d = {'aquifex_aeolicus_vf5' : 0,\n",
    "    'mycoplasma_pneumoniae_m129' : 1,\n",
    "    'staphylococcus_aureus_subsp_aureus_n315' : 1,\n",
    "    'bacillus_subtilis_subsp_subtilis_str_168' : 0,\n",
    "    'enterococcus_faecalis_v583' : 1,\n",
    "    'streptococcus_pneumoniae_tigr4' : 1,\n",
    "    'chloroflexus_aurantiacus_j_10_fl' : 0,\n",
    "    'mycobacterium_tuberculosis_h37rv' : 1,\n",
    "    'thermus_thermophilus_hb8' : 0,\n",
    "    'chlamydia_trachomatis_d_uw_3_cx' : 1,\n",
    "    'borrelia_burgdorferi_b31' : 1,\n",
    "    'campylobacter_jejuni_subsp_jejuni_nctc_11168_atcc_700819' : 1,\n",
    "    'myxococcus_xanthus_dk_1622' : 0,\n",
    "    'geobacter_sulfurreducens_pca' : 0,\n",
    "    'wolbachia_endosymbiont_of_drosophila_melanogaster' : 0,\n",
    "    'anaplasma_phagocytophilum_str_hz' : 1,\n",
    "    'brucella_abortus_bv_1_str_9_941' : 1,\n",
    "    'neisseria_meningitidis_z2491' : 1,\n",
    "    'legionella_pneumophila_str_paris' : 1,\n",
    "    'francisella_tularensis_subsp_tularensis_schu_s4' : 1,\n",
    "    'vibrio_cholerae_o1_biovar_el_tor_str_n16961' : 1,\n",
    "    'haemophilus_influenzae_rd_kw20' : 1,\n",
    "    'yersinia_pestis_biovar_microtus_str_91001' : 1,\n",
    "    'escherichia_coli_str_k_12_substr_mg1655' : 1}\n",
    "    return d"
   ]
  },
  {
   "cell_type": "code",
   "execution_count": 12,
   "metadata": {},
   "outputs": [],
   "source": [
    "def getPatho(sp):\n",
    "    d = getdicoPatho()\n",
    "    return d[sp]"
   ]
  },
  {
   "cell_type": "code",
   "execution_count": 13,
   "metadata": {},
   "outputs": [],
   "source": [
    "def getdicoTemp():\n",
    "    d = {'methanosarcina_acetivorans_c2a' : 35,\n",
    "    'halobacterium_salinarum_r1' : 37,\n",
    "    'hyperthermus_butylicus_dsm_5456' : 107,\n",
    "    'archaeoglobus_fulgidus_dsm_4304' : 75,\n",
    "    'methanobrevibacter_smithii_atcc_35061' : 37,\n",
    "    'pyrococcus_horikoshii_ot3' : 98,\n",
    "    'thermoplasma_acidophilum_dsm_1728' : 59,\n",
    "    'sulfolobus_solfataricus_p2' : 80,\n",
    "    'pyrobaculum_aerophilum_str_im2' : 60,\n",
    "    'nanoarchaeum_equitans_kin4_m' : 80,\n",
    "    'candidatus_korarchaeum_cryptofilum_opf8' : 70,\n",
    "    'cenarchaeum_symbiosum_a' : -5,\n",
    "    'aquifex_aeolicus_vf5' : 85,\n",
    "    'mycoplasma_pneumoniae_m129' : 37,\n",
    "    'staphylococcus_aureus_subsp_aureus_n315' : 37,\n",
    "    'bacillus_subtilis_subsp_subtilis_str_168' : 37,\n",
    "    'enterococcus_faecalis_v583' : 37,\n",
    "    'streptococcus_pneumoniae_tigr4' : 37,\n",
    "    'chloroflexus_aurantiacus_j_10_fl' : 55,\n",
    "    'mycobacterium_tuberculosis_h37rv' : 37,\n",
    "    'thermus_thermophilus_hb8' : 65,\n",
    "    'chlamydia_trachomatis_d_uw_3_cx' : 37,\n",
    "    'borrelia_burgdorferi_b31' : 37,\n",
    "    'campylobacter_jejuni_subsp_jejuni_nctc_11168_atcc_700819' : 37,\n",
    "    'myxococcus_xanthus_dk_1622' : 36,\n",
    "    'geobacter_sulfurreducens_pca' : 35,\n",
    "    'wolbachia_endosymbiont_of_drosophila_melanogaster' : 34,\n",
    "    'anaplasma_phagocytophilum_str_hz' : 37,\n",
    "    'brucella_abortus_bv_1_str_9_941' : 35,\n",
    "    'neisseria_meningitidis_z2491' : 37,\n",
    "    'legionella_pneumophila_str_paris' : 37,\n",
    "    'francisella_tularensis_subsp_tularensis_schu_s4' : 36,\n",
    "    'vibrio_cholerae_o1_biovar_el_tor_str_n16961' : 37,\n",
    "    'haemophilus_influenzae_rd_kw20' : 37,\n",
    "    'yersinia_pestis_biovar_microtus_str_91001' : 37,\n",
    "    'escherichia_coli_str_k_12_substr_mg1655' : 37}\n",
    "    return d"
   ]
  },
  {
   "cell_type": "code",
   "execution_count": 14,
   "metadata": {},
   "outputs": [],
   "source": [
    "def getTemp(sp):\n",
    "    d = getdicoTemp()\n",
    "    return d[sp]"
   ]
  },
  {
   "cell_type": "markdown",
   "metadata": {},
   "source": [
    "# Import all data"
   ]
  },
  {
   "cell_type": "code",
   "execution_count": 15,
   "metadata": {
    "scrolled": true
   },
   "outputs": [
    {
     "name": "stdout",
     "output_type": "stream",
     "text": [
      "methanobrevibacter_smithii_atcc_35061 doesnt have any pseudogenes non coding transcripts.\n",
      "methanobrevibacter_smithii_atcc_35061 doesnt have any dfUTR non coding transcripts.\n",
      "geobacter_sulfurreducens_pca doesnt have any long non coding transcripts.\n",
      "geobacter_sulfurreducens_pca doesnt have any pseudogenes non coding transcripts.\n",
      "geobacter_sulfurreducens_pca doesnt have any dfUTR non coding transcripts.\n",
      "campylobacter_jejuni_subsp_jejuni_nctc_11168_atcc_700819 doesnt have any dfUTR non coding transcripts.\n",
      "neisseria_meningitidis_z2491 doesnt have any dfUTR non coding transcripts.\n",
      "gasterosteus_aculeatus doesnt have any long non coding transcripts.\n",
      "gasterosteus_aculeatus doesnt have any dfUTR non coding transcripts.\n",
      "neurospora_crassa doesnt have any long non coding transcripts.\n",
      "neurospora_crassa doesnt have any dfUTR non coding transcripts.\n",
      "monodelphis_domestica doesnt have any dfUTR non coding transcripts.\n",
      "danio_rerio doesnt have any dfUTR non coding transcripts.\n",
      "brucella_abortus_bv_1_str_9_941 doesnt have any pseudogenes non coding transcripts.\n",
      "brucella_abortus_bv_1_str_9_941 doesnt have any dfUTR non coding transcripts.\n",
      "chlamydomonas_reinhardtii doesnt have any long non coding transcripts.\n",
      "chlamydomonas_reinhardtii doesnt have any pseudogenes non coding transcripts.\n",
      "chlamydomonas_reinhardtii doesnt have any dfUTR non coding transcripts.\n",
      "myxococcus_xanthus_dk_1622 doesnt have any dfUTR non coding transcripts.\n",
      "hyperthermus_butylicus_dsm_5456 doesnt have any long non coding transcripts.\n",
      "hyperthermus_butylicus_dsm_5456 doesnt have any pseudogenes non coding transcripts.\n",
      "hyperthermus_butylicus_dsm_5456 doesnt have any dfUTR non coding transcripts.\n",
      "caenorhabditis_elegans doesnt have any dfUTR non coding transcripts.\n",
      "anolis_carolinensis doesnt have any dfUTR non coding transcripts.\n",
      "bacillus_subtilis_subsp_subtilis_str_168 doesnt have any dfUTR non coding transcripts.\n",
      "homo_sapiens doesnt have any dfUTR non coding transcripts.\n",
      "streptococcus_pneumoniae_tigr4 doesnt have any pseudogenes non coding transcripts.\n",
      "streptococcus_pneumoniae_tigr4 doesnt have any dfUTR non coding transcripts.\n",
      "vitis_vinifera doesnt have any pseudogenes non coding transcripts.\n",
      "vitis_vinifera doesnt have any dfUTR non coding transcripts.\n",
      "ornithorhynchus_anatinus doesnt have any dfUTR non coding transcripts.\n",
      "thermus_thermophilus_hb8 doesnt have any pseudogenes non coding transcripts.\n",
      "thermus_thermophilus_hb8 doesnt have any dfUTR non coding transcripts.\n",
      "thermoplasma_acidophilum_dsm_1728 doesnt have any pseudogenes non coding transcripts.\n",
      "thermoplasma_acidophilum_dsm_1728 doesnt have any dfUTR non coding transcripts.\n",
      "mus_musculus doesnt have any dfUTR non coding transcripts.\n",
      "solanum_lycopersicum doesnt have any pseudogenes non coding transcripts.\n",
      "solanum_lycopersicum doesnt have any dfUTR non coding transcripts.\n",
      "pyrobaculum_aerophilum_str_im2 doesnt have any pseudogenes non coding transcripts.\n",
      "pyrobaculum_aerophilum_str_im2 doesnt have any dfUTR non coding transcripts.\n",
      "archaeoglobus_fulgidus_dsm_4304 doesnt have any pseudogenes non coding transcripts.\n",
      "archaeoglobus_fulgidus_dsm_4304 doesnt have any dfUTR non coding transcripts.\n",
      "halobacterium_salinarum_r1 doesnt have any dfUTR non coding transcripts.\n",
      "borrelia_burgdorferi_b31 doesnt have any pseudogenes non coding transcripts.\n",
      "borrelia_burgdorferi_b31 doesnt have any dfUTR non coding transcripts.\n",
      "legionella_pneumophila_str_paris doesnt have any dfUTR non coding transcripts.\n",
      "schizosaccharomyces_pombe doesnt have any long non coding transcripts.\n",
      "schizosaccharomyces_pombe doesnt have any dfUTR non coding transcripts.\n",
      "aspergillus_nidulans doesnt have any long non coding transcripts.\n",
      "aspergillus_nidulans doesnt have any dfUTR non coding transcripts.\n",
      "drosophila_melanogaster doesnt have any long non coding transcripts.\n",
      "drosophila_melanogaster doesnt have any dfUTR non coding transcripts.\n",
      "leishmania_major doesnt have any long non coding transcripts.\n",
      "leishmania_major doesnt have any dfUTR non coding transcripts.\n",
      "escherichia_coli_str_k_12_substr_mg1655 doesnt have any long non coding transcripts.\n",
      "escherichia_coli_str_k_12_substr_mg1655 doesnt have any dfUTR non coding transcripts.\n",
      "saccharomyces_cerevisiae doesnt have any long non coding transcripts.\n",
      "saccharomyces_cerevisiae doesnt have any dfUTR non coding transcripts.\n",
      "nanoarchaeum_equitans_kin4_m doesnt have any pseudogenes non coding transcripts.\n",
      "nanoarchaeum_equitans_kin4_m doesnt have any dfUTR non coding transcripts.\n",
      "arabidopsis_thaliana doesnt have any pseudogenes non coding transcripts.\n",
      "arabidopsis_thaliana doesnt have any dfUTR non coding transcripts.\n",
      "candidatus_korarchaeum_cryptofilum_opf8 doesnt have any pseudogenes non coding transcripts.\n",
      "candidatus_korarchaeum_cryptofilum_opf8 doesnt have any dfUTR non coding transcripts.\n",
      "francisella_tularensis_subsp_tularensis_schu_s4 doesnt have any long non coding transcripts.\n",
      "francisella_tularensis_subsp_tularensis_schu_s4 doesnt have any dfUTR non coding transcripts.\n",
      "enterococcus_faecalis_v583 doesnt have any dfUTR non coding transcripts.\n",
      "physcomitrella_patens doesnt have any pseudogenes non coding transcripts.\n",
      "physcomitrella_patens doesnt have any dfUTR non coding transcripts.\n",
      "anaplasma_phagocytophilum_str_hz doesnt have any pseudogenes non coding transcripts.\n",
      "anaplasma_phagocytophilum_str_hz doesnt have any dfUTR non coding transcripts.\n",
      "vibrio_cholerae_o1_biovar_el_tor_str_n16961 doesnt have any dfUTR non coding transcripts.\n",
      "pongo_abelii doesnt have any long non coding transcripts.\n",
      "pongo_abelii doesnt have any dfUTR non coding transcripts.\n",
      "aquifex_aeolicus_vf5 doesnt have any pseudogenes non coding transcripts.\n",
      "aquifex_aeolicus_vf5 doesnt have any dfUTR non coding transcripts.\n",
      "yersinia_pestis_biovar_microtus_str_91001 doesnt have any pseudogenes non coding transcripts.\n",
      "yersinia_pestis_biovar_microtus_str_91001 doesnt have any dfUTR non coding transcripts.\n",
      "chlamydia_trachomatis_d_uw_3_cx doesnt have any pseudogenes non coding transcripts.\n",
      "chlamydia_trachomatis_d_uw_3_cx doesnt have any dfUTR non coding transcripts.\n",
      "pan_troglodytes doesnt have any dfUTR non coding transcripts.\n",
      "cenarchaeum_symbiosum_a doesnt have any pseudogenes non coding transcripts.\n",
      "cenarchaeum_symbiosum_a doesnt have any dfUTR non coding transcripts.\n",
      "dictyostelium_discoideum doesnt have any long non coding transcripts.\n",
      "dictyostelium_discoideum doesnt have any pseudogenes non coding transcripts.\n",
      "dictyostelium_discoideum doesnt have any dfUTR non coding transcripts.\n",
      "methanosarcina_acetivorans_c2a doesnt have any pseudogenes non coding transcripts.\n",
      "methanosarcina_acetivorans_c2a doesnt have any dfUTR non coding transcripts.\n",
      "chloroflexus_aurantiacus_j_10_fl doesnt have any pseudogenes non coding transcripts.\n",
      "chloroflexus_aurantiacus_j_10_fl doesnt have any dfUTR non coding transcripts.\n",
      "haemophilus_influenzae_rd_kw20 doesnt have any pseudogenes non coding transcripts.\n",
      "haemophilus_influenzae_rd_kw20 doesnt have any dfUTR non coding transcripts.\n",
      "wolbachia_endosymbiont_of_drosophila_melanogaster doesnt have any pseudogenes non coding transcripts.\n",
      "wolbachia_endosymbiont_of_drosophila_melanogaster doesnt have any dfUTR non coding transcripts.\n",
      "pyrococcus_horikoshii_ot3 doesnt have any long non coding transcripts.\n",
      "pyrococcus_horikoshii_ot3 doesnt have any pseudogenes non coding transcripts.\n",
      "pyrococcus_horikoshii_ot3 doesnt have any dfUTR non coding transcripts.\n",
      "oryza_sativa doesnt have any pseudogenes non coding transcripts.\n",
      "oryza_sativa doesnt have any dfUTR non coding transcripts.\n",
      "gallus_gallus doesnt have any dfUTR non coding transcripts.\n",
      "sulfolobus_solfataricus_p2 doesnt have any pseudogenes non coding transcripts.\n",
      "sulfolobus_solfataricus_p2 doesnt have any dfUTR non coding transcripts.\n",
      "mycoplasma_pneumoniae_m129 doesnt have any pseudogenes non coding transcripts.\n",
      "mycoplasma_pneumoniae_m129 doesnt have any dfUTR non coding transcripts.\n",
      "apis_mellifera doesnt have any pseudogenes non coding transcripts.\n",
      "apis_mellifera doesnt have any dfUTR non coding transcripts.\n",
      "staphylococcus_aureus_subsp_aureus_n315 doesnt have any dfUTR non coding transcripts.\n",
      "mycobacterium_tuberculosis_h37rv doesnt have any dfUTR non coding transcripts.\n"
     ]
    }
   ],
   "source": [
    "path = '/home/anais/Documents/Projet/G4Conservation/'\n",
    "dfAllDens = pd.DataFrame()\n",
    "dfGlobal = pd.DataFrame() #figure 3\n",
    "dfClassCoding = pd.DataFrame() #figure 4\n",
    "dfLocCoding = pd.DataFrame() #figure 5\n",
    "dfNonCoding = pd.DataFrame() #figure 6\n",
    "dfLocLongNC = pd.DataFrame() #figure 7\n",
    "dfPseudogene = pd.DataFrame() #figure 8\n",
    "dfUTR = pd.DataFrame()\n",
    "for path2, dirs, files in os.walk(path+'test/'):\n",
    "    for sp in dirs:\n",
    "        if sp not in ['Figures', 'Fasta', 'CSVFile', 'SplitFile']:\n",
    "            try :\n",
    "                dfAllDens = dfAllDens.append(appendDf(path + 'test/' + sp \\\n",
    "                    + '/allDensitiesByLoc.csv', sp))\n",
    "            except:\n",
    "                print(sp + ' doesnt have dfAllDens.')\n",
    "            try :\n",
    "                dfGlobal = dfGlobal.append(appendDf(path + 'test/'+ sp + \\\n",
    "                    '/Figures/DataFig3.csv', sp))\n",
    "            except:\n",
    "                print(sp + ' doesnt have dfGlobal.')\n",
    "            try :\n",
    "                dfClassCoding = dfClassCoding.append(appendDf(path +'test/' + sp + \\\n",
    "                    '/Figures/DataFig4.csv', sp))\n",
    "            except:\n",
    "                print(sp + ' doesnt have Coding.')\n",
    "            try :\n",
    "                dfLocCoding = dfLocCoding.append(appendDf(path +'test/' + sp + \\\n",
    "                    '/Figures/DataFig5.csv', sp))\n",
    "            except:\n",
    "                print(sp + ' doesnt have CodingLoc.')\n",
    "            try :\n",
    "                dfNonCoding = dfNonCoding.append(appendDf(path +'test/' + sp + \\\n",
    "                    '/Figures/DataFig6.csv', sp))\n",
    "            except:\n",
    "                print(sp + ' doesnt have non coding transcripts.')\n",
    "            try :\n",
    "                dfLocLongNC = dfLocLongNC.append(appendDf(path +'test/' + sp + \\\n",
    "                    '/Figures/DataFig7.csv', sp))\n",
    "            except:\n",
    "                print(sp + ' doesnt have any long non coding transcripts.')\n",
    "            try :\n",
    "                dfPseudogene = dfPseudogene.append(appendDf(path +'test/' + sp + \\\n",
    "                    '/Figures/DataFig8.csv', sp))\n",
    "            except:\n",
    "                print(sp + ' doesnt have any pseudogenes non coding transcripts.')\n",
    "            try :\n",
    "                dfUTR = dfUTR.append(appendDf(path +'test/'+sp+'/pG4_UTRStat.csv', sp))\n",
    "            except:\n",
    "                print(sp + ' doesnt have any dfUTR non coding transcripts.')"
   ]
  },
  {
   "cell_type": "markdown",
   "metadata": {},
   "source": [
    "# GENE DATA"
   ]
  },
  {
   "cell_type": "code",
   "execution_count": 16,
   "metadata": {},
   "outputs": [
    {
     "data": {
      "text/plain": [
       "<bound method NDFrame.head of                                                  Sp  DensityGenes         GC  \\\n",
       "0                                   pan_troglodytes      0.162269  41.411866   \n",
       "1                                      homo_sapiens      0.157128  41.431160   \n",
       "2                                      pongo_abelii      0.153484  39.989608   \n",
       "3                                      mus_musculus      0.179057  42.796644   \n",
       "4                             monodelphis_domestica      0.140690  37.785004   \n",
       "..                                              ...           ...        ...   \n",
       "56  francisella_tularensis_subsp_tularensis_schu_s4      0.001726  33.286418   \n",
       "57      vibrio_cholerae_o1_biovar_el_tor_str_n16961      0.007163  47.545797   \n",
       "58                   haemophilus_influenzae_rd_kw20      0.009210  39.270580   \n",
       "59        yersinia_pestis_biovar_microtus_str_91001      0.049307  49.022334   \n",
       "60          escherichia_coli_str_k_12_substr_mg1655      0.018923  51.859621   \n",
       "\n",
       "       SpRealm  meanShuflle  stdShuffle  \n",
       "0   Eukaryotes     0.012451    0.000200  \n",
       "1   Eukaryotes     0.010975    0.000719  \n",
       "2   Eukaryotes     0.009375    0.000061  \n",
       "3   Eukaryotes     0.009698    0.000091  \n",
       "4   Eukaryotes     0.002878    0.000111  \n",
       "..         ...          ...         ...  \n",
       "56    Bacteria     0.005867    0.001913  \n",
       "57    Bacteria     0.024907    0.000665  \n",
       "58    Bacteria     0.012341    0.002412  \n",
       "59    Bacteria     0.065960    0.002943  \n",
       "60    Bacteria     0.091237    0.004177  \n",
       "\n",
       "[61 rows x 6 columns]>"
      ]
     },
     "execution_count": 16,
     "metadata": {},
     "output_type": "execute_result"
    }
   ],
   "source": [
    "path = '/home/anais/Documents/Projet/G4Conservation/'\n",
    "dfGenesDens = pd.read_csv(path+'Results/GenesDensities.csv', sep='\\t')\n",
    "dfGenesDens.head"
   ]
  },
  {
   "cell_type": "markdown",
   "metadata": {},
   "source": [
    "## Plot of all sp with their GC content and densities"
   ]
  },
  {
   "cell_type": "code",
   "execution_count": 17,
   "metadata": {
    "scrolled": false
   },
   "outputs": [
    {
     "ename": "KeyError",
     "evalue": "'Archaea'",
     "output_type": "error",
     "traceback": [
      "\u001b[0;31m---------------------------------------------------------------------------\u001b[0m",
      "\u001b[0;31mKeyError\u001b[0m                                  Traceback (most recent call last)",
      "\u001b[0;32m<ipython-input-17-5f0c0c14a94c>\u001b[0m in \u001b[0;36m<module>\u001b[0;34m\u001b[0m\n\u001b[1;32m      1\u001b[0m \u001b[0mmy_pl\u001b[0m \u001b[0;34m=\u001b[0m \u001b[0;34m{\u001b[0m\u001b[0;34m'Eukaryotes'\u001b[0m\u001b[0;34m:\u001b[0m\u001b[0;34m\"#D3772E\"\u001b[0m\u001b[0;34m,\u001b[0m \u001b[0;34m'Archeae'\u001b[0m\u001b[0;34m:\u001b[0m\u001b[0;34m\"#2686a4\"\u001b[0m\u001b[0;34m,\u001b[0m \u001b[0;34m'Bacteria'\u001b[0m\u001b[0;34m:\u001b[0m\u001b[0;34m\"#c33543\"\u001b[0m\u001b[0;34m}\u001b[0m \u001b[0;31m#test1\u001b[0m\u001b[0;34m\u001b[0m\u001b[0;34m\u001b[0m\u001b[0m\n\u001b[0;32m----> 2\u001b[0;31m \u001b[0msns\u001b[0m\u001b[0;34m.\u001b[0m\u001b[0mlmplot\u001b[0m\u001b[0;34m(\u001b[0m \u001b[0mx\u001b[0m\u001b[0;34m=\u001b[0m\u001b[0;34m\"GC\"\u001b[0m\u001b[0;34m,\u001b[0m \u001b[0my\u001b[0m\u001b[0;34m=\u001b[0m\u001b[0;34m\"DensityGenes\"\u001b[0m\u001b[0;34m,\u001b[0m \u001b[0mdata\u001b[0m\u001b[0;34m=\u001b[0m\u001b[0mdfGenesDens\u001b[0m\u001b[0;34m,\u001b[0m \u001b[0mfit_reg\u001b[0m\u001b[0;34m=\u001b[0m\u001b[0;32mFalse\u001b[0m\u001b[0;34m,\u001b[0m \u001b[0mhue\u001b[0m\u001b[0;34m=\u001b[0m\u001b[0;34m'SpRealm'\u001b[0m\u001b[0;34m,\u001b[0m \u001b[0mlegend\u001b[0m\u001b[0;34m=\u001b[0m\u001b[0;32mTrue\u001b[0m\u001b[0;34m,\u001b[0m \u001b[0mpalette\u001b[0m\u001b[0;34m=\u001b[0m\u001b[0mmy_pl\u001b[0m\u001b[0;34m,\u001b[0m \u001b[0mscatter_kws\u001b[0m\u001b[0;34m=\u001b[0m\u001b[0;34m{\u001b[0m\u001b[0;34m\"s\"\u001b[0m\u001b[0;34m:\u001b[0m \u001b[0;36m100\u001b[0m\u001b[0;34m}\u001b[0m\u001b[0;34m)\u001b[0m\u001b[0;34m\u001b[0m\u001b[0;34m\u001b[0m\u001b[0m\n\u001b[0m\u001b[1;32m      3\u001b[0m \u001b[0mplt\u001b[0m\u001b[0;34m.\u001b[0m\u001b[0mtitle\u001b[0m\u001b[0;34m(\u001b[0m\u001b[0;34m\"pG4 Densities and GC content with subrealms colored\"\u001b[0m\u001b[0;34m,\u001b[0m \u001b[0mloc\u001b[0m\u001b[0;34m=\u001b[0m\u001b[0;34m'left'\u001b[0m\u001b[0;34m)\u001b[0m\u001b[0;34m\u001b[0m\u001b[0;34m\u001b[0m\u001b[0m\n\u001b[1;32m      4\u001b[0m \u001b[0mplt\u001b[0m\u001b[0;34m.\u001b[0m\u001b[0mshow\u001b[0m\u001b[0;34m(\u001b[0m\u001b[0;34m)\u001b[0m\u001b[0;34m\u001b[0m\u001b[0;34m\u001b[0m\u001b[0m\n",
      "\u001b[0;32m~/.local/lib/python3.7/site-packages/seaborn/_decorators.py\u001b[0m in \u001b[0;36minner_f\u001b[0;34m(*args, **kwargs)\u001b[0m\n\u001b[1;32m     44\u001b[0m             )\n\u001b[1;32m     45\u001b[0m         \u001b[0mkwargs\u001b[0m\u001b[0;34m.\u001b[0m\u001b[0mupdate\u001b[0m\u001b[0;34m(\u001b[0m\u001b[0;34m{\u001b[0m\u001b[0mk\u001b[0m\u001b[0;34m:\u001b[0m \u001b[0marg\u001b[0m \u001b[0;32mfor\u001b[0m \u001b[0mk\u001b[0m\u001b[0;34m,\u001b[0m \u001b[0marg\u001b[0m \u001b[0;32min\u001b[0m \u001b[0mzip\u001b[0m\u001b[0;34m(\u001b[0m\u001b[0msig\u001b[0m\u001b[0;34m.\u001b[0m\u001b[0mparameters\u001b[0m\u001b[0;34m,\u001b[0m \u001b[0margs\u001b[0m\u001b[0;34m)\u001b[0m\u001b[0;34m}\u001b[0m\u001b[0;34m)\u001b[0m\u001b[0;34m\u001b[0m\u001b[0;34m\u001b[0m\u001b[0m\n\u001b[0;32m---> 46\u001b[0;31m         \u001b[0;32mreturn\u001b[0m \u001b[0mf\u001b[0m\u001b[0;34m(\u001b[0m\u001b[0;34m**\u001b[0m\u001b[0mkwargs\u001b[0m\u001b[0;34m)\u001b[0m\u001b[0;34m\u001b[0m\u001b[0;34m\u001b[0m\u001b[0m\n\u001b[0m\u001b[1;32m     47\u001b[0m     \u001b[0;32mreturn\u001b[0m \u001b[0minner_f\u001b[0m\u001b[0;34m\u001b[0m\u001b[0;34m\u001b[0m\u001b[0m\n\u001b[1;32m     48\u001b[0m \u001b[0;34m\u001b[0m\u001b[0m\n",
      "\u001b[0;32m~/.local/lib/python3.7/site-packages/seaborn/regression.py\u001b[0m in \u001b[0;36mlmplot\u001b[0;34m(x, y, data, hue, col, row, palette, col_wrap, height, aspect, markers, sharex, sharey, hue_order, col_order, row_order, legend, legend_out, x_estimator, x_bins, x_ci, scatter, fit_reg, ci, n_boot, units, seed, order, logistic, lowess, robust, logx, x_partial, y_partial, truncate, x_jitter, y_jitter, scatter_kws, line_kws, size)\u001b[0m\n\u001b[1;32m    591\u001b[0m         \u001b[0mrow_order\u001b[0m\u001b[0;34m=\u001b[0m\u001b[0mrow_order\u001b[0m\u001b[0;34m,\u001b[0m \u001b[0mcol_order\u001b[0m\u001b[0;34m=\u001b[0m\u001b[0mcol_order\u001b[0m\u001b[0;34m,\u001b[0m \u001b[0mhue_order\u001b[0m\u001b[0;34m=\u001b[0m\u001b[0mhue_order\u001b[0m\u001b[0;34m,\u001b[0m\u001b[0;34m\u001b[0m\u001b[0;34m\u001b[0m\u001b[0m\n\u001b[1;32m    592\u001b[0m         \u001b[0mheight\u001b[0m\u001b[0;34m=\u001b[0m\u001b[0mheight\u001b[0m\u001b[0;34m,\u001b[0m \u001b[0maspect\u001b[0m\u001b[0;34m=\u001b[0m\u001b[0maspect\u001b[0m\u001b[0;34m,\u001b[0m \u001b[0mcol_wrap\u001b[0m\u001b[0;34m=\u001b[0m\u001b[0mcol_wrap\u001b[0m\u001b[0;34m,\u001b[0m\u001b[0;34m\u001b[0m\u001b[0;34m\u001b[0m\u001b[0m\n\u001b[0;32m--> 593\u001b[0;31m         \u001b[0msharex\u001b[0m\u001b[0;34m=\u001b[0m\u001b[0msharex\u001b[0m\u001b[0;34m,\u001b[0m \u001b[0msharey\u001b[0m\u001b[0;34m=\u001b[0m\u001b[0msharey\u001b[0m\u001b[0;34m,\u001b[0m \u001b[0mlegend_out\u001b[0m\u001b[0;34m=\u001b[0m\u001b[0mlegend_out\u001b[0m\u001b[0;34m\u001b[0m\u001b[0;34m\u001b[0m\u001b[0m\n\u001b[0m\u001b[1;32m    594\u001b[0m     )\n\u001b[1;32m    595\u001b[0m \u001b[0;34m\u001b[0m\u001b[0m\n",
      "\u001b[0;32m~/.local/lib/python3.7/site-packages/seaborn/_decorators.py\u001b[0m in \u001b[0;36minner_f\u001b[0;34m(*args, **kwargs)\u001b[0m\n\u001b[1;32m     44\u001b[0m             )\n\u001b[1;32m     45\u001b[0m         \u001b[0mkwargs\u001b[0m\u001b[0;34m.\u001b[0m\u001b[0mupdate\u001b[0m\u001b[0;34m(\u001b[0m\u001b[0;34m{\u001b[0m\u001b[0mk\u001b[0m\u001b[0;34m:\u001b[0m \u001b[0marg\u001b[0m \u001b[0;32mfor\u001b[0m \u001b[0mk\u001b[0m\u001b[0;34m,\u001b[0m \u001b[0marg\u001b[0m \u001b[0;32min\u001b[0m \u001b[0mzip\u001b[0m\u001b[0;34m(\u001b[0m\u001b[0msig\u001b[0m\u001b[0;34m.\u001b[0m\u001b[0mparameters\u001b[0m\u001b[0;34m,\u001b[0m \u001b[0margs\u001b[0m\u001b[0;34m)\u001b[0m\u001b[0;34m}\u001b[0m\u001b[0;34m)\u001b[0m\u001b[0;34m\u001b[0m\u001b[0;34m\u001b[0m\u001b[0m\n\u001b[0;32m---> 46\u001b[0;31m         \u001b[0;32mreturn\u001b[0m \u001b[0mf\u001b[0m\u001b[0;34m(\u001b[0m\u001b[0;34m**\u001b[0m\u001b[0mkwargs\u001b[0m\u001b[0;34m)\u001b[0m\u001b[0;34m\u001b[0m\u001b[0;34m\u001b[0m\u001b[0m\n\u001b[0m\u001b[1;32m     47\u001b[0m     \u001b[0;32mreturn\u001b[0m \u001b[0minner_f\u001b[0m\u001b[0;34m\u001b[0m\u001b[0;34m\u001b[0m\u001b[0m\n\u001b[1;32m     48\u001b[0m \u001b[0;34m\u001b[0m\u001b[0m\n",
      "\u001b[0;32m~/.local/lib/python3.7/site-packages/seaborn/axisgrid.py\u001b[0m in \u001b[0;36m__init__\u001b[0;34m(self, data, row, col, hue, col_wrap, sharex, sharey, height, aspect, palette, row_order, col_order, hue_order, hue_kws, dropna, legend_out, despine, margin_titles, xlim, ylim, subplot_kws, gridspec_kws, size)\u001b[0m\n\u001b[1;32m    323\u001b[0m             \u001b[0mhue_names\u001b[0m \u001b[0;34m=\u001b[0m \u001b[0mcategorical_order\u001b[0m\u001b[0;34m(\u001b[0m\u001b[0mdata\u001b[0m\u001b[0;34m[\u001b[0m\u001b[0mhue\u001b[0m\u001b[0;34m]\u001b[0m\u001b[0;34m,\u001b[0m \u001b[0mhue_order\u001b[0m\u001b[0;34m)\u001b[0m\u001b[0;34m\u001b[0m\u001b[0;34m\u001b[0m\u001b[0m\n\u001b[1;32m    324\u001b[0m \u001b[0;34m\u001b[0m\u001b[0m\n\u001b[0;32m--> 325\u001b[0;31m         \u001b[0mcolors\u001b[0m \u001b[0;34m=\u001b[0m \u001b[0mself\u001b[0m\u001b[0;34m.\u001b[0m\u001b[0m_get_palette\u001b[0m\u001b[0;34m(\u001b[0m\u001b[0mdata\u001b[0m\u001b[0;34m,\u001b[0m \u001b[0mhue\u001b[0m\u001b[0;34m,\u001b[0m \u001b[0mhue_order\u001b[0m\u001b[0;34m,\u001b[0m \u001b[0mpalette\u001b[0m\u001b[0;34m)\u001b[0m\u001b[0;34m\u001b[0m\u001b[0;34m\u001b[0m\u001b[0m\n\u001b[0m\u001b[1;32m    326\u001b[0m \u001b[0;34m\u001b[0m\u001b[0m\n\u001b[1;32m    327\u001b[0m         \u001b[0;31m# Set up the lists of names for the row and column facet variables\u001b[0m\u001b[0;34m\u001b[0m\u001b[0;34m\u001b[0m\u001b[0;34m\u001b[0m\u001b[0m\n",
      "\u001b[0;32m~/.local/lib/python3.7/site-packages/seaborn/axisgrid.py\u001b[0m in \u001b[0;36m_get_palette\u001b[0;34m(self, data, hue, hue_order, palette)\u001b[0m\n\u001b[1;32m    215\u001b[0m             \u001b[0;31m# Allow for palette to map from hue variable names\u001b[0m\u001b[0;34m\u001b[0m\u001b[0;34m\u001b[0m\u001b[0;34m\u001b[0m\u001b[0m\n\u001b[1;32m    216\u001b[0m             \u001b[0;32melif\u001b[0m \u001b[0misinstance\u001b[0m\u001b[0;34m(\u001b[0m\u001b[0mpalette\u001b[0m\u001b[0;34m,\u001b[0m \u001b[0mdict\u001b[0m\u001b[0;34m)\u001b[0m\u001b[0;34m:\u001b[0m\u001b[0;34m\u001b[0m\u001b[0;34m\u001b[0m\u001b[0m\n\u001b[0;32m--> 217\u001b[0;31m                 \u001b[0mcolor_names\u001b[0m \u001b[0;34m=\u001b[0m \u001b[0;34m[\u001b[0m\u001b[0mpalette\u001b[0m\u001b[0;34m[\u001b[0m\u001b[0mh\u001b[0m\u001b[0;34m]\u001b[0m \u001b[0;32mfor\u001b[0m \u001b[0mh\u001b[0m \u001b[0;32min\u001b[0m \u001b[0mhue_names\u001b[0m\u001b[0;34m]\u001b[0m\u001b[0;34m\u001b[0m\u001b[0;34m\u001b[0m\u001b[0m\n\u001b[0m\u001b[1;32m    218\u001b[0m                 \u001b[0mcolors\u001b[0m \u001b[0;34m=\u001b[0m \u001b[0mcolor_palette\u001b[0m\u001b[0;34m(\u001b[0m\u001b[0mcolor_names\u001b[0m\u001b[0;34m,\u001b[0m \u001b[0mn_colors\u001b[0m\u001b[0;34m)\u001b[0m\u001b[0;34m\u001b[0m\u001b[0;34m\u001b[0m\u001b[0m\n\u001b[1;32m    219\u001b[0m \u001b[0;34m\u001b[0m\u001b[0m\n",
      "\u001b[0;32m~/.local/lib/python3.7/site-packages/seaborn/axisgrid.py\u001b[0m in \u001b[0;36m<listcomp>\u001b[0;34m(.0)\u001b[0m\n\u001b[1;32m    215\u001b[0m             \u001b[0;31m# Allow for palette to map from hue variable names\u001b[0m\u001b[0;34m\u001b[0m\u001b[0;34m\u001b[0m\u001b[0;34m\u001b[0m\u001b[0m\n\u001b[1;32m    216\u001b[0m             \u001b[0;32melif\u001b[0m \u001b[0misinstance\u001b[0m\u001b[0;34m(\u001b[0m\u001b[0mpalette\u001b[0m\u001b[0;34m,\u001b[0m \u001b[0mdict\u001b[0m\u001b[0;34m)\u001b[0m\u001b[0;34m:\u001b[0m\u001b[0;34m\u001b[0m\u001b[0;34m\u001b[0m\u001b[0m\n\u001b[0;32m--> 217\u001b[0;31m                 \u001b[0mcolor_names\u001b[0m \u001b[0;34m=\u001b[0m \u001b[0;34m[\u001b[0m\u001b[0mpalette\u001b[0m\u001b[0;34m[\u001b[0m\u001b[0mh\u001b[0m\u001b[0;34m]\u001b[0m \u001b[0;32mfor\u001b[0m \u001b[0mh\u001b[0m \u001b[0;32min\u001b[0m \u001b[0mhue_names\u001b[0m\u001b[0;34m]\u001b[0m\u001b[0;34m\u001b[0m\u001b[0;34m\u001b[0m\u001b[0m\n\u001b[0m\u001b[1;32m    218\u001b[0m                 \u001b[0mcolors\u001b[0m \u001b[0;34m=\u001b[0m \u001b[0mcolor_palette\u001b[0m\u001b[0;34m(\u001b[0m\u001b[0mcolor_names\u001b[0m\u001b[0;34m,\u001b[0m \u001b[0mn_colors\u001b[0m\u001b[0;34m)\u001b[0m\u001b[0;34m\u001b[0m\u001b[0;34m\u001b[0m\u001b[0m\n\u001b[1;32m    219\u001b[0m \u001b[0;34m\u001b[0m\u001b[0m\n",
      "\u001b[0;31mKeyError\u001b[0m: 'Archaea'"
     ]
    }
   ],
   "source": [
    "my_pl = {'Eukaryotes':\"#D3772E\", 'Archeae':\"#2686a4\", 'Bacteria':\"#c33543\"} #test1\n",
    "sns.lmplot( x=\"GC\", y=\"DensityGenes\", data=dfGenesDens, fit_reg=False, hue='SpRealm', legend=True, palette=my_pl, scatter_kws={\"s\": 100})\n",
    "plt.title(\"pG4 Densities and GC content with subrealms colored\", loc='left')\n",
    "plt.show()"
   ]
  },
  {
   "cell_type": "code",
   "execution_count": null,
   "metadata": {},
   "outputs": [],
   "source": [
    "my_pl = {'Eukaryotes':\"#D3772E\", 'Archeae':\"#2686a4\", 'Bacteria':\"#c33543\"} #test1\n",
    "dfGenesDens[\"Density\"] = dfGenesDens[\"DensityGenes\"] - dfGenesDens[\"DensShuffl\"]\n",
    "sns.lmplot( x=\"GC\", y=\"Density\", data=dfGenesDens, fit_reg=False, hue='SpRealm', legend=True, palette=my_pl, scatter_kws={\"s\": 100})\n",
    "plt.title(\"pG4 Densities and GC content with subrealms colored\", loc='left')\n",
    "plt.savefig(\"plotpG4DensitiesGene.svg\")\n",
    "plt.show()"
   ]
  },
  {
   "cell_type": "markdown",
   "metadata": {},
   "source": [
    "## Correlation GC - density"
   ]
  },
  {
   "cell_type": "code",
   "execution_count": null,
   "metadata": {},
   "outputs": [],
   "source": [
    "dfTmp = pd.DataFrame()\n",
    "dfTmp = dfTmp.append(dfGenesDens)\n",
    "dfTmp['Group'] = dfTmp.Sp.apply(getGrp)\n",
    "dfTmp[\"Density\"] = dfTmp[\"DensityGenes\"] - dfTmp[\"DensShuffl\"]\n",
    "\n",
    "groupsSp = dfTmp.groupby('Group')\n",
    "for name1, group1 in groupsSp:\n",
    "    print(\"Correlation between pG4 Densities and GC content for \"+name1)\n",
    "    #plt.subplot(1, 3, 1)\n",
    "    sns.regplot(x=\"GC\", y=\"DensityGenes\", data=group1, color=\"#73BCAA\")\n",
    "    #plt.subplot(1, 3, 1)\n",
    "    sns.regplot(x=\"GC\", y=\"DensShuffl\", data=group1, color=\"#E64E46\")\n",
    "    #plt.subplot(1, 3, 1)\n",
    "    sns.regplot(x=\"GC\", y=\"Density\", data=group1)\n",
    "    plt.tight_layout()\n",
    "    plt.show()\n",
    "    GC = np.array(group1[\"GC\"])\n",
    "    DensityWt = np.array(group1[\"DensityGenes\"])\n",
    "    DensityShuf = np.array(group1[\"DensShuffl\"])\n",
    "    corr1 = scipy.stats.linregress(GC, DensityWt)\n",
    "    corr2 = scipy.stats.linregress(GC, DensityShuf)\n",
    "    print (corr1)\n",
    "    print (corr2)"
   ]
  },
  {
   "cell_type": "code",
   "execution_count": null,
   "metadata": {},
   "outputs": [],
   "source": [
    "dfLocCoding['ShortName'] = dfLocCoding.Sp.apply(applyShortName)\n",
    "dfLocCoding['Group'] = dfLocCoding.Sp.apply(getGrp)\n",
    "dfLocCoding[\"Density\"] = dfLocCoding[\"DensityWt\"] - dfLocCoding[\"DensityShuf\"]\n",
    "dfLocCoding = dfLocCoding[dfLocCoding.Biotype == 'protein_coding']\n",
    "\n",
    "groupsClass = dfLocCoding.groupby('Location')\n",
    "for name1, group1 in groupsClass:\n",
    "    groupsClass = group1.groupby('Group')\n",
    "    for name2, group2 in groupsClass:\n",
    "        group2 = group2.drop_duplicates(subset=None, keep='first', inplace=False)\n",
    "        \n",
    "        print(\"Correlation between pG4 Densities and GC content for \"+name1+\" \"+name2)\n",
    "        #plt.subplot(1, 3, 1)\n",
    "        sns.regplot(x=\"GC\", y=\"DensityWt\", data=group2, color=\"#73BCAA\")\n",
    "        #plt.subplot(1, 3, 1)\n",
    "        sns.regplot(x=\"GC\", y=\"DensityShuf\", data=group2, color=\"#E64E46\")\n",
    "        #plt.subplot(1, 3, 1)\n",
    "        sns.regplot(x=\"GC\", y=\"Density\", data=group2)\n",
    "        plt.tight_layout()\n",
    "        plt.show()\n",
    "        GC = np.array(group2[\"GC\"])\n",
    "        DensityWt = np.array(group2[\"DensityWt\"])\n",
    "        DensityShuf = np.array(group2[\"DensityShuf\"])\n",
    "        Density = np.array(group2[\"Density\"])\n",
    "        corr1 = scipy.stats.linregress(GC, DensityWt)\n",
    "        corr2 = scipy.stats.linregress(GC, DensityShuf)\n",
    "        corr3 = scipy.stats.linregress(GC, Density)\n",
    "        print (corr1)\n",
    "        print (corr2)\n",
    "        print (corr3)"
   ]
  },
  {
   "cell_type": "markdown",
   "metadata": {},
   "source": [
    "## Histogram for sp group with WT and Shuffled densities, and their gc content"
   ]
  },
  {
   "cell_type": "code",
   "execution_count": null,
   "metadata": {
    "scrolled": false
   },
   "outputs": [],
   "source": [
    "dfGenesDens['ShortName'] = dfGenesDens.Sp.apply(applyShortName)\n",
    "dfGenesDens['Group'] = dfGenesDens.Sp.apply(getGrp)\n",
    "\n",
    "groupsSp = dfGenesDens.groupby('Group')\n",
    "for name1, group1 in groupsSp:\n",
    "    group1 = group1.drop_duplicates(subset=None, keep='first', inplace=False)\n",
    "    group1 = group1.sort_values('GC')\n",
    "\n",
    "    my_range=range(1,len(group1.index)+1)\n",
    "    plt.subplot(121)\n",
    "    plt.hlines(y=my_range, xmin=group1['DensityGenes'], xmax=group1['DensShuffl'], color='grey')\n",
    "    plt.scatter(group1['DensityGenes'], my_range, color='#73BCAA', label='DensityWt', linewidth=4)\n",
    "    plt.scatter(group1['DensShuffl'], my_range, color='#3C2D16', label='DensityShuf')\n",
    "    plt.legend()\n",
    "    plt.yticks(my_range, group1['ShortName'])\n",
    "    plt.title(\"Wt and Shuffled densities of \"+name1, loc='left')\n",
    "    plt.xlabel('pG4 densities (pG4/kbp)')\n",
    "    plt.ylabel('Species')\n",
    "    plt.xlim([-0.05, +1.20])\n",
    "\n",
    "    plt.subplot(122)\n",
    "    y_pos = np.arange(len(group1['ShortName']))\n",
    "    plt.barh(y_pos, group1['GC'], color='#E64E46', alpha=0.85)\n",
    "    plt.yticks(y_pos, group1['ShortName'])\n",
    "    #plt.title(\"GC content of coding RNA transcripts by species\", loc='left')\n",
    "    plt.xlabel('% of GC content ')\n",
    "    plt.ylabel('Species')\n",
    "\n",
    "    plt.show()"
   ]
  },
  {
   "cell_type": "markdown",
   "metadata": {},
   "source": [
    "## Sp in common with Marsico and al 2019"
   ]
  },
  {
   "cell_type": "code",
   "execution_count": null,
   "metadata": {},
   "outputs": [],
   "source": [
    "dfSparsely = pd.DataFrame()\n",
    "dfSparsely = dfSparsely.append( dfGenesDens[ dfGenesDens.Sp == 'arabidopsis_thaliana' ] )\n",
    "dfSparsely = dfSparsely.append( dfGenesDens[ dfGenesDens.Sp == 'caenorhabditis_elegans' ] )\n",
    "dfSparsely = dfSparsely.append( dfGenesDens[ dfGenesDens.Sp == 'danio_rerio' ] )\n",
    "dfSparsely = dfSparsely.append( dfGenesDens[ dfGenesDens.Sp == 'drosophila_melanogaster' ] )\n",
    "dfSparsely = dfSparsely.append( dfGenesDens[ dfGenesDens.Sp == 'escherichia_coli_str_k_12_substr_mg1655' ] )\n",
    "dfSparsely = dfSparsely.append( dfGenesDens[ dfGenesDens.Sp == 'homo_sapiens' ] )\n",
    "dfSparsely = dfSparsely.append( dfGenesDens[ dfGenesDens.Sp == 'leishmania_major' ] )\n",
    "dfSparsely = dfSparsely.append( dfGenesDens[ dfGenesDens.Sp == 'mus_musculus' ] )\n",
    "dfSparsely = dfSparsely.append( dfGenesDens[ dfGenesDens.Sp == 'saccharomyces_cerevisiae' ] )\n",
    "dfSparsely['ShortName'] = dfSparsely.Sp.apply(applyShortName)\n",
    "dfSparsely = dfSparsely.drop_duplicates(subset=None, keep='first', inplace=False)\n",
    "#print(dfSparsely)\n",
    "\n",
    "dfSparsely['Sp'] = pd.Categorical(\n",
    "    dfSparsely['Sp'],\n",
    "    categories=['homo_sapiens', 'mus_musculus', 'danio_rerio', 'drosophila_melanogaster', \\\n",
    "                'caenorhabditis_elegans', 'saccharomyces_cerevisiae', 'leishmania_major', \\\n",
    "                'arabidopsis_thaliana', 'escherichia_coli_str_k_12_substr_mg1655'],\n",
    "    ordered=True\n",
    ")\n",
    "\n",
    "dfSparsely = dfSparsely.sort_values('Sp')\n",
    "dfSparsely['ShortName'] = dfSparsely['Sp'].map(getShortName())\n",
    "\n",
    "plt.subplot(1, 2, 1)\n",
    "y_pos = np.arange(len(dfSparsely['ShortName']))\n",
    "plt.barh(y_pos, dfSparsely['DensityGenes'], color='#E64E46', alpha=0.85)\n",
    "plt.yticks(y_pos, dfSparsely['ShortName'])\n",
    "#plt.title(\"pG4 densities of RNA transcripts by species\", loc='left')\n",
    "plt.xlabel('pG4 densities (nb pG4 / kpb)')\n",
    "plt.ylabel('Species')\n",
    "\n",
    "plt.subplot(1, 2, 2)\n",
    "y_pos = np.arange(len(dfSparsely['ShortName']))\n",
    "plt.barh(y_pos, dfSparsely['GC'], color='#0F6852', alpha=0.85)\n",
    "plt.yticks(y_pos, dfSparsely['ShortName'])\n",
    "#plt.title(\"GC content of RNA transcripts by species\", loc='left')\n",
    "plt.xlabel('% GC in global transcriptomes')\n",
    "plt.ylabel('Species')\n",
    "plt.tight_layout()"
   ]
  },
  {
   "cell_type": "code",
   "execution_count": null,
   "metadata": {},
   "outputs": [],
   "source": [
    "data = {'pG4' : [288474, 970, 8298, 72, 1153, 204537, 19, 31255],\n",
    "        'G4K' : [242582, 965, 13057, 46, 654, 366584, 69, 77057],\n",
    "        'G4PDS' : [895624, 7647, 38193, 560, 6588, 842340, 337, 184629],\n",
    "        'Sp' : ['Hsap', 'Atha', 'Dmel', 'Ecol', 'Lmaj', 'Mmus', 'Scer', 'Drer']}\n",
    "df = pd.DataFrame(data, columns = ['pG4', 'G4K', 'G4PDS', 'Sp'])\n",
    "df['Sp'] = pd.Categorical(\n",
    "    df['Sp'],\n",
    "    categories=['Hsap', 'Mmus', 'Drer', 'Dmel', 'Scer', 'Lmaj', 'Atha', 'Ecol'],\n",
    "    ordered=True\n",
    ")\n",
    "df = df.sort_values('Sp')\n",
    "print(df)\n"
   ]
  },
  {
   "cell_type": "code",
   "execution_count": null,
   "metadata": {},
   "outputs": [],
   "source": [
    "# set width of bar\n",
    "barWidth = 0.25\n",
    " \n",
    "# set height of bar\n",
    "bars1 = [288474, 204537, 31255, 8298, 19, 970, 1153, 72]\n",
    "bars2 = [242582, 366584, 77057, 13057, 69, 965, 654, 46]\n",
    "bars3 = [895624, 842340, 184629, 38193, 337, 7647, 6588, 560]\n",
    "['Hsap', 'Mmus', 'Drer', 'Dmel', 'Scer', 'Atha', 'Lmaj', 'Ecol']\n",
    "\n",
    "# Set position of bar on X axis\n",
    "r1 = np.arange(len(bars1))\n",
    "r2 = [x + barWidth for x in r1]\n",
    "r3 = [x + barWidth for x in r2]\n",
    " \n",
    "# Make the plot\n",
    "plt.bar(r1, bars1, color='#86a5a9', width=barWidth, edgecolor='white', label='pG4')\n",
    "plt.bar(r2, bars2, color='#767676', width=barWidth, edgecolor='white', label='G4K')\n",
    "plt.bar(r3, bars3, color='#92c582', width=barWidth, edgecolor='white', label='G4PDS')\n",
    " \n",
    "# Add xticks on the middle of the group bars\n",
    "plt.xlabel('group', fontweight='bold')\n",
    "plt.xticks([r + barWidth for r in range(len(bars1))], ['Hsap', 'Mmus', 'Drer', 'Dmel', 'Scer', 'Atha', 'Lmaj', 'Ecol'])\n",
    "plt.yscale('log') \n",
    "# Create legend & Show graphic\n",
    "plt.legend()\n",
    "plt.savefig(\"NumberpG4vsG4Marsico.svg\")\n",
    "plt.show()\n",
    "\n",
    "# Make the plot\n",
    "plt.bar(r1, bars1, color='#86a5a9', width=barWidth, edgecolor='white', label='pG4')\n",
    "plt.bar(r2, bars2, color='#767676', width=barWidth, edgecolor='white', label='G4K')\n",
    "plt.bar(r3, bars3, color='#92c582', width=barWidth, edgecolor='white', label='G4PDS')\n",
    " \n",
    "# Add xticks on the middle of the group bars\n",
    "plt.xlabel('group', fontweight='bold')\n",
    "plt.xticks([r + barWidth for r in range(len(bars1))], ['Hsap', 'Mmus', 'Drer', 'Dmel', 'Scer', 'Atha', 'Lmaj', 'Ecol'])\n",
    "# Create legend & Show graphic\n",
    "plt.legend()\n",
    "plt.show()\n"
   ]
  },
  {
   "cell_type": "markdown",
   "metadata": {},
   "source": [
    "# TRANSCRIPTOME DATA\n",
    "## All locations densyties"
   ]
  },
  {
   "cell_type": "code",
   "execution_count": null,
   "metadata": {},
   "outputs": [],
   "source": [
    "dfAllDens.head()\n",
    "del dfAllDens['index']"
   ]
  },
  {
   "cell_type": "markdown",
   "metadata": {},
   "source": [
    "## pG4 densities in all classes (figure 3)"
   ]
  },
  {
   "cell_type": "code",
   "execution_count": null,
   "metadata": {
    "scrolled": false
   },
   "outputs": [],
   "source": [
    "dfGlobal.head()"
   ]
  },
  {
   "cell_type": "markdown",
   "metadata": {},
   "source": [
    "### Human results\n",
    "\n",
    "This figure can be compared to fig 3 of the first article"
   ]
  },
  {
   "cell_type": "code",
   "execution_count": null,
   "metadata": {
    "scrolled": true
   },
   "outputs": [],
   "source": [
    "dfTmp = pd.DataFrame()\n",
    "dfTmp = dfTmp.append(dfGlobal[dfGlobal.Sp == 'homo_sapiens'])\n",
    "dfTmp = dfTmp.drop_duplicates(subset=None, keep='first', inplace=False)\n",
    "\n",
    "my_range=range(1,len(dfTmp.index)+1)\n",
    "plt.hlines(y=my_range, xmin=dfTmp['DensityWt'], xmax=dfTmp['DensityShuf'], color='grey')\n",
    "plt.scatter(dfTmp['DensityWt'], my_range, color='#73BCAA', label='DensityWt', linewidth=4)\n",
    "plt.scatter(dfTmp['DensityShuf'], my_range, color='#3C2D16', label='DensityShuf')\n",
    "plt.legend()\n",
    "plt.yticks(my_range, dfTmp['Class'])\n",
    "plt.title(\"Wt and Shuffled densities of Classes for human specie\", loc='left')\n",
    "plt.xlabel('pG4 densities (pG4/kbp)')\n",
    "plt.ylabel('Species')"
   ]
  },
  {
   "cell_type": "markdown",
   "metadata": {},
   "source": [
    "### For each specie groupe, get the correlation graphics GC/density"
   ]
  },
  {
   "cell_type": "code",
   "execution_count": null,
   "metadata": {
    "scrolled": true
   },
   "outputs": [],
   "source": [
    "dfTmp = pd.DataFrame()\n",
    "dfTmp = dfTmp.append(dfGlobal[dfGlobal.Class == 'Global'])\n",
    "dfTmp['Group'] = dfTmp.Sp.apply(getGrp)\n",
    "\n",
    "groupsSp = dfTmp.groupby('Group')\n",
    "for name1, group1 in groupsSp:\n",
    "    print(\"Correlation between pG4 Densities and GC content for \"+name1)\n",
    "    plt.subplot(1, 2, 1)\n",
    "    sns.regplot(x=\"GC\", y=\"DensityWt\", data=group1)\n",
    "    plt.subplot(1, 2, 2)\n",
    "    sns.regplot(x=\"GC\", y=\"DensityShuf\", data=group1)\n",
    "    plt.tight_layout()\n",
    "    plt.show()\n",
    "    GC = np.array(group1[\"GC\"])\n",
    "    DensityWt = np.array(group1[\"DensityWt\"])\n",
    "    DensityShuf = np.array(group1[\"DensityShuf\"])\n",
    "    corr1 = scipy.stats.linregress(GC, DensityWt)\n",
    "    corr2 = scipy.stats.linregress(GC, DensityShuf)\n",
    "    print (corr1)\n",
    "    print (corr2)"
   ]
  },
  {
   "cell_type": "markdown",
   "metadata": {},
   "source": [
    "Some species get really high densities, so we removed them to 'better' apprehend the rest of the data (**removal of outliar**). Bacteria is the realm with the higher correlation, followed by archea then eukaryotes.\n",
    "\n",
    "With Shuffle, we can see that the correlation is really higher than for Wt.\n",
    "\n",
    "For eukaryotes, we will go into subrealm.\n"
   ]
  },
  {
   "cell_type": "code",
   "execution_count": null,
   "metadata": {
    "scrolled": true
   },
   "outputs": [],
   "source": [
    "dfTmp = pd.DataFrame()\n",
    "dfTmp = dfTmp.append(dfGlobal[dfGlobal.Class == 'Global'])\n",
    "dfTmp['Group'] = dfTmp.Sp.apply(getGrp)\n",
    "dfTmp = dfTmp[dfTmp.Group == 'Eukaryote']\n",
    "dfTmp['SubRealm'] = dfTmp.Sp.apply(getSubClass)\n",
    "dfTmp = dfTmp[dfTmp.DensityWt <= 0.5]\n",
    "\n",
    "groupsSp = dfTmp.groupby('SubRealm')\n",
    "for name1, group1 in groupsSp:\n",
    "    sns.regplot(x=\"GC\", y=\"DensityWt\", data=group1)\n",
    "    plt.title(\"Correlation between pG4 Densities and GC content for \"+name1, loc='left')\n",
    "    plt.show()\n",
    "    GC = group1[\"GC\"]\n",
    "    DensityWt = group1[\"DensityWt\"]\n",
    "    r_petal = np.corrcoef(GC, DensityWt) # bereken de correlatie\n",
    "    print (\"Correlation is : \" + str(r_petal[0][1]))\n",
    "sns.lmplot( x=\"GC\", y=\"DensityWt\", data=dfTmp, fit_reg=False, hue='SubRealm', legend=True, palette=dict(Vertebrate=\"red\", Protist=\"yellow\", Plant=\"green\", Fungi=\"purple\", Metazoa=\"brown\"))\n",
    "plt.title(\"Correlation between pG4 Densities and GC content for eukaryote with subrealms colored\", loc='left')\n",
    "plt.show()\n",
    "sns.lmplot( x=\"GC\", y=\"DensityShuf\", data=dfTmp, fit_reg=False, hue='SubRealm', legend=True, palette=dict(Vertebrate=\"red\", Protist=\"yellow\", Plant=\"green\", Fungi=\"purple\", Metazoa=\"brown\"))\n",
    "plt.title(\"Correlation between pG4 Densities and GC content for eukaryote with subrealms colored\", loc='left')\n",
    "plt.show()"
   ]
  },
  {
   "cell_type": "markdown",
   "metadata": {},
   "source": [
    "So if we go deeper in the classifation of eukaryotes, the correlation seems to lower.\n",
    "\n",
    "\n",
    "Lets's check densities for each group of species and each class.\n",
    "\n",
    "## densities of each Tr classes and each sp group"
   ]
  },
  {
   "cell_type": "code",
   "execution_count": null,
   "metadata": {
    "scrolled": false
   },
   "outputs": [],
   "source": [
    "dfGlobal['ShortName'] = dfGlobal.Sp.apply(applyShortName)\n",
    "dfGlobal['Group'] = dfGlobal.Sp.apply(getGrp)\n",
    "\n",
    "groupsSp = dfGlobal.groupby('Group')\n",
    "for name1, group1 in groupsSp:\n",
    "    groupsClass = group1.groupby('Class')\n",
    "    for name2, group2 in groupsClass:\n",
    "        group2 = group2.drop_duplicates(subset=None, keep='first', inplace=False)\n",
    "        group2 = group2.sort_values('GC')\n",
    "\n",
    "        my_range=range(1,len(group2.index)+1)\n",
    "        plt.subplot(121)\n",
    "        plt.hlines(y=my_range, xmin=group2['DensityWt'], xmax=group2['DensityShuf'], color='grey')\n",
    "        plt.scatter(group2['DensityWt'], my_range, color='#73BCAA', label='DensityWt', linewidth=4)\n",
    "        plt.scatter(group2['DensityShuf'], my_range, color='#3C2D16', label='DensityShuf')\n",
    "        plt.legend()\n",
    "        plt.yticks(my_range, group2['ShortName'])\n",
    "        plt.title(\"Wt and Shuffled densities of \"+name2+\" Classes of \"+name1, loc='left')\n",
    "        plt.xlabel('pG4 densities (pG4/kbp)')\n",
    "        plt.ylabel('Species')\n",
    "        if name2 =='Coding':\n",
    "            plt.xlim([-0.05, +1.20])\n",
    "        elif name2 == 'ShortNC':\n",
    "            plt.xlim([-0.05, +0.60])\n",
    "\n",
    "        plt.subplot(122)\n",
    "        y_pos = np.arange(len(group2['ShortName']))\n",
    "        plt.barh(y_pos, group2['GC'], color='#E64E46', alpha=0.85)\n",
    "        plt.yticks(y_pos, group2['ShortName'])\n",
    "        #plt.title(\"GC content of coding RNA transcripts by species\", loc='left')\n",
    "        plt.xlabel('% of GC content ')\n",
    "        plt.ylabel('Species')\n",
    "        \n",
    "        #plt.savefig(name1+\"-\"+name2+\".svg\")\n",
    "\n",
    "        plt.show()"
   ]
  },
  {
   "cell_type": "code",
   "execution_count": null,
   "metadata": {
    "scrolled": true
   },
   "outputs": [],
   "source": [
    "dfGlobal['ShortName'] = dfGlobal.Sp.apply(applyShortName)\n",
    "dfGlobal['Group'] = dfGlobal.Sp.apply(getGrp)\n",
    "\n",
    "groupsSp = dfGlobal.groupby('Group')\n",
    "for name1, group1 in groupsSp:\n",
    "    groupsClass = group1.groupby('Class')\n",
    "    for name2, group2 in groupsClass:\n",
    "        group2 = group2.drop_duplicates(subset=None, keep='first', inplace=False)\n",
    "        group2 = group2.sort_values('GC')\n",
    "        \n",
    "        \n",
    "        fig, axs = plt.subplots(1, 2, sharex='col',\n",
    "                        gridspec_kw={'hspace': 0, 'wspace': 0, 'width_ratios' : [2,1]})\n",
    "        (ax1, ax2)= axs\n",
    "        fig.suptitle('WT and Shuffled density with GC content for '+name1+' in '+name2+' transcripts.')    \n",
    "        \n",
    "        my_range=range(1,len(group2.index)+1)\n",
    "        ax1.hlines(y=my_range, xmin=group2['DensityWt'], xmax=group2['DensityShuf'], color='grey')\n",
    "        ax1.scatter(group2['DensityWt'], my_range, color='#73BCAA', label='DensityWt', linewidth=4)\n",
    "        ax1.scatter(group2['DensityShuf'], my_range, color='#3C2D16', label='DensityShuf')\n",
    "        if name2 =='Coding' or name2 == 'Global':\n",
    "            ax1.set_xlim([-0.05, +1.20])\n",
    "        elif name2 == 'ShortNC':\n",
    "            ax1.set_xlim([-0.05, +0.60])\n",
    "        y = np.arange(len(group2['ShortName'])+1)\n",
    "        yLabels = ['']\n",
    "        yLabels.extend( list(group2['ShortName']) )\n",
    "        ax1.set_yticks(y)\n",
    "        ax1.set_yticklabels(yLabels, fontdict=None, minor=False)\n",
    "        ax1.legend()\n",
    "        y_pos = np.arange(len(group2['ShortName']))\n",
    "        ax2.barh(y_pos, group2['GC'], color='#E64E46', alpha=0.85)\n",
    "        for ax in axs.flat:\n",
    "            ax.label_outer()\n",
    "        #plt.savefig(name1+\"-\"+name2+\".svg\")\n",
    "        plt.show()\n",
    "        #print(group2)"
   ]
  },
  {
   "cell_type": "code",
   "execution_count": null,
   "metadata": {
    "scrolled": true
   },
   "outputs": [],
   "source": [
    "dfGlobal['ShortName'] = dfGlobal.Sp.apply(applyShortName)\n",
    "dfGlobal['Group'] = dfGlobal.Sp.apply(getGrp)\n",
    "\n",
    "groupsSp = dfGlobal.groupby('Group')\n",
    "for name1, group1 in groupsSp:\n",
    "    groupsClass = group1.groupby('Class')\n",
    "    for name2, group2 in groupsClass:\n",
    "        group2 = group2.drop_duplicates(subset=None, keep='first', inplace=False)\n",
    "        group2 = group2.sort_values('GC')\n",
    "        group2['GC'] = round(group2['GC'], 2)\n",
    "\n",
    "        my_range=range(1,len(group2.index)+1)\n",
    "        #plt.subplot(121)\n",
    "        plt.hlines(y=my_range, xmin=group2['DensityWt'], xmax=group2['DensityShuf'], color='grey')\n",
    "        plt.scatter(group2['DensityWt'], my_range, color='#73BCAA', label='DensityWt', linewidth=4)\n",
    "        plt.scatter(group2['DensityShuf'], my_range, color='#3C2D16', label='DensityShuf')\n",
    "        plt.legend()\n",
    "        plt.yticks(my_range, group2['ShortName'])\n",
    "        plt.title(\"Wt and Shuffled densities of \"+name2+\" Classes of \"+name1, loc='left')\n",
    "        plt.xlabel('pG4 densities (pG4/kbp)')\n",
    "        plt.ylabel('Species')\n",
    "        \n",
    "        # Create labels\n",
    "        label = list(group2['GC'])\n",
    "        r = list(range(1,len(label)+1))\n",
    "        maxi = [ max(list( group2['DensityWt'] )), max(list( group2['DensityShuf'] ))]\n",
    "        plt.xlim([-0.05, max(maxi)+0.25])\n",
    "\n",
    "        # Text on the top of each barplot\n",
    "        for i in range(0,len(r)):\n",
    "            plt.text(x = max(maxi)+0.1, y = r[i], s = label[i], size = 10)\n",
    "        plt.tight_layout()\n",
    "        plt.show()"
   ]
  },
  {
   "cell_type": "markdown",
   "metadata": {},
   "source": [
    "### Correlations"
   ]
  },
  {
   "cell_type": "code",
   "execution_count": null,
   "metadata": {},
   "outputs": [],
   "source": [
    "dfGlobal['ShortName'] = dfGlobal.Sp.apply(applyShortName)\n",
    "dfGlobal['Group'] = dfGlobal.Sp.apply(getGrp)\n",
    "\n",
    "groupsSp = dfGlobal.groupby('Group')\n",
    "for name1, group1 in groupsSp:\n",
    "    groupsClass = group1.groupby('Class')\n",
    "    for name2, group2 in groupsClass:\n",
    "        group2 = group2.drop_duplicates(subset=None, keep='first', inplace=False)\n",
    "        \n",
    "        print(\"Correlation between pG4 Densities and GC content for \"+name1+\" \"+name2)\n",
    "        plt.subplot(1, 2, 1)\n",
    "        sns.regplot(x=\"GC\", y=\"DensityWt\", data=group2)\n",
    "        plt.subplot(1, 2, 2)\n",
    "        sns.regplot(x=\"GC\", y=\"DensityShuf\", data=group2)\n",
    "        plt.tight_layout()\n",
    "        plt.show()\n",
    "        GC = np.array(group2[\"GC\"])\n",
    "        DensityWt = np.array(group2[\"DensityWt\"])\n",
    "        DensityShuf = np.array(group2[\"DensityShuf\"])\n",
    "        corr1 = scipy.stats.linregress(GC, DensityWt)\n",
    "        corr2 = scipy.stats.linregress(GC, DensityShuf)\n",
    "        print (corr1)\n",
    "        print (corr2)"
   ]
  },
  {
   "cell_type": "code",
   "execution_count": null,
   "metadata": {},
   "outputs": [],
   "source": [
    "dfGlobal['ShortName'] = dfGlobal.Sp.apply(applyShortName)\n",
    "dfGlobal['Group'] = dfGlobal.Sp.apply(getGrp)\n",
    "dfGlobal[\"Density\"] = dfGlobal[\"DensityWt\"] - dfGlobal[\"DensityShuf\"]\n",
    "\n",
    "groupsSp = dfGlobal.groupby('Group')\n",
    "for name1, group1 in groupsSp:\n",
    "    groupsClass = group1.groupby('Class')\n",
    "    for name2, group2 in groupsClass:\n",
    "        group2 = group2.drop_duplicates(subset=None, keep='first', inplace=False)\n",
    "        \n",
    "        print(\"Correlation between pG4 Densities and GC content for \"+name1+\" \"+name2)\n",
    "        #plt.subplot(1, 3, 1)\n",
    "        sns.regplot(x=\"GC\", y=\"DensityWt\", data=group2, color=\"#73BCAA\")\n",
    "        #plt.subplot(1, 3, 1)\n",
    "        sns.regplot(x=\"GC\", y=\"DensityShuf\", data=group2, color=\"#E64E46\")\n",
    "        #plt.subplot(1, 3, 1)\n",
    "        sns.regplot(x=\"GC\", y=\"Density\", data=group2)\n",
    "        plt.tight_layout()\n",
    "        plt.show()\n",
    "        GC = np.array(group2[\"GC\"])\n",
    "        DensityWt = np.array(group2[\"DensityWt\"])\n",
    "        DensityShuf = np.array(group2[\"DensityShuf\"])\n",
    "        Density = np.array(group2[\"Density\"])\n",
    "        corr1 = scipy.stats.linregress(GC, DensityWt)\n",
    "        corr2 = scipy.stats.linregress(GC, DensityShuf)\n",
    "        corr3 = scipy.stats.linregress(GC, Density)\n",
    "        print (corr1)\n",
    "        print (corr2)\n",
    "        print (corr3)"
   ]
  },
  {
   "cell_type": "markdown",
   "metadata": {},
   "source": [
    "| Realm       |                                                                                    Eukaryota                                                                                   |                                                                                                                                  Archea                                                                                                                                 |                                                                                                                                                         Bacteria                                                                                                                                                         |\n",
    "|-------------|:------------------------------------------------------------------------------------------------------------------------------------------------------------------------------:|:-----------------------------------------------------------------------------------------------------------------------------------------------------------------------------------------------------------------------------------------------------------------------:|:------------------------------------------------------------------------------------------------------------------------------------------------------------------------------------------------------------------------------------------------------------------------------------------------------------------------:|\n",
    "| Global      | Really looks like the coding graph. Surelly because there is mainly coding transcript annotated.                                                                               | Really looks like the coding graph. Surelly because there is mainly coding transcript annotated.                                                                                                                                                                        | Really looks like the coding graph. Surelly because there is mainly coding transcript annotated.                                                                                                                                                                                                                         |\n",
    "| Coding      | - It seems ther is a light correlation between the GC content and the densities. Yet, middle ranged GC seems to get higher densities than those whith high GC. - Wt > Shuffle. | - Globaly, it seems there is a correlation between GC content and densities. Yet, in some case lower GC still get higher densitise than higher GC. - Overall, Shuffled > Wt exept for *Pyrobaculum aerophilum*, *Candidatus korarchaeum* and *Sulfolobus solfataricus*. | - There seems to be a strong exponential correlation between GC content and densities. - If there is pG4, Shuffled > Wt exept for *Thermus thermophilus* where Wt >> Shuffle. - ~ < 43%GC there is no G4                                                                                                                 |\n",
    "| LongNC      | -Not all species are annotated. - It seems there is no correlation between GC/densities. - Wt > Shuffle                                                                        | Na                                                                                                                                                                                                                                                                      | Densites = 0                                                                                                                                                                                                                                                                                                             |\n",
    "| ShortNC     | - It seems ther is a light correlation here. - Mainly Wt > Shuffl                                                                                                              | - Same comments than coding class about the correlation GC/densities - Shuffled > Wt exept for *Pyrobaculum aerophilum*                                                                                                                                                 | - It seems there is a tendency of a correlation between GC content and densities, but it's not as 'flashy' as for coding. - There is pG4 Shuffle densities even in lower GC content. Here le lowest GC content is ~43.                                                                                                   |\n",
    "| Pseudogenes | - It seems there is a correlation between GC/densities. - Wt > Shuffle of Shuff = Wt =~ 0                                                                                      | Annotation only for *Halobacterium salinarum*, Shuffle > Wt.                                                                                                                                                                                                            | - Not all bacteria get pseudgenes annotated. - *Mycobacterium tuberculosis* get a higher densities comare to other species  which are almost all at 0. - Strange/Fun fact -> *Campylobacter jejuni* is the specie with the lower GC content, yet it's the only one with Wt > Shuffle. Even if the density is close to 0. |\n",
    "| None        | Densities = 0 or Wt > Shuffle except for *Aspergilus nidulans* with Shuffl >>> Wt.                                                                                             | Densites = 0                                                                                                                                                                                                                                                            | Densites = 0 except for *Myxococcus xanthus*                                                                                                                                                                                                                                                                             |"
   ]
  },
  {
   "cell_type": "markdown",
   "metadata": {},
   "source": [
    "## pG4 densities by Tr classes all sp coloured\n",
    "### Only WT density "
   ]
  },
  {
   "cell_type": "code",
   "execution_count": null,
   "metadata": {
    "scrolled": true
   },
   "outputs": [],
   "source": [
    "dfGlobal['Group'] = dfGlobal.Sp.apply(getSubClass)\n",
    "\n",
    "groupsClass = dfGlobal.groupby('Class')\n",
    "for name2, group2 in groupsClass:\n",
    "    group2 = group2.drop_duplicates(subset=None, keep='first', inplace=False)\n",
    "    group2 = group2.sort_values('GC')\n",
    "\n",
    "    #my_pl = {'Vertebrate':\"#DD8585\", 'Protist':\"#E5C85E\", 'Plant':\"#5EB787\", 'Fungi':\"#C9C1DD\",\n",
    "             #'Metazoa':\"#B58B73\", 'Archeae':\"#ABD8D3\", 'Bacteria':\"#D5A4C3\"} #initial one\n",
    "    my_pl = {'Vertebrate':\"#f4861f\", 'Protist':\"#caa638\", 'Plant':\"#537344\", 'Fungi':\"#454166\",\n",
    "             'Metazoa':\"#9e9193\", 'Archeae':\"#2686a4\", 'Bacteria':\"#c33543\"} #test1\n",
    "    \n",
    "    sns.lmplot( x=\"GC\", y=\"DensityWt\", data=group2, fit_reg=False, hue='Group', legend=True, palette=my_pl, scatter_kws={\"s\": 100})\n",
    "    plt.title(\"pG4 Densities and GC content with subrealms colored for \"+name2+\" transcripts.\", loc='left')\n",
    "    plt.show()"
   ]
  },
  {
   "cell_type": "markdown",
   "metadata": {},
   "source": [
    "### Only Shuffled density"
   ]
  },
  {
   "cell_type": "code",
   "execution_count": null,
   "metadata": {},
   "outputs": [],
   "source": [
    "dfGlobal['Group'] = dfGlobal.Sp.apply(getSubClass)\n",
    "\n",
    "groupsClass = dfGlobal.groupby('Class')\n",
    "for name2, group2 in groupsClass:\n",
    "    group2 = group2.drop_duplicates(subset=None, keep='first', inplace=False)\n",
    "    group2 = group2.sort_values('GC')\n",
    "    \n",
    "    my_pl = {'Vertebrate':\"#f4861f\", 'Protist':\"#caa638\", 'Plant':\"#537344\", 'Fungi':\"#454166\",\n",
    "             'Metazoa':\"#9e9193\", 'Archeae':\"#2686a4\", 'Bacteria':\"#c33543\"} #test1\n",
    "\n",
    "    sns.lmplot( x=\"GC\", y=\"DensityShuf\", data=group2, fit_reg=False, hue='Group', legend=True, palette=my_pl, scatter_kws={\"s\": 100})\n",
    "    plt.title(\"pG4 Densities and GC content with subrealms colored for \"+name2+\" transcripts.\", loc='left')\n",
    "    plt.show()"
   ]
  },
  {
   "cell_type": "markdown",
   "metadata": {},
   "source": [
    "### Wt minus Shuffled"
   ]
  },
  {
   "cell_type": "code",
   "execution_count": null,
   "metadata": {
    "scrolled": false
   },
   "outputs": [],
   "source": [
    "dfGlobal['Group'] = dfGlobal.Sp.apply(getSubClass)\n",
    "dfGlobal['WtShuff'] = dfGlobal[\"DensityWt\"] - dfGlobal[\"DensityShuf\"]\n",
    "\n",
    "groupsClass = dfGlobal.groupby('Class')\n",
    "for name2, group2 in groupsClass:\n",
    "    group2 = group2.drop_duplicates(subset=None, keep='first', inplace=False)\n",
    "    group2 = group2.sort_values('GC')\n",
    "    if name2 == 'ShortNC':\n",
    "        print(group2)\n",
    "\n",
    "    my_pl = {'Vertebrate':\"#f4861f\", 'Protist':\"#caa638\", 'Plant':\"#537344\", 'Fungi':\"#454166\",\n",
    "             'Metazoa':\"#9e9193\", 'Archeae':\"#2686a4\", 'Bacteria':\"#c33543\"} #test1\n",
    "    \n",
    "    sns.lmplot( x=\"GC\", y=\"WtShuff\", data=group2, fit_reg=False, hue='Group', legend=True, palette=my_pl, scatter_kws={\"s\": 100})\n",
    "    plt.title(\"pG4 Densities and GC content with subrealms colored for \"+name2+\" transcripts.\", loc='left')\n",
    "    plt.show()"
   ]
  },
  {
   "cell_type": "markdown",
   "metadata": {},
   "source": [
    "## Correlation density vs other things"
   ]
  },
  {
   "cell_type": "markdown",
   "metadata": {},
   "source": [
    "In the litterature, it seems to appear there is a **link between pG4 and pathogenicity**, So will try to check that."
   ]
  },
  {
   "cell_type": "code",
   "execution_count": null,
   "metadata": {},
   "outputs": [],
   "source": [
    "dfTmp = pd.DataFrame()\n",
    "dfTmp = dfTmp.append(dfGlobal[dfGlobal.Class == 'Global'])\n",
    "dfTmp = dfTmp[dfTmp.Group == 'Bacteria']\n",
    "dfTmp['Patho'] = dfTmp.Sp.apply(getPatho)\n",
    "dfTmp = dfTmp[dfTmp.DensityWt <= 0.4]\n",
    "\n",
    "sns.FacetGrid(dfTmp, hue=\"Patho\", size=10) \\\n",
    "   .map(plt.scatter, \"GC\", \"DensityWt\") \\\n",
    "   .add_legend()\n",
    "sns.regplot(x=\"GC\", y=\"DensityWt\", data=dfTmp, scatter=False)\n",
    "plt.title(\"Correlation between pG4 Densities and GC content for bacteria with pathogenicity species colored\", loc='left')\n",
    "plt.show()\n",
    "GC = group1[\"GC\"]\n",
    "DensityWt = group1[\"DensityWt\"]\n",
    "r_petal = np.corrcoef(GC, DensityWt) # bereken de correlatie\n",
    "print (\"Correlation is : \" + str(r_petal[0][1]))"
   ]
  },
  {
   "cell_type": "code",
   "execution_count": null,
   "metadata": {},
   "outputs": [],
   "source": [
    "# TEMPERATURE\n",
    "dfTmp = pd.DataFrame()\n",
    "dfTmp = dfTmp.append(dfGlobal[dfGlobal.Group == 'Bacteria'])\n",
    "dfTmp = dfTmp[dfTmp.Class == 'Global']\n",
    "dfTmp['Temp'] = dfTmp.Sp.apply(getTemp)\n",
    "dfTmp = dfTmp[dfTmp.DensityWt <= 0.4]\n",
    "del dfTmp['PercentShuf']\n",
    "del dfTmp['nuclC']\n",
    "del dfTmp['nbTr']\n",
    "del dfTmp['NbpG4rWt']\n",
    "del dfTmp['NbpG4rShuf']\n",
    "del dfTmp['NbTrpG4Wt']\n",
    "del dfTmp['NbTrpG4Shuf']\n",
    "del dfTmp['Tot']\n",
    "del dfTmp['nuclG']\n",
    "del dfTmp['PercentWt']\n",
    "dfTmp = dfTmp.drop_duplicates(subset=None, keep='first', inplace=False)\n",
    "\n",
    "sns.pairplot(dfTmp, kind=\"reg\", hue = \"Group\")\n",
    "plt.show()\n",
    "\n",
    "dfTmp = pd.DataFrame()\n",
    "dfTmp = dfTmp.append(dfGlobal[dfGlobal.Group == 'Archeae'])\n",
    "dfTmp = dfTmp[dfTmp.Class == 'Global']\n",
    "dfTmp['Temp'] = dfTmp.Sp.apply(getTemp)\n",
    "dfTmp = dfTmp[dfTmp.DensityWt <= 0.4]\n",
    "\n",
    "del dfTmp['PercentShuf']\n",
    "del dfTmp['nuclC']\n",
    "del dfTmp['nuclG']\n",
    "del dfTmp['nbTr']\n",
    "del dfTmp['NbpG4rWt']\n",
    "del dfTmp['NbpG4rShuf']\n",
    "del dfTmp['NbTrpG4Wt']\n",
    "del dfTmp['NbTrpG4Shuf']\n",
    "del dfTmp['Tot']\n",
    "del dfTmp['PercentWt']\n",
    "dfTmp = dfTmp.drop_duplicates(subset=None, keep='first', inplace=False)\n",
    "\n",
    "sns.pairplot(dfTmp, kind=\"reg\", hue = \"Group\")\n",
    "plt.show()"
   ]
  },
  {
   "cell_type": "markdown",
   "metadata": {},
   "source": [
    "The distribution of pG4 densities seems similar between path/non path species. Yet I think I lack non pathogenic species to conclued on this. Thus I have 6 species non pathogenic against 17 pathogenic which is a bit disbalanced. Also, just to mention, I've been rather 'large' at the definition of pathonic species. It include food poisning, nausocomial deseases, rare form of certain deseases etc., and also can infect human or other species. Yet, normally I only have animals pathogen.\n",
    "\n",
    "Maybe pG4 in pathogenic species get special function, but there do seems to be a difference of densities between pathogenic adn non pathogenic species.\n",
    "\n",
    "**Conlusion**\n",
    "\n",
    "With all those figures, we can remove some classes which are not enough annotated :\n",
    "* Long non coding transcripts\n",
    "* Pseudogenes\n",
    "* None biotype (mainly predicted transcript - TEC)\n",
    "\n",
    "We can also confirm that there is a correlation between pG4 densities and GC content, yet it is different for each realm of life. \n",
    "\n",
    "**From here I will not comment the correlation execpt if I observe something that do correspond to have we found here.**\n",
    "\n",
    "##  Conding classes\n",
    "### Global check at the presence of subclasses"
   ]
  },
  {
   "cell_type": "code",
   "execution_count": null,
   "metadata": {},
   "outputs": [],
   "source": [
    "print(dfClassCoding.head())\n",
    "print(list(set(dfClassCoding.Biotype)))"
   ]
  },
  {
   "cell_type": "markdown",
   "metadata": {},
   "source": [
    "We can see a lot of different biotype. We know that annotations may change from a speceis to another so will try to see for each species what subclasses they have or not.\n",
    "\n",
    "(heatmap not proportional)"
   ]
  },
  {
   "cell_type": "code",
   "execution_count": null,
   "metadata": {
    "scrolled": false
   },
   "outputs": [],
   "source": [
    "dftmp = pd.DataFrame()\n",
    "dicoSp = dicoGrpSp()\n",
    "dico = {'Eukaryote' : {},\n",
    "        'Archeae' : {},\n",
    "        'Bacteria' : {}}\n",
    "for sp in list(set(dfClassCoding.Sp)):\n",
    "    grp = dicoSp[sp]\n",
    "    for biotype in list(set(dfClassCoding.Biotype)):\n",
    "        if biotype not in dico[grp]:\n",
    "                dico[grp][biotype] = {}\n",
    "        if biotype in list(set(dfClassCoding[dfClassCoding.Sp == sp].Biotype)):\n",
    "            dico[grp][biotype][sp] = 1\n",
    "        else:\n",
    "            dico[grp][biotype][sp] = 0\n",
    "for grpSp in dico:\n",
    "    dfPresBt = pd.DataFrame.from_dict(dico[grpSp])\n",
    "    sns.heatmap(dfPresBt, cmap=\"YlGnBu\")\n",
    "    plt.show()"
   ]
  },
  {
   "cell_type": "markdown",
   "metadata": {},
   "source": [
    "We can see that exept for proteins coding, there is no common subclass between every species. In eukaryotes, Mmus and Hsap share a lot of subclasses but except them, those subclasses are not shared in the anotation we have.\n",
    "\n",
    "We can reasonably **limit our study to protein coding class**, which should be the same results as the globa lcoding from fig 3."
   ]
  },
  {
   "cell_type": "markdown",
   "metadata": {},
   "source": [
    "### Coding subclasses and their location\n",
    "Like figure 5 in article 1"
   ]
  },
  {
   "cell_type": "code",
   "execution_count": null,
   "metadata": {},
   "outputs": [],
   "source": [
    "dfLocCoding.head()\n",
    "del dfLocCoding['index']"
   ]
  },
  {
   "cell_type": "markdown",
   "metadata": {},
   "source": [
    "Know will try to see what is the 'distribution' of location among species."
   ]
  },
  {
   "cell_type": "code",
   "execution_count": null,
   "metadata": {
    "scrolled": true
   },
   "outputs": [],
   "source": [
    "dftmp = pd.DataFrame()\n",
    "dfLocCoding['ShortName'] = dfLocCoding.Sp.apply(applyShortName)\n",
    "dfLocCoding['Group'] = dfLocCoding.Sp.apply(getGrp)\n",
    "dfLocCoding = dfLocCoding[dfLocCoding.Biotype == 'protein_coding']\n",
    "\n",
    "groupsClass = dfLocCoding.groupby('Location')\n",
    "for name2, group2 in groupsClass:\n",
    "    group2 = group2[group2.DensityWt <= 0.4]\n",
    "    group2 = group2.drop_duplicates(subset=None, keep='first', inplace=False)\n",
    "    \n",
    "    print(\"Wt and Shuffled densities of \"+name2)\n",
    "    \n",
    "    dftmp = group2[group2.Group == 'Eukaryote']\n",
    "    dftmp = dftmp.sort_values('GC')\n",
    "    my_range=range(1,len(dftmp.index)+1)\n",
    "    plt.figure(figsize=(15,7))\n",
    "    plt.subplot(1, 6, 1)\n",
    "    plt.hlines(y=my_range, xmin=dftmp['DensityWt'], xmax=dftmp['DensityShuf'], color='grey')\n",
    "    plt.scatter(dftmp['DensityWt'], my_range, color='#73BCAA', label='DensityWt', linewidth=4)\n",
    "    plt.scatter(dftmp['DensityShuf'], my_range, color='#3C2D16', label='DensityShuf')\n",
    "    plt.legend()\n",
    "    plt.yticks(my_range, dftmp['ShortName'])\n",
    "    #plt.title(\"Wt and Shuffled densities of \"+name2+\" of \", loc='left')\n",
    "    plt.xlabel('pG4 densities (pG4/kbp)')\n",
    "    plt.ylabel('Species')\n",
    "\n",
    "    plt.subplot(1, 6, 2)\n",
    "    y_pos = np.arange(len(dftmp['ShortName']))\n",
    "    plt.barh(y_pos, dftmp['GC'], color='#E64E46', alpha=0.85)\n",
    "    plt.yticks(y_pos, dftmp['ShortName'])\n",
    "    #plt.title(\"GC content of coding RNA transcripts by species\", loc='left')\n",
    "    plt.xlabel('% of GC content ')\n",
    "    plt.ylabel('Species')\n",
    "    \n",
    "    dftmp = group2[group2.Group == 'Archeae']\n",
    "    dftmp = dftmp.sort_values('GC')\n",
    "    my_range=range(1,len(dftmp.index)+1)\n",
    "    plt.subplot(1, 6, 3)\n",
    "    plt.hlines(y=my_range, xmin=dftmp['DensityWt'], xmax=dftmp['DensityShuf'], color='grey')\n",
    "    plt.scatter(dftmp['DensityWt'], my_range, color='#73BCAA', label='DensityWt', linewidth=4)\n",
    "    plt.scatter(dftmp['DensityShuf'], my_range, color='#3C2D16', label='DensityShuf')\n",
    "    plt.legend()\n",
    "    plt.yticks(my_range, dftmp['ShortName'])\n",
    "    #plt.title(\"Wt and Shuffled densities of \"+name2+\" of \", loc='left')\n",
    "    plt.xlabel('pG4 densities (pG4/kbp)')\n",
    "    plt.ylabel('Species')\n",
    "\n",
    "    plt.subplot(1, 6, 4)\n",
    "    y_pos = np.arange(len(dftmp['ShortName']))\n",
    "    plt.barh(y_pos, dftmp['GC'], color='#E64E46', alpha=0.85)\n",
    "    plt.yticks(y_pos, dftmp['ShortName'])\n",
    "    #plt.title(\"GC content of coding RNA transcripts by species\", loc='left')\n",
    "    plt.xlabel('% of GC content ')\n",
    "    plt.ylabel('Species')\n",
    "    \n",
    "    dftmp = group2[group2.Group == 'Bacteria']\n",
    "    dftmp = dftmp.sort_values('GC')\n",
    "    my_range=range(1,len(dftmp.index)+1)\n",
    "    plt.subplot(1, 6, 5)\n",
    "    plt.hlines(y=my_range, xmin=dftmp['DensityWt'], xmax=dftmp['DensityShuf'], color='grey')\n",
    "    plt.scatter(dftmp['DensityWt'], my_range, color='#73BCAA', label='DensityWt', linewidth=4)\n",
    "    plt.scatter(dftmp['DensityShuf'], my_range, color='#3C2D16', label='DensityShuf')\n",
    "    plt.legend()\n",
    "    plt.yticks(my_range, dftmp['ShortName'])\n",
    "    #plt.title(\"Wt and Shuffled densities of \"+name2+\" of \", loc='left')\n",
    "    plt.xlabel('pG4 densities (pG4/kbp)')\n",
    "    plt.ylabel('Species')\n",
    "\n",
    "    plt.subplot(1, 6, 6)\n",
    "    y_pos = np.arange(len(dftmp['ShortName']))\n",
    "    plt.barh(y_pos, dftmp['GC'], color='#E64E46', alpha=0.85)\n",
    "    plt.yticks(y_pos, dftmp['ShortName'])\n",
    "    #plt.title(\"GC content of coding RNA transcripts by species\", loc='left')\n",
    "    plt.xlabel('% of GC content ')\n",
    "    plt.ylabel('Species')\n",
    "    \n",
    "    plt.tight_layout()\n",
    "    plt.show()"
   ]
  },
  {
   "cell_type": "markdown",
   "metadata": {},
   "source": [
    "| Realm             |                                        Eukaryote                                       |                                                                  Archeae                                                                  |                                                                                  Bacteria                                                                                 |\n",
    "|-------------------|:--------------------------------------------------------------------------------------:|:-----------------------------------------------------------------------------------------------------------------------------------------:|:-------------------------------------------------------------------------------------------------------------------------------------------------------------------------:|\n",
    "| Exon              | - Wt > Shuff                                                                           | - really close of CDS observation only there jsut 2 sp at ~= 0 pG4                                                                        | Observation are almost the same than CDS                                                                                                                                  |\n",
    "| Intron            | - Wt > Shuff - densities really clsoe to 0                                             | Na                                                                                                                                        | - just 5 species have annotated intron ( which seems normal, there is not a lot of intron in bacteria) - densities = 0 expect shuffle of *Bacillus subtilis* where d ~= 1 |\n",
    "| 5UTR              | -Wt > Shuff, Still I should filter sp with a certain amount of location                | Na                                                                                                                                        | Na                                                                                                                                                                        |\n",
    "| CDS               | - Hsap and Mmus ??? Results exist but they are not in the fig ?? - Overall Shuffl = Wt | - There on ly 3 species with both densities ~= 0. - Overall Shuffl > Wt except for *Candidatus korarchaeum* and *Pyrobaculum aerophilum*. | - *Thermus thermophilus* Wt >>> Shuffle, but the rest half = 0 and the other half Shuff > Wt                                                                              |\n",
    "| 3UTR              | - Wt > Shuff - Shuffl almost always close to 0 - ~= 40% GC, densities are = 0          | Na                                                                                                                                        | Na                                                                                                                                                                        |\n",
    "| Start Codon       | - Shuff > Wt - There a lot of species with high densities                              | Here Shuffle always > Wt                                                                                                                  | - half = 0 and the other half Shuff > Wt                                                                                                                                  |\n",
    "| Stop Codon        | - Shuff > Wt - almost all densities are close 0                                        | - Here Shuffle always > Wt - 3 higher GC species are not the one with the higher pG4 densities                                            | - half = 0 and the other half Shuff > Wt - compared to start codon, the 'distribution' of the density is not the same                                                     |\n",
    "| Donnor junction   | - almost all densties are = 0 or close to.                                             | Na                                                                                                                                        | - just 5 species have annotated intron ( which seems normal, there is not a lot of intron in bacteria) - densities = 0                                                    |\n",
    "| Acceptor junction | - Hsap and Mmus ok - midle range GC have high densities - Overall Shuffl > Wt          | Na                                                                                                                                        | - just 5 species have annotated intron ( which seems normal, there is not a lot of intron in bacteria) - densities = 0                                                    |\n",
    "| Junction CDS-CDS  | - Shuff < Wt - densities really close to 0                                             | Na                                                                                                                                        | - just 5 species have annotated intron ( which seems normal, there is not a lot of intron in bacteria) - densities = 0                                                    |"
   ]
  },
  {
   "cell_type": "code",
   "execution_count": null,
   "metadata": {
    "scrolled": true
   },
   "outputs": [],
   "source": [
    "my_pl = {'Vertebrate':\"#f4861f\", 'Protist':\"#caa638\", 'Plant':\"#537344\", 'Fungi':\"#454166\",\n",
    "             'Metazoa':\"#9e9193\", 'Archeae':\"#2686a4\", 'Bacteria':\"#c33543\"} #test1\n",
    "\n",
    "dfLocCoding['ShortName'] = dfLocCoding.Sp.apply(applyShortName)\n",
    "dfLocCoding['Group'] = dfLocCoding.Sp.apply(getSubClass)\n",
    "dfLocCoding = dfLocCoding[dfLocCoding.Biotype == 'protein_coding']\n",
    "\n",
    "dfLocCoding[\"Density\"] = dfLocCoding[\"DensityWt\"] - dfLocCoding[\"DensityShuf\"]\n",
    "\n",
    "#dftmp = pd.DataFrame()\n",
    "\n",
    "#dftmp = dftmp.append(dfLocCoding[dfLocCoding.Location == 'intron'])\n",
    "\n",
    "groupsClass = dfLocCoding.groupby('Location')\n",
    "for name2, group2 in groupsClass:\n",
    "    group2 = group2.drop_duplicates(subset=None, keep='first', inplace=False)\n",
    "\n",
    "    sns.lmplot( x=\"GC\", y=\"Density\", data=group2, fit_reg=False, hue='Group', legend=True, palette=my_pl, scatter_kws={\"s\": 100})\n",
    "    plt.title(\"pG4 Densities and GC content for \"+name2, loc='left')\n",
    "    plt.show()"
   ]
  },
  {
   "cell_type": "markdown",
   "metadata": {},
   "source": [
    "For eukaryotes, we should know check the proportion of transcripts with those location, because even if the location is present, it is possible that there is just a few transcript with it."
   ]
  },
  {
   "cell_type": "code",
   "execution_count": null,
   "metadata": {
    "scrolled": true
   },
   "outputs": [],
   "source": [
    "dftmp = pd.DataFrame()\n",
    "for sp in list(set(dfLocCoding.Sp)):\n",
    "    if dicoSp[sp] == 'Eukaryote':\n",
    "        dftmp = dftmp.append( dfLocCoding[dfLocCoding.Sp == sp] )\n",
    "groups = dftmp.groupby('Location')\n",
    "for name, group in groups:\n",
    "    print(name)\n",
    "    print(group[['NbLocation','Sp','Location', 'Biotype']].drop_duplicates(subset=None, keep='first', inplace=False))"
   ]
  },
  {
   "cell_type": "markdown",
   "metadata": {},
   "source": [
    "We can see that even if it is normal to get differents number of location between species, some differences may be due to the annotation. The most flagrent example is UTR, not all subclasses of coding transcript get UTR, and even if in some case UTR are annotated but just a few (4 UTR for saccharomyces cerevisiae)\n",
    "\n",
    "### Correlation GC content and density by loc for each subclass of Coding transcripts"
   ]
  },
  {
   "cell_type": "code",
   "execution_count": null,
   "metadata": {},
   "outputs": [],
   "source": [
    "dftmp = pd.DataFrame()\n",
    "dfLocCoding['ShortName'] = dfLocCoding.Sp.apply(applyShortName)\n",
    "dfLocCoding['Group'] = dfLocCoding.Sp.apply(getGrp)\n",
    "dfLocCoding = dfLocCoding[dfLocCoding.Biotype == 'protein_coding']\n",
    "\n",
    "groupsClass = dfLocCoding.groupby('Location')\n",
    "for name2, group2 in groupsClass:\n",
    "    print(\"Correlation between pG4 Densities and GC content for \"+name2)\n",
    "    \n",
    "    plt.subplot(1, 2, 1)\n",
    "    sns.FacetGrid(group2, hue=\"Group\")\\\n",
    "       .add_legend()\n",
    "    #sns.regplot(x=\"GC\", y=\"DensityWt\", data=group2, scatter=False)\n",
    "    plt.subplot(1, 2, 2)\n",
    "    sns.FacetGrid(group2, hue=\"Group\") \\\n",
    "       .map(plt.scatter, \"GC\", \"DensityShuf\") \\\n",
    "       .add_legend()\n",
    "    #sns.regplot(x=\"GC\", y=\"DensityShuf\", data=group2, scatter=False)\n",
    "    #plt.tight_layout()\n",
    "    plt.show()\n",
    "    GC = np.array(group2[\"GC\"])\n",
    "    DensityWt = np.array(group2[\"DensityWt\"])\n",
    "    DensityShuf = np.array(group2[\"DensityShuf\"])\n",
    "    corr1 = scipy.stats.linregress(GC, DensityWt)\n",
    "    corr2 = scipy.stats.linregress(GC, DensityShuf)\n",
    "    print (corr1)\n",
    "    print (corr2)"
   ]
  },
  {
   "cell_type": "code",
   "execution_count": null,
   "metadata": {
    "scrolled": true
   },
   "outputs": [],
   "source": [
    "dfLocCoding['ShortName'] = dfLocCoding.Sp.apply(applyShortName)\n",
    "dfLocCoding['Group'] = dfLocCoding.Sp.apply(getGrp)\n",
    "dfLocCoding[\"Density\"] = dfLocCoding[\"DensityWt\"] - dfLocCoding[\"DensityShuf\"]\n",
    "dfLocCoding = dfLocCoding[dfLocCoding.Biotype == 'protein_coding']\n",
    "\n",
    "groupsClass = dfLocCoding.groupby('Location')\n",
    "for name1, group1 in groupsClass:\n",
    "    groupsClass = group1.groupby('Group')\n",
    "    for name2, group2 in groupsClass:\n",
    "        group2 = group2.drop_duplicates(subset=None, keep='first', inplace=False)\n",
    "        \n",
    "        print(\"Correlation between pG4 Densities and GC content for \"+name1+\" \"+name2)\n",
    "        #plt.subplot(1, 3, 1)\n",
    "        sns.regplot(x=\"GC\", y=\"DensityWt\", data=group2, color=\"#73BCAA\")\n",
    "        #plt.subplot(1, 3, 1)\n",
    "        sns.regplot(x=\"GC\", y=\"DensityShuf\", data=group2, color=\"#E64E46\")\n",
    "        #plt.subplot(1, 3, 1)\n",
    "        sns.regplot(x=\"GC\", y=\"Density\", data=group2)\n",
    "        plt.tight_layout()\n",
    "        plt.show()\n",
    "        GC = np.array(group2[\"GC\"])\n",
    "        DensityWt = np.array(group2[\"DensityWt\"])\n",
    "        DensityShuf = np.array(group2[\"DensityShuf\"])\n",
    "        Density = np.array(group2[\"Density\"])\n",
    "        corr1 = scipy.stats.linregress(GC, DensityWt)\n",
    "        corr2 = scipy.stats.linregress(GC, DensityShuf)\n",
    "        corr3 = scipy.stats.linregress(GC, Density)\n",
    "        print (corr1)\n",
    "        print (corr2)\n",
    "        print (corr3)"
   ]
  },
  {
   "cell_type": "code",
   "execution_count": null,
   "metadata": {
    "scrolled": true
   },
   "outputs": [],
   "source": [
    "dfLocCoding['ShortName'] = dfLocCoding.Sp.apply(applyShortName)\n",
    "dfLocCoding['Group'] = dfLocCoding.Sp.apply(getGrp)\n",
    "dfLocCoding[\"Density\"] = dfLocCoding[\"DensityWt\"] - dfLocCoding[\"DensityShuf\"]\n",
    "dfLocCoding = dfLocCoding[dfLocCoding.Biotype == 'protein_coding']\n",
    "\n",
    "groupsClass = dfLocCoding.groupby('Location')\n",
    "for name1, group1 in groupsClass:\n",
    "    if name1 in [\"acceptor\", \"donor\", \"junction\", \"intron\"]:\n",
    "        group1 = group1.drop_duplicates(subset=None, keep='first', inplace=False)\n",
    "\n",
    "        dfEuk = pd.DataFrame()\n",
    "        dfBact = pd.DataFrame()\n",
    "\n",
    "        dfEuk = dfEuk.append(group1[group1.Group == 'Eukaryote'])\n",
    "        dfBact = dfBact.append(group1[group1.Group == 'Bacteria'])\n",
    "\n",
    "        print(\"Correlation between pG4 Densities and GC content for \"+name1)\n",
    "        sns.regplot(x=\"GC\", y=\"Density\", data=dfEuk, color=\"#57a554\")\n",
    "        sns.regplot(x=\"GC\", y=\"Density\", data=dfBact, color=\"#c33543\")\n",
    "        plt.tight_layout()\n",
    "        plt.show()\n",
    "\n",
    "        GC = np.array(dfEuk[\"GC\"])\n",
    "        DensityWt = np.array(dfEuk[\"Density\"])\n",
    "        corr1 = scipy.stats.linregress(GC, DensityWt)\n",
    "        print (corr1)\n",
    "        GC = np.array(dfBact[\"GC\"])\n",
    "        Density = np.array(dfBact[\"Density\"])\n",
    "        corr3 = scipy.stats.linregress(GC, Density)\n",
    "        print (corr3)\n",
    "    elif name1 in [\"five_prime_utr\", \"three_prime_utr\"]:\n",
    "        group1 = group1.drop_duplicates(subset=None, keep='first', inplace=False)\n",
    "\n",
    "        dfEuk = pd.DataFrame()\n",
    "\n",
    "        dfEuk = dfEuk.append(group1[group1.Group == 'Eukaryote'])\n",
    "\n",
    "        print(\"Correlation between pG4 Densities and GC content for \"+name1)\n",
    "        sns.regplot(x=\"GC\", y=\"Density\", data=dfEuk, color=\"#57a554\")\n",
    "        plt.tight_layout()\n",
    "        plt.show()\n",
    "\n",
    "        GC = np.array(dfEuk[\"GC\"])\n",
    "        DensityWt = np.array(dfEuk[\"Density\"])\n",
    "        corr1 = scipy.stats.linregress(GC, DensityWt)\n",
    "        print (corr1)\n",
    "    else:\n",
    "        group1 = group1.drop_duplicates(subset=None, keep='first', inplace=False)\n",
    "\n",
    "        dfEuk = pd.DataFrame()\n",
    "        dfArch = pd.DataFrame()\n",
    "        dfBact = pd.DataFrame()\n",
    "\n",
    "        dfEuk = dfEuk.append(group1[group1.Group == 'Eukaryote'])\n",
    "        dfArch = dfArch.append(group1[group1.Group == 'Archeae'])\n",
    "        dfBact = dfBact.append(group1[group1.Group == 'Bacteria'])\n",
    "\n",
    "        print(\"Correlation between pG4 Densities and GC content for \"+name1)\n",
    "        #plt.subplot(1, 3, 1)\n",
    "        sns.regplot(x=\"GC\", y=\"Density\", data=dfEuk, color=\"#57a554\")\n",
    "        #plt.subplot(1, 3, 1)\n",
    "        sns.regplot(x=\"GC\", y=\"Density\", data=dfArch, color=\"#2686a4\")\n",
    "        #plt.subplot(1, 3, 1)\n",
    "        sns.regplot(x=\"GC\", y=\"Density\", data=dfBact, color=\"#c33543\")\n",
    "        plt.tight_layout()\n",
    "        plt.show()\n",
    "\n",
    "        GC = np.array(dfEuk[\"GC\"])\n",
    "        DensityWt = np.array(dfEuk[\"Density\"])\n",
    "        corr1 = scipy.stats.linregress(GC, DensityWt)\n",
    "        print (corr1)\n",
    "        GC = np.array(dfArch[\"GC\"])\n",
    "        DensityShuf = np.array(dfArch[\"Density\"])\n",
    "        corr2 = scipy.stats.linregress(GC, DensityShuf)\n",
    "        print (corr2)\n",
    "        GC = np.array(dfBact[\"GC\"])\n",
    "        Density = np.array(dfBact[\"Density\"])\n",
    "        corr3 = scipy.stats.linregress(GC, Density)\n",
    "        print (corr3)"
   ]
  },
  {
   "cell_type": "markdown",
   "metadata": {},
   "source": [
    "## Non coding transcipts\n",
    "can be compared to figure 6 of the first article\n",
    "### check the presence of subclasses of transcripts"
   ]
  },
  {
   "cell_type": "code",
   "execution_count": 18,
   "metadata": {},
   "outputs": [
    {
     "data": {
      "text/html": [
       "<div>\n",
       "<style scoped>\n",
       "    .dataframe tbody tr th:only-of-type {\n",
       "        vertical-align: middle;\n",
       "    }\n",
       "\n",
       "    .dataframe tbody tr th {\n",
       "        vertical-align: top;\n",
       "    }\n",
       "\n",
       "    .dataframe thead th {\n",
       "        text-align: right;\n",
       "    }\n",
       "</style>\n",
       "<table border=\"1\" class=\"dataframe\">\n",
       "  <thead>\n",
       "    <tr style=\"text-align: right;\">\n",
       "      <th></th>\n",
       "      <th>Biotype</th>\n",
       "      <th>Class</th>\n",
       "      <th>NbTrpG4Shuf</th>\n",
       "      <th>NbTrpG4Wt</th>\n",
       "      <th>NbpG4rShuf</th>\n",
       "      <th>NbpG4rWt</th>\n",
       "      <th>PercentShuf</th>\n",
       "      <th>PercentWt</th>\n",
       "      <th>Tot</th>\n",
       "      <th>nbTr</th>\n",
       "      <th>nuclA</th>\n",
       "      <th>nuclC</th>\n",
       "      <th>nuclG</th>\n",
       "      <th>nuclT</th>\n",
       "      <th>GC</th>\n",
       "      <th>DensityWt</th>\n",
       "      <th>DensityShuf</th>\n",
       "      <th>Sp</th>\n",
       "      <th>Group</th>\n",
       "    </tr>\n",
       "  </thead>\n",
       "  <tbody>\n",
       "    <tr>\n",
       "      <th>0</th>\n",
       "      <td>ncRNA</td>\n",
       "      <td>LongNC</td>\n",
       "      <td>0</td>\n",
       "      <td>0</td>\n",
       "      <td>0</td>\n",
       "      <td>0</td>\n",
       "      <td>0.000000</td>\n",
       "      <td>0.0</td>\n",
       "      <td>315</td>\n",
       "      <td>1</td>\n",
       "      <td>94</td>\n",
       "      <td>84</td>\n",
       "      <td>50</td>\n",
       "      <td>87</td>\n",
       "      <td>42.539683</td>\n",
       "      <td>0.0</td>\n",
       "      <td>0.000000</td>\n",
       "      <td>methanobrevibacter_smithii_atcc_35061</td>\n",
       "      <td>Archeae</td>\n",
       "    </tr>\n",
       "    <tr>\n",
       "      <th>1</th>\n",
       "      <td>rRNA</td>\n",
       "      <td>LongNC</td>\n",
       "      <td>2</td>\n",
       "      <td>0</td>\n",
       "      <td>5</td>\n",
       "      <td>0</td>\n",
       "      <td>9.523810</td>\n",
       "      <td>0.0</td>\n",
       "      <td>23753</td>\n",
       "      <td>21</td>\n",
       "      <td>5903</td>\n",
       "      <td>6269</td>\n",
       "      <td>5725</td>\n",
       "      <td>5856</td>\n",
       "      <td>50.494674</td>\n",
       "      <td>0.0</td>\n",
       "      <td>0.210500</td>\n",
       "      <td>methanobrevibacter_smithii_atcc_35061</td>\n",
       "      <td>Archeae</td>\n",
       "    </tr>\n",
       "    <tr>\n",
       "      <th>2</th>\n",
       "      <td>LongNC</td>\n",
       "      <td>LongNC</td>\n",
       "      <td>2</td>\n",
       "      <td>0</td>\n",
       "      <td>5</td>\n",
       "      <td>0</td>\n",
       "      <td>13.333333</td>\n",
       "      <td>0.0</td>\n",
       "      <td>24068</td>\n",
       "      <td>15</td>\n",
       "      <td>5997</td>\n",
       "      <td>6353</td>\n",
       "      <td>5775</td>\n",
       "      <td>5943</td>\n",
       "      <td>50.390560</td>\n",
       "      <td>0.0</td>\n",
       "      <td>0.207745</td>\n",
       "      <td>methanobrevibacter_smithii_atcc_35061</td>\n",
       "      <td>Archeae</td>\n",
       "    </tr>\n",
       "    <tr>\n",
       "      <th>3</th>\n",
       "      <td>rRNA</td>\n",
       "      <td>ShortNC</td>\n",
       "      <td>2</td>\n",
       "      <td>0</td>\n",
       "      <td>0</td>\n",
       "      <td>0</td>\n",
       "      <td>9.523810</td>\n",
       "      <td>0.0</td>\n",
       "      <td>1015</td>\n",
       "      <td>21</td>\n",
       "      <td>296</td>\n",
       "      <td>247</td>\n",
       "      <td>206</td>\n",
       "      <td>266</td>\n",
       "      <td>44.630542</td>\n",
       "      <td>0.0</td>\n",
       "      <td>0.000000</td>\n",
       "      <td>methanobrevibacter_smithii_atcc_35061</td>\n",
       "      <td>Archeae</td>\n",
       "    </tr>\n",
       "    <tr>\n",
       "      <th>4</th>\n",
       "      <td>tRNA</td>\n",
       "      <td>ShortNC</td>\n",
       "      <td>0</td>\n",
       "      <td>0</td>\n",
       "      <td>0</td>\n",
       "      <td>0</td>\n",
       "      <td>0.000000</td>\n",
       "      <td>0.0</td>\n",
       "      <td>5210</td>\n",
       "      <td>69</td>\n",
       "      <td>1081</td>\n",
       "      <td>1531</td>\n",
       "      <td>1522</td>\n",
       "      <td>1076</td>\n",
       "      <td>58.598848</td>\n",
       "      <td>0.0</td>\n",
       "      <td>0.000000</td>\n",
       "      <td>methanobrevibacter_smithii_atcc_35061</td>\n",
       "      <td>Archeae</td>\n",
       "    </tr>\n",
       "  </tbody>\n",
       "</table>\n",
       "</div>"
      ],
      "text/plain": [
       "  Biotype    Class  NbTrpG4Shuf  NbTrpG4Wt  NbpG4rShuf  NbpG4rWt  PercentShuf  \\\n",
       "0   ncRNA   LongNC            0          0           0         0     0.000000   \n",
       "1    rRNA   LongNC            2          0           5         0     9.523810   \n",
       "2  LongNC   LongNC            2          0           5         0    13.333333   \n",
       "3    rRNA  ShortNC            2          0           0         0     9.523810   \n",
       "4    tRNA  ShortNC            0          0           0         0     0.000000   \n",
       "\n",
       "   PercentWt    Tot  nbTr  nuclA  nuclC  nuclG  nuclT         GC  DensityWt  \\\n",
       "0        0.0    315     1     94     84     50     87  42.539683        0.0   \n",
       "1        0.0  23753    21   5903   6269   5725   5856  50.494674        0.0   \n",
       "2        0.0  24068    15   5997   6353   5775   5943  50.390560        0.0   \n",
       "3        0.0   1015    21    296    247    206    266  44.630542        0.0   \n",
       "4        0.0   5210    69   1081   1531   1522   1076  58.598848        0.0   \n",
       "\n",
       "   DensityShuf                                     Sp    Group  \n",
       "0     0.000000  methanobrevibacter_smithii_atcc_35061  Archeae  \n",
       "1     0.210500  methanobrevibacter_smithii_atcc_35061  Archeae  \n",
       "2     0.207745  methanobrevibacter_smithii_atcc_35061  Archeae  \n",
       "3     0.000000  methanobrevibacter_smithii_atcc_35061  Archeae  \n",
       "4     0.000000  methanobrevibacter_smithii_atcc_35061  Archeae  "
      ]
     },
     "execution_count": 18,
     "metadata": {},
     "output_type": "execute_result"
    }
   ],
   "source": [
    "dfNonCoding['Group'] = dfNonCoding.Sp.apply(getGrp)\n",
    "dfNonCoding.head()"
   ]
  },
  {
   "cell_type": "code",
   "execution_count": 20,
   "metadata": {
    "scrolled": false
   },
   "outputs": [
    {
     "name": "stdout",
     "output_type": "stream",
     "text": [
      "retained_intron\n",
      "{'danio_rerio', 'mus_musculus', 'homo_sapiens'}\n"
     ]
    },
    {
     "data": {
      "image/png": "[encoded data removed]",
      "text/plain": [
       "<Figure size 432x288 with 1 Axes>"
      ]
     },
     "metadata": {
      "needs_background": "light"
     },
     "output_type": "display_data"
    },
    {
     "name": "stdout",
     "output_type": "stream",
     "text": [
      "---------------\n",
      "antisense_RNA\n",
      "{'caenorhabditis_elegans'}\n"
     ]
    },
    {
     "data": {
      "image/png": "[encoded data removed]",
      "text/plain": [
       "<Figure size 432x288 with 1 Axes>"
      ]
     },
     "metadata": {
      "needs_background": "light"
     },
     "output_type": "display_data"
    },
    {
     "name": "stdout",
     "output_type": "stream",
     "text": [
      "---------------\n",
      "miRNA\n",
      "{'gallus_gallus', 'danio_rerio', 'ornithorhynchus_anatinus', 'arabidopsis_thaliana', 'anolis_carolinensis', 'pan_troglodytes', 'monodelphis_domestica', 'gasterosteus_aculeatus', 'mus_musculus', 'caenorhabditis_elegans', 'homo_sapiens', 'pongo_abelii'}\n"
     ]
    },
    {
     "data": {
      "image/png": "[encoded data removed]",
      "text/plain": [
       "<Figure size 432x288 with 1 Axes>"
      ]
     },
     "metadata": {
      "needs_background": "light"
     },
     "output_type": "display_data"
    },
    {
     "name": "stdout",
     "output_type": "stream",
     "text": [
      "---------------\n",
      "pre_miRNA\n",
      "{'drosophila_melanogaster', 'caenorhabditis_elegans'}\n"
     ]
    },
    {
     "data": {
      "image/png": "[encoded data removed]",
      "text/plain": [
       "<Figure size 432x288 with 1 Axes>"
      ]
     },
     "metadata": {
      "needs_background": "light"
     },
     "output_type": "display_data"
    },
    {
     "name": "stdout",
     "output_type": "stream",
     "text": [
      "---------------\n",
      "tRNA\n",
      "{'aspergillus_nidulans', 'physcomitrella_patens', 'mycobacterium_tuberculosis_h37rv', 'vitis_vinifera', 'archaeoglobus_fulgidus_dsm_4304', 'wolbachia_endosymbiont_of_drosophila_melanogaster', 'haemophilus_influenzae_rd_kw20', 'nanoarchaeum_equitans_kin4_m', 'apis_mellifera', 'yersinia_pestis_biovar_microtus_str_91001', 'pyrococcus_horikoshii_ot3', 'dictyostelium_discoideum', 'saccharomyces_cerevisiae', 'streptococcus_pneumoniae_tigr4', 'drosophila_melanogaster', 'thermus_thermophilus_hb8', 'aquifex_aeolicus_vf5', 'thermoplasma_acidophilum_dsm_1728', 'francisella_tularensis_subsp_tularensis_schu_s4', 'staphylococcus_aureus_subsp_aureus_n315', 'chloroflexus_aurantiacus_j_10_fl', 'geobacter_sulfurreducens_pca', 'enterococcus_faecalis_v583', 'schizosaccharomyces_pombe', 'methanobrevibacter_smithii_atcc_35061', 'myxococcus_xanthus_dk_1622', 'pyrobaculum_aerophilum_str_im2', 'candidatus_korarchaeum_cryptofilum_opf8', 'chlamydomonas_reinhardtii', 'leishmania_major', 'campylobacter_jejuni_subsp_jejuni_nctc_11168_atcc_700819', 'bacillus_subtilis_subsp_subtilis_str_168', 'neurospora_crassa', 'mycoplasma_pneumoniae_m129', 'neisseria_meningitidis_z2491', 'chlamydia_trachomatis_d_uw_3_cx', 'sulfolobus_solfataricus_p2', 'legionella_pneumophila_str_paris', 'methanosarcina_acetivorans_c2a', 'brucella_abortus_bv_1_str_9_941', 'solanum_lycopersicum', 'escherichia_coli_str_k_12_substr_mg1655', 'arabidopsis_thaliana', 'anaplasma_phagocytophilum_str_hz', 'halobacterium_salinarum_r1', 'oryza_sativa', 'caenorhabditis_elegans', 'hyperthermus_butylicus_dsm_5456', 'cenarchaeum_symbiosum_a', 'borrelia_burgdorferi_b31', 'vibrio_cholerae_o1_biovar_el_tor_str_n16961'}\n"
     ]
    },
    {
     "data": {
      "image/png": "[encoded data removed]",
      "text/plain": [
       "<Figure size 432x288 with 1 Axes>"
      ]
     },
     "metadata": {
      "needs_background": "light"
     },
     "output_type": "display_data"
    },
    {
     "name": "stdout",
     "output_type": "stream",
     "text": [
      "---------------\n",
      "lincRNA\n",
      "{'danio_rerio', 'ornithorhynchus_anatinus', 'anolis_carolinensis', 'pan_troglodytes', 'monodelphis_domestica', 'caenorhabditis_elegans'}\n"
     ]
    },
    {
     "data": {
      "image/png": "[encoded data removed]",
      "text/plain": [
       "<Figure size 432x288 with 1 Axes>"
      ]
     },
     "metadata": {
      "needs_background": "light"
     },
     "output_type": "display_data"
    },
    {
     "name": "stdout",
     "output_type": "stream",
     "text": [
      "---------------\n",
      "snoRNA\n",
      "{'gallus_gallus', 'physcomitrella_patens', 'vitis_vinifera', 'pan_troglodytes', 'mus_musculus', 'apis_mellifera', 'saccharomyces_cerevisiae', 'drosophila_melanogaster', 'schizosaccharomyces_pombe', 'homo_sapiens', 'pongo_abelii', 'chlamydomonas_reinhardtii', 'monodelphis_domestica', 'neurospora_crassa', 'danio_rerio', 'ornithorhynchus_anatinus', 'solanum_lycopersicum', 'arabidopsis_thaliana', 'anolis_carolinensis', 'gasterosteus_aculeatus', 'oryza_sativa', 'caenorhabditis_elegans'}\n"
     ]
    },
    {
     "data": {
      "image/png": "[encoded data removed]",
      "text/plain": [
       "<Figure size 432x288 with 1 Axes>"
      ]
     },
     "metadata": {
      "needs_background": "light"
     },
     "output_type": "display_data"
    },
    {
     "name": "stdout",
     "output_type": "stream",
     "text": [
      "---------------\n",
      "ncRNA\n",
      "{'aspergillus_nidulans', 'mycobacterium_tuberculosis_h37rv', 'archaeoglobus_fulgidus_dsm_4304', 'wolbachia_endosymbiont_of_drosophila_melanogaster', 'haemophilus_influenzae_rd_kw20', 'apis_mellifera', 'yersinia_pestis_biovar_microtus_str_91001', 'pyrococcus_horikoshii_ot3', 'dictyostelium_discoideum', 'saccharomyces_cerevisiae', 'streptococcus_pneumoniae_tigr4', 'drosophila_melanogaster', 'thermus_thermophilus_hb8', 'aquifex_aeolicus_vf5', 'francisella_tularensis_subsp_tularensis_schu_s4', 'staphylococcus_aureus_subsp_aureus_n315', 'chloroflexus_aurantiacus_j_10_fl', 'geobacter_sulfurreducens_pca', 'enterococcus_faecalis_v583', 'schizosaccharomyces_pombe', 'methanobrevibacter_smithii_atcc_35061', 'myxococcus_xanthus_dk_1622', 'pyrobaculum_aerophilum_str_im2', 'candidatus_korarchaeum_cryptofilum_opf8', 'leishmania_major', 'campylobacter_jejuni_subsp_jejuni_nctc_11168_atcc_700819', 'bacillus_subtilis_subsp_subtilis_str_168', 'neurospora_crassa', 'mycoplasma_pneumoniae_m129', 'neisseria_meningitidis_z2491', 'chlamydia_trachomatis_d_uw_3_cx', 'sulfolobus_solfataricus_p2', 'legionella_pneumophila_str_paris', 'methanosarcina_acetivorans_c2a', 'brucella_abortus_bv_1_str_9_941', 'escherichia_coli_str_k_12_substr_mg1655', 'arabidopsis_thaliana', 'anaplasma_phagocytophilum_str_hz', 'halobacterium_salinarum_r1', 'caenorhabditis_elegans', 'hyperthermus_butylicus_dsm_5456', 'borrelia_burgdorferi_b31', 'vibrio_cholerae_o1_biovar_el_tor_str_n16961'}\n"
     ]
    },
    {
     "data": {
      "image/png": "[encoded data removed]",
      "text/plain": [
       "<Figure size 432x288 with 1 Axes>"
      ]
     },
     "metadata": {
      "needs_background": "light"
     },
     "output_type": "display_data"
    },
    {
     "name": "stdout",
     "output_type": "stream",
     "text": [
      "---------------\n",
      "lncRNA\n",
      "{'gallus_gallus', 'arabidopsis_thaliana', 'mus_musculus', 'homo_sapiens'}\n"
     ]
    },
    {
     "data": {
      "image/png": "[encoded data removed]",
      "text/plain": [
       "<Figure size 432x288 with 1 Axes>"
      ]
     },
     "metadata": {
      "needs_background": "light"
     },
     "output_type": "display_data"
    },
    {
     "name": "stdout",
     "output_type": "stream",
     "text": [
      "---------------\n",
      "rRNA\n",
      "{'aspergillus_nidulans', 'gallus_gallus', 'physcomitrella_patens', 'mycobacterium_tuberculosis_h37rv', 'vitis_vinifera', 'pan_troglodytes', 'archaeoglobus_fulgidus_dsm_4304', 'wolbachia_endosymbiont_of_drosophila_melanogaster', 'haemophilus_influenzae_rd_kw20', 'mus_musculus', 'nanoarchaeum_equitans_kin4_m', 'apis_mellifera', 'yersinia_pestis_biovar_microtus_str_91001', 'pyrococcus_horikoshii_ot3', 'saccharomyces_cerevisiae', 'streptococcus_pneumoniae_tigr4', 'drosophila_melanogaster', 'thermus_thermophilus_hb8', 'aquifex_aeolicus_vf5', 'thermoplasma_acidophilum_dsm_1728', 'francisella_tularensis_subsp_tularensis_schu_s4', 'staphylococcus_aureus_subsp_aureus_n315', 'chloroflexus_aurantiacus_j_10_fl', 'geobacter_sulfurreducens_pca', 'enterococcus_faecalis_v583', 'schizosaccharomyces_pombe', 'methanobrevibacter_smithii_atcc_35061', 'homo_sapiens', 'pongo_abelii', 'myxococcus_xanthus_dk_1622', 'pyrobaculum_aerophilum_str_im2', 'candidatus_korarchaeum_cryptofilum_opf8', 'chlamydomonas_reinhardtii', 'leishmania_major', 'campylobacter_jejuni_subsp_jejuni_nctc_11168_atcc_700819', 'monodelphis_domestica', 'bacillus_subtilis_subsp_subtilis_str_168', 'neurospora_crassa', 'mycoplasma_pneumoniae_m129', 'neisseria_meningitidis_z2491', 'chlamydia_trachomatis_d_uw_3_cx', 'sulfolobus_solfataricus_p2', 'legionella_pneumophila_str_paris', 'danio_rerio', 'brucella_abortus_bv_1_str_9_941', 'methanosarcina_acetivorans_c2a', 'ornithorhynchus_anatinus', 'solanum_lycopersicum', 'escherichia_coli_str_k_12_substr_mg1655', 'arabidopsis_thaliana', 'anolis_carolinensis', 'anaplasma_phagocytophilum_str_hz', 'gasterosteus_aculeatus', 'halobacterium_salinarum_r1', 'oryza_sativa', 'caenorhabditis_elegans', 'hyperthermus_butylicus_dsm_5456', 'cenarchaeum_symbiosum_a', 'borrelia_burgdorferi_b31', 'vibrio_cholerae_o1_biovar_el_tor_str_n16961'}\n"
     ]
    },
    {
     "data": {
      "image/png": "[encoded data removed]",
      "text/plain": [
       "<Figure size 432x288 with 1 Axes>"
      ]
     },
     "metadata": {
      "needs_background": "light"
     },
     "output_type": "display_data"
    },
    {
     "name": "stdout",
     "output_type": "stream",
     "text": [
      "---------------\n",
      "RNase_MRP_RNA\n",
      "{'schizosaccharomyces_pombe'}\n"
     ]
    },
    {
     "data": {
      "image/png": "[encoded data removed]",
      "text/plain": [
       "<Figure size 432x288 with 1 Axes>"
      ]
     },
     "metadata": {
      "needs_background": "light"
     },
     "output_type": "display_data"
    },
    {
     "name": "stdout",
     "output_type": "stream",
     "text": [
      "---------------\n",
      "scRNA\n",
      "{'mus_musculus', 'homo_sapiens'}\n"
     ]
    },
    {
     "data": {
      "image/png": "[encoded data removed]",
      "text/plain": [
       "<Figure size 432x288 with 1 Axes>"
      ]
     },
     "metadata": {
      "needs_background": "light"
     },
     "output_type": "display_data"
    },
    {
     "name": "stdout",
     "output_type": "stream",
     "text": [
      "---------------\n",
      "sense_intronic\n",
      "{'danio_rerio'}\n"
     ]
    },
    {
     "data": {
      "image/png": "[encoded data removed]",
      "text/plain": [
       "<Figure size 432x288 with 1 Axes>"
      ]
     },
     "metadata": {
      "needs_background": "light"
     },
     "output_type": "display_data"
    },
    {
     "name": "stdout",
     "output_type": "stream",
     "text": [
      "---------------\n",
      "processed_transcript\n",
      "{'danio_rerio'}\n"
     ]
    },
    {
     "data": {
      "image/png": "[encoded data removed]",
      "text/plain": [
       "<Figure size 432x288 with 1 Axes>"
      ]
     },
     "metadata": {
      "needs_background": "light"
     },
     "output_type": "display_data"
    },
    {
     "name": "stdout",
     "output_type": "stream",
     "text": [
      "---------------\n",
      "sense_overlapping\n",
      "{'danio_rerio'}\n"
     ]
    },
    {
     "data": {
      "image/png": "[encoded data removed]",
      "text/plain": [
       "<Figure size 432x288 with 1 Axes>"
      ]
     },
     "metadata": {
      "needs_background": "light"
     },
     "output_type": "display_data"
    },
    {
     "name": "stdout",
     "output_type": "stream",
     "text": [
      "---------------\n",
      "rRNA_pseudogene\n",
      "{'caenorhabditis_elegans', 'homo_sapiens'}\n"
     ]
    },
    {
     "data": {
      "image/png": "[encoded data removed]",
      "text/plain": [
       "<Figure size 432x288 with 1 Axes>"
      ]
     },
     "metadata": {
      "needs_background": "light"
     },
     "output_type": "display_data"
    },
    {
     "name": "stdout",
     "output_type": "stream",
     "text": [
      "---------------\n",
      "piRNA\n",
      "{'caenorhabditis_elegans'}\n"
     ]
    },
    {
     "data": {
      "image/png": "[encoded data removed]",
      "text/plain": [
       "<Figure size 432x288 with 1 Axes>"
      ]
     },
     "metadata": {
      "needs_background": "light"
     },
     "output_type": "display_data"
    },
    {
     "name": "stdout",
     "output_type": "stream",
     "text": [
      "---------------\n",
      "ShortNC\n",
      "{'aspergillus_nidulans', 'gallus_gallus', 'physcomitrella_patens', 'mycobacterium_tuberculosis_h37rv', 'vitis_vinifera', 'pan_troglodytes', 'archaeoglobus_fulgidus_dsm_4304', 'wolbachia_endosymbiont_of_drosophila_melanogaster', 'haemophilus_influenzae_rd_kw20', 'mus_musculus', 'nanoarchaeum_equitans_kin4_m', 'apis_mellifera', 'yersinia_pestis_biovar_microtus_str_91001', 'pyrococcus_horikoshii_ot3', 'dictyostelium_discoideum', 'saccharomyces_cerevisiae', 'streptococcus_pneumoniae_tigr4', 'drosophila_melanogaster', 'thermus_thermophilus_hb8', 'aquifex_aeolicus_vf5', 'thermoplasma_acidophilum_dsm_1728', 'francisella_tularensis_subsp_tularensis_schu_s4', 'staphylococcus_aureus_subsp_aureus_n315', 'chloroflexus_aurantiacus_j_10_fl', 'geobacter_sulfurreducens_pca', 'enterococcus_faecalis_v583', 'schizosaccharomyces_pombe', 'methanobrevibacter_smithii_atcc_35061', 'homo_sapiens', 'pongo_abelii', 'myxococcus_xanthus_dk_1622', 'pyrobaculum_aerophilum_str_im2', 'candidatus_korarchaeum_cryptofilum_opf8', 'chlamydomonas_reinhardtii', 'leishmania_major', 'campylobacter_jejuni_subsp_jejuni_nctc_11168_atcc_700819', 'monodelphis_domestica', 'bacillus_subtilis_subsp_subtilis_str_168', 'neurospora_crassa', 'mycoplasma_pneumoniae_m129', 'neisseria_meningitidis_z2491', 'chlamydia_trachomatis_d_uw_3_cx', 'sulfolobus_solfataricus_p2', 'legionella_pneumophila_str_paris', 'danio_rerio', 'brucella_abortus_bv_1_str_9_941', 'methanosarcina_acetivorans_c2a', 'ornithorhynchus_anatinus', 'solanum_lycopersicum', 'escherichia_coli_str_k_12_substr_mg1655', 'arabidopsis_thaliana', 'anolis_carolinensis', 'anaplasma_phagocytophilum_str_hz', 'gasterosteus_aculeatus', 'halobacterium_salinarum_r1', 'oryza_sativa', 'caenorhabditis_elegans', 'hyperthermus_butylicus_dsm_5456', 'cenarchaeum_symbiosum_a', 'borrelia_burgdorferi_b31', 'vibrio_cholerae_o1_biovar_el_tor_str_n16961'}\n"
     ]
    },
    {
     "data": {
      "image/png": "[encoded data removed]",
      "text/plain": [
       "<Figure size 432x288 with 1 Axes>"
      ]
     },
     "metadata": {
      "needs_background": "light"
     },
     "output_type": "display_data"
    },
    {
     "name": "stdout",
     "output_type": "stream",
     "text": [
      "---------------\n",
      "ribozyme\n",
      "{'gallus_gallus', 'danio_rerio', 'pan_troglodytes', 'mus_musculus', 'homo_sapiens', 'hyperthermus_butylicus_dsm_5456', 'pyrococcus_horikoshii_ot3'}\n"
     ]
    },
    {
     "data": {
      "image/png": "[encoded data removed]",
      "text/plain": [
       "<Figure size 432x288 with 1 Axes>"
      ]
     },
     "metadata": {
      "needs_background": "light"
     },
     "output_type": "display_data"
    },
    {
     "name": "stdout",
     "output_type": "stream",
     "text": [
      "---------------\n",
      "antisense\n",
      "{'danio_rerio'}\n"
     ]
    },
    {
     "data": {
      "image/png": "[encoded data removed]",
      "text/plain": [
       "<Figure size 432x288 with 1 Axes>"
      ]
     },
     "metadata": {
      "needs_background": "light"
     },
     "output_type": "display_data"
    },
    {
     "name": "stdout",
     "output_type": "stream",
     "text": [
      "---------------\n",
      "LongNC\n",
      "{'gallus_gallus', 'mycobacterium_tuberculosis_h37rv', 'pan_troglodytes', 'archaeoglobus_fulgidus_dsm_4304', 'wolbachia_endosymbiont_of_drosophila_melanogaster', 'haemophilus_influenzae_rd_kw20', 'mus_musculus', 'nanoarchaeum_equitans_kin4_m', 'yersinia_pestis_biovar_microtus_str_91001', 'streptococcus_pneumoniae_tigr4', 'thermus_thermophilus_hb8', 'aquifex_aeolicus_vf5', 'thermoplasma_acidophilum_dsm_1728', 'staphylococcus_aureus_subsp_aureus_n315', 'chloroflexus_aurantiacus_j_10_fl', 'enterococcus_faecalis_v583', 'methanobrevibacter_smithii_atcc_35061', 'homo_sapiens', 'myxococcus_xanthus_dk_1622', 'pyrobaculum_aerophilum_str_im2', 'candidatus_korarchaeum_cryptofilum_opf8', 'monodelphis_domestica', 'mycoplasma_pneumoniae_m129', 'sulfolobus_solfataricus_p2', 'chlamydia_trachomatis_d_uw_3_cx', 'legionella_pneumophila_str_paris', 'danio_rerio', 'brucella_abortus_bv_1_str_9_941', 'methanosarcina_acetivorans_c2a', 'ornithorhynchus_anatinus', 'arabidopsis_thaliana', 'anolis_carolinensis', 'anaplasma_phagocytophilum_str_hz', 'halobacterium_salinarum_r1', 'caenorhabditis_elegans', 'cenarchaeum_symbiosum_a', 'borrelia_burgdorferi_b31', 'vibrio_cholerae_o1_biovar_el_tor_str_n16961'}\n"
     ]
    },
    {
     "data": {
      "image/png": "[encoded data removed]",
      "text/plain": [
       "<Figure size 432x288 with 1 Axes>"
      ]
     },
     "metadata": {
      "needs_background": "light"
     },
     "output_type": "display_data"
    },
    {
     "name": "stdout",
     "output_type": "stream",
     "text": [
      "---------------\n",
      "scaRNA\n",
      "{'gallus_gallus', 'danio_rerio', 'pan_troglodytes', 'mus_musculus', 'homo_sapiens'}\n"
     ]
    },
    {
     "data": {
      "image/png": "[encoded data removed]",
      "text/plain": [
       "<Figure size 432x288 with 1 Axes>"
      ]
     },
     "metadata": {
      "needs_background": "light"
     },
     "output_type": "display_data"
    },
    {
     "name": "stdout",
     "output_type": "stream",
     "text": [
      "---------------\n",
      "misc_RNA\n",
      "{'gallus_gallus', 'danio_rerio', 'ornithorhynchus_anatinus', 'anolis_carolinensis', 'pan_troglodytes', 'monodelphis_domestica', 'gasterosteus_aculeatus', 'mus_musculus', 'homo_sapiens', 'pongo_abelii'}\n"
     ]
    },
    {
     "data": {
      "image/png": "[encoded data removed]",
      "text/plain": [
       "<Figure size 432x288 with 1 Axes>"
      ]
     },
     "metadata": {
      "needs_background": "light"
     },
     "output_type": "display_data"
    },
    {
     "name": "stdout",
     "output_type": "stream",
     "text": [
      "---------------\n",
      "RNase_P_RNA\n",
      "{'neurospora_crassa', 'schizosaccharomyces_pombe'}\n"
     ]
    },
    {
     "data": {
      "image/png": "[encoded data removed]",
      "text/plain": [
       "<Figure size 432x288 with 1 Axes>"
      ]
     },
     "metadata": {
      "needs_background": "light"
     },
     "output_type": "display_data"
    },
    {
     "name": "stdout",
     "output_type": "stream",
     "text": [
      "---------------\n",
      "vaultRNA\n",
      "{'homo_sapiens'}\n"
     ]
    },
    {
     "data": {
      "image/png": "[encoded data removed]",
      "text/plain": [
       "<Figure size 432x288 with 1 Axes>"
      ]
     },
     "metadata": {
      "needs_background": "light"
     },
     "output_type": "display_data"
    },
    {
     "name": "stdout",
     "output_type": "stream",
     "text": [
      "---------------\n",
      "SRP_RNA\n",
      "{'neurospora_crassa', 'schizosaccharomyces_pombe'}\n"
     ]
    },
    {
     "data": {
      "image/png": "[encoded data removed]",
      "text/plain": [
       "<Figure size 432x288 with 1 Axes>"
      ]
     },
     "metadata": {
      "needs_background": "light"
     },
     "output_type": "display_data"
    },
    {
     "name": "stdout",
     "output_type": "stream",
     "text": [
      "---------------\n",
      "sRNA\n",
      "{'gallus_gallus', 'danio_rerio', 'neurospora_crassa', 'mus_musculus', 'homo_sapiens'}\n"
     ]
    },
    {
     "data": {
      "image/png": "[encoded data removed]",
      "text/plain": [
       "<Figure size 432x288 with 1 Axes>"
      ]
     },
     "metadata": {
      "needs_background": "light"
     },
     "output_type": "display_data"
    },
    {
     "name": "stdout",
     "output_type": "stream",
     "text": [
      "---------------\n",
      "snRNA\n",
      "{'aspergillus_nidulans', 'gallus_gallus', 'physcomitrella_patens', 'vitis_vinifera', 'pan_troglodytes', 'archaeoglobus_fulgidus_dsm_4304', 'mus_musculus', 'nanoarchaeum_equitans_kin4_m', 'apis_mellifera', 'pyrococcus_horikoshii_ot3', 'saccharomyces_cerevisiae', 'drosophila_melanogaster', 'schizosaccharomyces_pombe', 'homo_sapiens', 'pongo_abelii', 'chlamydomonas_reinhardtii', 'leishmania_major', 'monodelphis_domestica', 'neurospora_crassa', 'sulfolobus_solfataricus_p2', 'danio_rerio', 'methanosarcina_acetivorans_c2a', 'ornithorhynchus_anatinus', 'solanum_lycopersicum', 'arabidopsis_thaliana', 'anolis_carolinensis', 'gasterosteus_aculeatus', 'halobacterium_salinarum_r1', 'oryza_sativa', 'caenorhabditis_elegans'}\n"
     ]
    },
    {
     "data": {
      "image/png": "[encoded data removed]",
      "text/plain": [
       "<Figure size 432x288 with 1 Axes>"
      ]
     },
     "metadata": {
      "needs_background": "light"
     },
     "output_type": "display_data"
    },
    {
     "name": "stdout",
     "output_type": "stream",
     "text": [
      "---------------\n"
     ]
    }
   ],
   "source": [
    "for bt in set(dfNonCoding['Biotype']):\n",
    "    print(bt)\n",
    "    print(set(dfNonCoding[dfNonCoding.Biotype == bt].Sp))\n",
    "    sns.barplot(x=\"Sp\", y=\"nbTr\", data=dfNonCoding[dfNonCoding.Biotype == bt])\n",
    "    plt.ylim([-0.5, +200])\n",
    "    plt.show()\n",
    "    print('---------------')"
   ]
  },
  {
   "cell_type": "code",
   "execution_count": null,
   "metadata": {
    "scrolled": false
   },
   "outputs": [],
   "source": [
    "dftmp = pd.DataFrame()\n",
    "dico = {'Eukaryote' : {},\n",
    "        'Archeae' : {},\n",
    "        'Bacteria' : {}}\n",
    "dicoSp = dicoGrpSp()\n",
    "listSp = list(set(dfNonCoding.Sp))\n",
    "del listSp[1]\n",
    "for sp in listSp:\n",
    "    grp = dicoSp[sp]\n",
    "    for biotype in list(set(dfNonCoding.Biotype)):\n",
    "        if biotype not in dico[grp]:\n",
    "                dico[grp][biotype] = {}\n",
    "        if biotype in list(set(dfNonCoding[dfNonCoding.Sp == sp].Biotype)):\n",
    "            dico[grp][biotype][sp] = 1\n",
    "        else:\n",
    "            dico[grp][biotype][sp] = 0\n",
    "for grpSp in dico:\n",
    "    dfPresBt = pd.DataFrame.from_dict(dico[grpSp])\n",
    "    dfPresBt = dfPresBt.loc[:, (dfPresBt != 0).any(axis=0)]\n",
    "    if dico[grpSp]:\n",
    "        sns.heatmap(dfPresBt, cmap=\"YlGnBu\")\n",
    "        plt.show()"
   ]
  },
  {
   "cell_type": "markdown",
   "metadata": {},
   "source": [
    "To be in those table, a species need to have Long non coding transcripts **AND** Short non conding. It seems archeae does not get both of them at the same time. This part would be investigated later.\n",
    "\n",
    "For other groups of species, not all species are represented because some of them may not have Long non coding transcripts **AND** Short non conding.\n",
    "\n",
    "We can see that there are a lot (compare to coding) of subclasses in common between different species. To better observe which subclasses are common, empty columns are removed. 'ShortNC' and 'LongNC' are not *real* subclasses, but a global result for at the class level. In bacteria, ncRNA, rRNA, ribozyme and tRNA are the subclasses common in all species that get ShortNC transcript, and antisense is the only LongNC common in those species.\n",
    "For eukaryote, rRNa, sRNA and snoRNA are the SHortNC in common. There is no LongNC in common."
   ]
  },
  {
   "cell_type": "code",
   "execution_count": null,
   "metadata": {
    "scrolled": false
   },
   "outputs": [],
   "source": [
    "dfNonCoding['Sp'] = pd.Categorical(\n",
    "    dfNonCoding['Sp'],\n",
    "    categories=['homo_sapiens','pongo_abelii','monodelphis_domestica','ornithorhynchus_anatinus','anolis_carolinensis','gallus_gallus','gasterosteus_aculeatus','apis_mellifera','neurospora_crassa','aspergillus_nidulans','saccharomyces_cerevisiae','schizosaccharomyces_pombe','dictyostelium_discoideum','arabidopsis_thaliana','vitis_vinifera','solanum_lycopersicum','oryza_sativa','chlamydomonas_reinhardtii','leishmania_major','methanosarcina_acetivorans_c2a','halobacterium_salinarum_r1','hyperthermus_butylicus_dsm_5456','archaeoglobus_fulgidus_dsm_4304','methanobrevibacter_smithii_atcc_35061','pyrococcus_horikoshii_ot3','thermoplasma_acidophilum_dsm_1728','sulfolobus_solfataricus_p2','pyrobaculum_aerophilum_str_im2','candidatus_korarchaeum_cryptofilum_opf8','cenarchaeum_symbiosum_a','aquifex_aeolicus_vf5','mycoplasma_pneumoniae_m129','staphylococcus_aureus_subsp_aureus_n315','bacillus_subtilis_subsp_subtilis_str_168','enterococcus_faecalis_v583','streptococcus_pneumoniae_tigr4','chloroflexus_aurantiacus_j_10_fl','mycobacterium_tuberculosis_h37rv','thermus_thermophilus_hb8','chlamydia_trachomatis_d_uw_3_cx','borrelia_burgdorferi_b31','campylobacter_jejuni_subsp_jejuni_nctc_11168_atcc_700819','myxococcus_xanthus_dk_1622','geobacter_sulfurreducens_pca','wolbachia_endosymbiont_of_drosophila_melanogaster','anaplasma_phagocytophilum_str_hz','brucella_abortus_bv_1_str_9_941','neisseria_meningitidis_z2491','legionella_pneumophila_str_paris','francisella_tularensis_subsp_tularensis_schu_s4','vibrio_cholerae_o1_biovar_el_tor_str_n16961','haemophilus_influenzae_rd_kw20','yersinia_pestis_biovar_microtus_str_91001','escherichia_coli_str_k_12_substr_mg1655'],\n",
    "    ordered=True\n",
    ")\n",
    "dfNonCoding = dfNonCoding.sort_values('Sp')\n",
    "dfNonCoding['ShortName'] = dfNonCoding['Sp'].map(getShortName())\n",
    "my_range=range(1,len(dfNonCoding.index)+1)\n",
    "plt.subplot(121)\n",
    "plt.hlines(y=my_range, xmin=dfNonCoding['DensityWt'], xmax=dfNonCoding['DensityShuf'], color='grey')\n",
    "plt.scatter(dfNonCoding['DensityWt'], my_range, color='#73BCAA', label='DensityWt', linewidth=4)\n",
    "plt.scatter(dfNonCoding['DensityShuf'], my_range, color='#3C2D16', label='DensityShuf')\n",
    "plt.legend()\n",
    "plt.yticks(my_range, dfNonCoding['ShortName'])\n",
    "plt.title(\"Wt and Shuffled densities for coding RNA transcripts\", loc='left')\n",
    "plt.xlabel('pG4 densities (pG4/kbp)')\n",
    "plt.ylabel('Species')\n",
    "\n",
    "plt.subplot(122)\n",
    "y_pos = np.arange(len(dfNonCoding['ShortName']))\n",
    "plt.barh(y_pos, dfNonCoding['GC'], color='#E64E46', alpha=0.85)\n",
    "plt.yticks(y_pos, dfNonCoding['ShortName'])\n",
    "plt.title(\"GC content of coding RNA transcripts by species\", loc='left')\n",
    "plt.xlabel('% of GC content ')\n",
    "plt.ylabel('Species')\n",
    "\n",
    "plt.show()"
   ]
  },
  {
   "cell_type": "markdown",
   "metadata": {},
   "source": [
    "### longNC transcript and their locations\n",
    "(figure 7)"
   ]
  },
  {
   "cell_type": "code",
   "execution_count": null,
   "metadata": {},
   "outputs": [],
   "source": [
    "dfLocLongNC.head()\n",
    "del dfLocLongNC['index']"
   ]
  },
  {
   "cell_type": "code",
   "execution_count": null,
   "metadata": {},
   "outputs": [],
   "source": [
    "dftmp = pd.DataFrame()\n",
    "dicoSp = dicoGrpSp()\n",
    "dico = {'Eukaryote' : {},\n",
    "        'Archeae' : {},\n",
    "        'Bacteria' : {}}\n",
    "for sp in list(set(dfLocLongNC.Sp)):\n",
    "    grp = dicoSp[sp]\n",
    "    for loc in list(set(dfLocLongNC.Location)):\n",
    "        if loc not in dico[grp]:\n",
    "                dico[grp][loc] = {}\n",
    "        if loc in list(set(dfLocLongNC[dfLocLongNC.Sp == sp].Location)):\n",
    "            dico[grp][loc][sp] = 1\n",
    "        else:\n",
    "            dico[grp][loc][sp] = 0\n",
    "for grpSp in dico:\n",
    "    dfPresBt = pd.DataFrame.from_dict(dico[grpSp])\n",
    "    if dico[grpSp]:\n",
    "        sns.heatmap(dfPresBt, cmap=\"YlGnBu\")\n",
    "        plt.show()"
   ]
  },
  {
   "cell_type": "code",
   "execution_count": null,
   "metadata": {},
   "outputs": [],
   "source": [
    "dftmp = pd.DataFrame()\n",
    "for sp in list(set(dfLocLongNC.Sp)):\n",
    "    if dicoSp[sp] == 'Eukaryote':\n",
    "        dftmp = dftmp.append( dfLocLongNC[dfLocLongNC.Sp == sp] )\n",
    "groups = dftmp.groupby('Location')\n",
    "for name, group in groups:\n",
    "    print(name)\n",
    "    print(group[['NbLocation','Sp','Location', 'Biotype']].drop_duplicates(subset=None, keep='first', inplace=False))"
   ]
  },
  {
   "cell_type": "markdown",
   "metadata": {},
   "source": [
    "For LongNC, we are lacking annotation for a lot of species (every archea, half of bacteria and some eukaryote). For this study we should not go further with this classes because our interpretation would highly bias because of the lack of annotation/information we have."
   ]
  },
  {
   "cell_type": "code",
   "execution_count": null,
   "metadata": {
    "scrolled": false
   },
   "outputs": [],
   "source": [
    "dfPseudogene.head()"
   ]
  },
  {
   "cell_type": "markdown",
   "metadata": {},
   "source": [
    "### ShortNC"
   ]
  },
  {
   "cell_type": "code",
   "execution_count": null,
   "metadata": {},
   "outputs": [],
   "source": [
    "dfNonCoding.head()"
   ]
  },
  {
   "cell_type": "code",
   "execution_count": null,
   "metadata": {},
   "outputs": [],
   "source": [
    "dfShortNC = pd.DataFrame()\n",
    "dfShortNC = dfShortNC.append(dfNonCoding[dfNonCoding.Class == 'ShortNC'])\n",
    "dfShortNC['ShortName'] = dfShortNC.Sp.apply(applyShortName)\n",
    "dfShortNC['Group'] = dfShortNC.Sp.apply(getGrp)\n",
    "\n",
    "dfShortNC.head()"
   ]
  },
  {
   "cell_type": "code",
   "execution_count": null,
   "metadata": {
    "scrolled": true
   },
   "outputs": [],
   "source": [
    "groupsSp = dfShortNC.groupby('Group')\n",
    "for name1, group1 in groupsSp:\n",
    "    groupsClass = group1.groupby('Biotype')\n",
    "    for name2, group2 in groupsClass:\n",
    "        group2 = group2.drop_duplicates(subset=None, keep='first', inplace=False)\n",
    "        group2 = group2.sort_values('GC')\n",
    "\n",
    "        my_range=range(1,len(group2.index)+1)\n",
    "        plt.subplot(121)\n",
    "        plt.hlines(y=my_range, xmin=group2['DensityWt'], xmax=group2['DensityShuf'], color='grey')\n",
    "        plt.scatter(group2['DensityWt'], my_range, color='#73BCAA', label='DensityWt', linewidth=4)\n",
    "        plt.scatter(group2['DensityShuf'], my_range, color='#3C2D16', label='DensityShuf')\n",
    "        plt.legend()\n",
    "        plt.yticks(my_range, group2['ShortName'])\n",
    "        plt.title(\"Wt and Shuffled densities of \"+name2+\" Classes of \"+name1, loc='left')\n",
    "        plt.xlabel('pG4 densities (pG4/kbp)')\n",
    "        plt.ylabel('Species')\n",
    "\n",
    "        plt.subplot(122)\n",
    "        y_pos = np.arange(len(group2['ShortName']))\n",
    "        plt.barh(y_pos, group2['GC'], color='#E64E46', alpha=0.85)\n",
    "        plt.yticks(y_pos, group2['ShortName'])\n",
    "        #plt.title(\"GC content of coding RNA transcripts by species\", loc='left')\n",
    "        plt.xlabel('% of GC content ')\n",
    "        plt.ylabel('Species')\n",
    "\n",
    "        plt.show()"
   ]
  },
  {
   "cell_type": "code",
   "execution_count": null,
   "metadata": {
    "scrolled": true
   },
   "outputs": [],
   "source": [
    "dfShortNC['WtShuff'] = dfShortNC[\"DensityWt\"] - dfShortNC[\"DensityShuf\"]\n",
    "dfShortNC['Group'] = dfShortNC.Sp.apply(getSubClass)\n",
    "\n",
    "groupsClass = dfShortNC.groupby('Biotype')\n",
    "for name2, group2 in groupsClass:\n",
    "    group2 = group2.drop_duplicates(subset=None, keep='first', inplace=False)\n",
    "    group2 = group2.sort_values('GC')\n",
    "\n",
    "    my_pl = {'Vertebrate':\"#f4861f\", 'Protist':\"#caa638\", 'Plant':\"#537344\", 'Fungi':\"#454166\",\n",
    "             'Metazoa':\"#9e9193\", 'Archeae':\"#2686a4\", 'Bacteria':\"#c33543\"} #test1\n",
    "    if len(group2) > 1 :\n",
    "        sns.lmplot( x=\"GC\", y=\"WtShuff\", data=group2, fit_reg=False, hue='Group', legend=True, palette=my_pl, scatter_kws={\"s\": 100})\n",
    "        plt.title(\"pG4 Densities and GC content with subrealms colored for \"+name2+\" transcripts.\", loc='left')\n",
    "        plt.show()"
   ]
  },
  {
   "cell_type": "code",
   "execution_count": null,
   "metadata": {
    "scrolled": true
   },
   "outputs": [],
   "source": [
    "dfShortNC['WtShuff'] = dfShortNC[\"DensityWt\"] - dfShortNC[\"DensityShuf\"]\n",
    "dfShortNC['Group'] = dfShortNC.Sp.apply(getSubClass)\n",
    "\n",
    "groupsClass = dfShortNC.groupby('Biotype')\n",
    "for name2, group2 in groupsClass:\n",
    "    group2 = group2.drop_duplicates(subset=None, keep='first', inplace=False)\n",
    "    group2 = group2.sort_values('GC')\n",
    "    my_pl = {'Vertebrate':\"#f4861f\", 'Protist':\"#caa638\", 'Plant':\"#537344\", 'Fungi':\"#454166\",\n",
    "             'Metazoa':\"#9e9193\", 'Archeae':\"#2686a4\", 'Bacteria':\"#c33543\"} #test1\n",
    "    group2 = group2.dropna()\n",
    "    y_pos = np.arange(len(group2['ShortName']))\n",
    "    plt.axvline(x=50)\n",
    "    plt.barh(y_pos, group2['nbTr'], color='#E64E46', alpha=0.85)\n",
    "    plt.yticks(y_pos, group2['ShortName'])\n",
    "    plt.title(\"nbTr for \"+name2, loc='left')\n",
    "    plt.xlabel('number of transcript')\n",
    "    plt.ylabel('Species')\n",
    "    plt.show()"
   ]
  },
  {
   "cell_type": "code",
   "execution_count": null,
   "metadata": {},
   "outputs": [],
   "source": [
    "dfShortNC['WtShuff'] = dfShortNC[\"DensityWt\"] - dfShortNC[\"DensityShuf\"]\n",
    "dfShortNC['Group'] = dfShortNC.Sp.apply(getSubClass)\n",
    "#dfShortNC = dfShortNC[dfShortNC.Group == 'Archeae']\n",
    "#print(dfShortNC)\n",
    "\n",
    "groupsClass = dfShortNC.groupby('Biotype')\n",
    "for name2, group2 in groupsClass:\n",
    "    group2 = group2.drop_duplicates(subset=None, keep='first', inplace=False)\n",
    "    group2 = group2.sort_values('GC')\n",
    "    my_pl = {'Vertebrate':\"#f4861f\", 'Protist':\"#caa638\", 'Plant':\"#537344\", 'Fungi':\"#454166\",\n",
    "             'Metazoa':\"#9e9193\", 'Archeae':\"#2686a4\", 'Bacteria':\"#c33543\"} #test1\n",
    "    group2 = group2.dropna()\n",
    "    y_pos = np.arange(len(group2['ShortName']))\n",
    "    plt.axvline(x=50)\n",
    "    plt.barh(y_pos, group2['nbTr'], color='#E64E46', alpha=0.85)\n",
    "    plt.yticks(y_pos, group2['ShortName'])\n",
    "    plt.title(\"nbTr for \"+name2, loc='left')\n",
    "    plt.xlabel('number of transcript')\n",
    "    plt.ylabel('Species')\n",
    "    plt.show()"
   ]
  },
  {
   "cell_type": "markdown",
   "metadata": {},
   "source": [
    "# UTR"
   ]
  },
  {
   "cell_type": "code",
   "execution_count": null,
   "metadata": {},
   "outputs": [],
   "source": [
    "print(dfUTR)"
   ]
  },
  {
   "cell_type": "code",
   "execution_count": null,
   "metadata": {},
   "outputs": [],
   "source": [
    "my_pl = {'Archeae' : '#2686a4', 'Bacteria':\"#c33543\"} #test1\n",
    "\n",
    "dfUTR['ShortName'] = dfUTR.Sp.apply(applyShortName)\n",
    "dfUTR['Group'] = dfUTR.Sp.apply(getProkGroup)\n",
    "dfUTR = dfUTR[dfUTR.Biotype == 'protein_coding']\n",
    "dfUTR['Density'] = dfUTR['DensityWT'] - dfUTR['DensityShuf']\n",
    "\n",
    "#dftmp = pd.DataFrame()\n",
    "\n",
    "#dftmp = dftmp.append(dfLocCoding[dfLocCoding.Location == 'intron'])\n",
    "\n",
    "groupsClass = dfUTR.groupby('Location')\n",
    "for name2, group2 in groupsClass:\n",
    "    group2 = group2.drop_duplicates(subset=None, keep='first', inplace=False)\n",
    "\n",
    "    sns.lmplot( x=\"GC\", y=\"Density\", data=group2, fit_reg=False, hue='Group', legend=True, palette=my_pl, scatter_kws={\"s\": 100})\n",
    "    plt.title(\"pG4 Densities and GC content for \"+name2, loc='left')\n",
    "    plt.ylim([-0.30, +0.15])\n",
    "    plt.show()"
   ]
  },
  {
   "cell_type": "markdown",
   "metadata": {},
   "source": [
    "# Sup figures"
   ]
  },
  {
   "cell_type": "markdown",
   "metadata": {},
   "source": [
    "## Significativity and Boxplot\n",
    "\n",
    "Is the distribution of Wt coding eukaryotes densities the same as those of archaea ?\n",
    "H0 -> Yes they are the same\n",
    "### Def functions"
   ]
  },
  {
   "cell_type": "code",
   "execution_count": null,
   "metadata": {},
   "outputs": [],
   "source": [
    "def f_test(x, y):\n",
    "    x = np.array(x)\n",
    "    y = np.array(y)\n",
    "    f = np.var(x, ddof=1)/np.var(y, ddof=1) #calculate F test statistic \n",
    "    dfn = x.size-1 #define degrees of freedom numerator \n",
    "    dfd = y.size-1 #define degrees of freedom denominator \n",
    "    p = 1-scipy.stats.f.cdf(f, dfn, dfd) #find p-value of F test statistic \n",
    "    return f, p\n",
    "\n",
    "def AllTest(a,b,alpha, name1, name2):\n",
    "    if len(a) >= 3 and len(b) >= 3:\n",
    "        shapA = scipy.stats.shapiro(a)\n",
    "        shapB = scipy.stats.shapiro(b)\n",
    "\n",
    "        if shapA[1] > alpha and shapB[1] > alpha:\n",
    "            print(\"\\tFisher test\")\n",
    "            f = f_test(a, b)\n",
    "            if f[1] > alpha:\n",
    "                print(\"\\tt test\")\n",
    "                tTest =scipy.stats.ttest_ind(a,b)\n",
    "                if tTest[1] <= alpha:\n",
    "                    print(\"Means are significatly different\")\n",
    "                else:\n",
    "                    print(\"Means are not differents\")\n",
    "                return(tTest)\n",
    "            else:\n",
    "                print(\"\\twelch test\")\n",
    "                welch = scipy.stats.ttest_ind(a,b, equal_var=False)\n",
    "                if welch[1] <= alpha:\n",
    "                    print(\"Means are significatly different\")\n",
    "                else:\n",
    "                    print(\"Means are not differents\")\n",
    "                return(welch)\n",
    "        else:\n",
    "            print(\"\\tmannwhitneyu test\")\n",
    "            man = scipy.stats.mannwhitneyu(a,b)\n",
    "            if man[1] <= alpha:\n",
    "                print(\"Means are significatly different\")\n",
    "            else:\n",
    "                print(\"Means are not differents\")\n",
    "            return(man)\n",
    "    else:\n",
    "        print('There are only 3 data for '+name1+' of '+name2+' transcripts.')\n",
    "        return []\n",
    "        \n",
    "def makeBoxPlotSpvsSp(resTest, df, alpha, typeDens, listGrp, name2):\n",
    "    if typeDens:\n",
    "        if 'Shuf' in typeDens:\n",
    "            my_pal = {}\n",
    "            for grp in listGrp:\n",
    "                my_pal[grp] = \"#E64E46\"\n",
    "        else:\n",
    "            my_pal = {}\n",
    "            for grp in listGrp:\n",
    "                my_pal[grp] = \"#73BCAA\"\n",
    "    else:\n",
    "        typeDens = 'DiffDens'\n",
    "        my_pal = {}\n",
    "        paletteSp = {'Eukaryote': '#57a554', 'Archeae' : '#2686a4', 'Bacteria' : '#c33543'}\n",
    "        for grp in listGrp:\n",
    "            my_pal[grp] = paletteSp[grp]\n",
    "    if resTest > alpha:\n",
    "        sns.boxplot(x=\"Group\", y=typeDens, data=df, palette=my_pal)\n",
    "        plt.title(\"Difference of WT - Shuffled densities for \"+'/'.join(listGrp)+\" for \"+name2+\" transcripts classe\", loc='left')\n",
    "        plt.show()\n",
    "    else:\n",
    "        sns.boxplot(x=\"Group\", y=typeDens, data=df, palette=my_pal)\n",
    "        plt.title(\"Difference of WT - Shuffled densities for \"+'/'.join(listGrp)+\" for \"+name2+\" transcripts classe\", loc='left')\n",
    "        # statistical annotation\n",
    "        x1, x2 = 0, 1   # columns 'Sat' and 'Sun' (first column: 0, see plt.xticks())\n",
    "        y, h, col = df[typeDens].max() + 0.25, 0.25, 'k'\n",
    "        plt.plot([x1, x1, x2, x2], [y, y+h, y+h, y], lw=1.5, c=col)\n",
    "        plt.text((x1+x2)*.5, y+h, \"*\", ha='center', va='bottom', color=col)\n",
    "\n",
    "        plt.show()\n",
    "\n",
    "def changeDfColtype(a, b, df):\n",
    "    dfTmp2 = pd.DataFrame()\n",
    "    dfTmp2['Density'] = a\n",
    "    dfTmp2['Type'] = 'WT'\n",
    "\n",
    "    dfTmp3 = pd.DataFrame()\n",
    "    dfTmp3 = dfTmp3.append(df)\n",
    "    dfTmp3['Type'] = 'Shuffled'\n",
    "    dfTmp3['Density'] = dfTmp3['DensityShuf']\n",
    "    dfTmp3 = dfTmp3[['Type','Density']]\n",
    "\n",
    "    frames = [dfTmp2,dfTmp3]\n",
    "    result = pd.concat(frames)\n",
    "    return result\n",
    "\n",
    "def makeBoxPlotWTvsShuf(resTest, df, alpha, a, b, name1, name2):\n",
    "    my_pal = {\"WT\": \"#73BCAA\", \"Shuffled\": \"#E64E46\"}\n",
    "    res = changeDfColtype(a, b, df)\n",
    "    if resTest > alpha:\n",
    "        sns.boxplot(x=\"Type\", y=\"Density\", data=res, palette=my_pal)\n",
    "        plt.title(\"Wt Densities for \"+name1+\" for \"+name2+\" transcripts classe\", loc='left')\n",
    "        plt.show()\n",
    "    else:\n",
    "        sns.boxplot(x=\"Type\", y=\"Density\", data=res, palette=my_pal)\n",
    "        plt.title(\"Wt Densities for \"+name1+\" for \"+name2+\" transcripts classe\", loc='left')\n",
    "        # statistical annotation\n",
    "        x1, x2 = 0, 1\n",
    "        y, h, col = res['Density'].max() + 0.15, 0.15, 'k'\n",
    "        plt.plot([x1, x1, x2, x2], [y, y+h, y+h, y], lw=1.5, c=col)\n",
    "        plt.text((x1+x2)*.5, y+h, \"*\", ha='center', va='bottom', color=col)\n",
    "        plt.show()\n",
    "    \n",
    "def makeBoxPlotClvsCl(resTest, df, alpha, listSubcl, name2):\n",
    "    paletteSp = {'Eukaryote': '#57a554', 'Archeae' : '#2686a4', 'Bacteria' : '#c33543'}\n",
    "    my_pal = {}\n",
    "    for cl in listSubcl:\n",
    "        my_pal[cl] = paletteSp[name2]\n",
    "    if resTest > alpha:\n",
    "        sns.boxplot(x=\"Class\", y='DiffDens', data=df, palette=my_pal)\n",
    "        plt.title(\"Difference of WT - Shuffled densities for \"+'/'.join(listSubcl)+\" for \"+name2+\" realm\", loc='left')\n",
    "        plt.show()\n",
    "    else:\n",
    "        sns.boxplot(x=\"Class\", y='DiffDens', data=df, palette=my_pal)\n",
    "        plt.title(\"Difference of WT - Shuffled densities for \"+'/'.join(listSubcl)+\" for \"+name2+\" realm\", loc='left')\n",
    "        # statistical annotation\n",
    "        x1, x2 = 0, 1   # columns 'Sat' and 'Sun' (first column: 0, see plt.xticks())\n",
    "        y, h, col = df['DiffDens'].max() + 0.25, 0.25, 'k'\n",
    "        plt.plot([x1, x1, x2, x2], [y, y+h, y+h, y], lw=1.5, c=col)\n",
    "        plt.text((x1+x2)*.5, y+h, \"*\", ha='center', va='bottom', color=col)\n",
    "\n",
    "        plt.show()"
   ]
  },
  {
   "cell_type": "markdown",
   "metadata": {},
   "source": [
    "### Boxplot Wt vs Shuffle"
   ]
  },
  {
   "cell_type": "code",
   "execution_count": null,
   "metadata": {
    "scrolled": true
   },
   "outputs": [],
   "source": [
    "dfGlobal['ShortName'] = dfGlobal.Sp.apply(applyShortName)\n",
    "dfGlobal['Group'] = dfGlobal.Sp.apply(getGrp)\n",
    "\n",
    "groupsSp = dfGlobal.groupby('Group')\n",
    "for name1, group1 in groupsSp:\n",
    "    groupsClass = group1.groupby('Class')\n",
    "    for name2, group2 in groupsClass:\n",
    "        if name2 != 'None':\n",
    "            group2 = group2.drop_duplicates(subset=None, keep='first', inplace=False)\n",
    "\n",
    "            a = group2['DensityWt']\n",
    "            b = group2['DensityShuf']\n",
    "\n",
    "            res = AllTest(a,b,0.05, name1, name2)\n",
    "\n",
    "            if res != []:\n",
    "                makeBoxPlotWTvsShuf(res[1], group2, 0.05, a, b, name1, name2)"
   ]
  },
  {
   "cell_type": "markdown",
   "metadata": {},
   "source": [
    "### Grp sp vs Grp sp"
   ]
  },
  {
   "cell_type": "code",
   "execution_count": null,
   "metadata": {
    "scrolled": true
   },
   "outputs": [],
   "source": [
    "dfGlobal['Group'] = dfGlobal.Sp.apply(getGrp)\n",
    "dfGlobal['DiffDens'] = dfGlobal['DensityWt'] - dfGlobal['DensityShuf']\n",
    "spList = [ ['Eukaryote', 'Archeae'], ['Eukaryote', 'Bacteria'], ['Archeae', 'Bacteria'] ]\n",
    "\n",
    "groupsClass = dfGlobal.groupby('Class')\n",
    "for name2, group2 in groupsClass:\n",
    "    group2 = group2.drop_duplicates(subset=None, keep='first', inplace=False)\n",
    "    if name2 != 'None':\n",
    "        for duoSp in spList:\n",
    "            a = group2[group2.Group == duoSp[0] ]['DiffDens']\n",
    "            b = group2[group2.Group == duoSp[1] ]['DiffDens']\n",
    "\n",
    "            res = AllTest(a,b,0.05, name2, '/'.join(duoSp))\n",
    "\n",
    "            dfTmp = pd.DataFrame()\n",
    "            dfTmp = dfTmp.append(group2[group2.Group == duoSp[0] ])\n",
    "            dfTmp = dfTmp.append(group2[group2.Group == duoSp[1] ])\n",
    "\n",
    "            if res != []:\n",
    "                makeBoxPlotSpvsSp(res[1], dfTmp, 0.05, None, duoSp, name2)"
   ]
  },
  {
   "cell_type": "code",
   "execution_count": null,
   "metadata": {},
   "outputs": [],
   "source": [
    "dfGlobal['Group'] = dfGlobal.Sp.apply(getGrp)\n",
    "dfGlobal['DiffDens'] = dfGlobal['DensityWt'] - dfGlobal['DensityShuf']\n",
    "spList = [ ['Eukaryote', 'Archeae'], ['Eukaryote', 'Bacteria'], ['Archeae', 'Bacteria'] ]\n",
    "\n",
    "groupsClass = dfGlobal.groupby('Class')\n",
    "for name2, group2 in groupsClass:\n",
    "    group2 = group2.drop_duplicates(subset=None, keep='first', inplace=False)\n",
    "    if name2 != 'None':\n",
    "        for duoSp in spList:\n",
    "            a = group2[group2.Group == duoSp[0] ]['DensityWt']\n",
    "            b = group2[group2.Group == duoSp[1] ]['DensityWt']\n",
    "\n",
    "            res = AllTest(a,b,0.05, name2, '/'.join(duoSp))\n",
    "\n",
    "            dfTmp = pd.DataFrame()\n",
    "            dfTmp = dfTmp.append(group2[group2.Group == duoSp[0] ])\n",
    "            dfTmp = dfTmp.append(group2[group2.Group == duoSp[1] ])\n",
    "\n",
    "            if res != []:\n",
    "                makeBoxPlotSpvsSp(res[1], dfTmp, 0.05, 'DensityWt', duoSp, name2)"
   ]
  },
  {
   "cell_type": "code",
   "execution_count": null,
   "metadata": {},
   "outputs": [],
   "source": [
    "dfGlobal['Group'] = dfGlobal.Sp.apply(getGrp)\n",
    "dfGlobal['DiffDens'] = dfGlobal['DensityWt'] - dfGlobal['DensityShuf']\n",
    "spList = [ ['Eukaryote', 'Archeae'], ['Eukaryote', 'Bacteria'], ['Archeae', 'Bacteria'] ]\n",
    "\n",
    "groupsClass = dfGlobal.groupby('Class')\n",
    "for name2, group2 in groupsClass:\n",
    "    group2 = group2.drop_duplicates(subset=None, keep='first', inplace=False)\n",
    "    if name2 != 'None':\n",
    "        for duoSp in spList:\n",
    "            a = group2[group2.Group == duoSp[0] ]['DensityShuf']\n",
    "            b = group2[group2.Group == duoSp[1] ]['DensityShuf']\n",
    "\n",
    "            res = AllTest(a,b,0.05, name2, '/'.join(duoSp))\n",
    "\n",
    "            dfTmp = pd.DataFrame()\n",
    "            dfTmp = dfTmp.append(group2[group2.Group == duoSp[0] ])\n",
    "            dfTmp = dfTmp.append(group2[group2.Group == duoSp[1] ])\n",
    "\n",
    "            if res != []:\n",
    "                makeBoxPlotSpvsSp(res[1], dfTmp, 0.05, 'DensityShuf', duoSp, name2)"
   ]
  },
  {
   "cell_type": "code",
   "execution_count": null,
   "metadata": {},
   "outputs": [],
   "source": [
    "dfGlobal['Group'] = dfGlobal.Sp.apply(getGrp)\n",
    "dfGlobal['DiffDens'] = dfGlobal['DensityWt'] - dfGlobal['DensityShuf']\n",
    "spList = [ ['Eukaryote', 'Archeae'], ['Eukaryote', 'Bacteria'], ['Archeae', 'Bacteria'] ]\n",
    "\n",
    "groupsClass = dfGlobal.groupby('Class')\n",
    "for name2, group2 in groupsClass:\n",
    "    group2 = group2.drop_duplicates(subset=None, keep='first', inplace=False)\n",
    "    if name2 != 'None':\n",
    "        for duoSp in spList:\n",
    "            a = group2[group2.Group == duoSp[0] ]['DensityShuf']\n",
    "            b = group2[group2.Group == duoSp[1] ]['DensityShuf']\n",
    "\n",
    "            res = AllTest(a,b,0.05, name2, '/'.join(duoSp))\n",
    "\n",
    "            dfTmp = pd.DataFrame()\n",
    "            dfTmp = dfTmp.append(group2[group2.Group == duoSp[0] ])\n",
    "            dfTmp = dfTmp.append(group2[group2.Group == duoSp[1] ])\n",
    "\n",
    "            if res != []:\n",
    "                makeBoxPlotSpvsSp(res[1], dfTmp, 0.05, 'DensityShuf', duoSp, name2)"
   ]
  },
  {
   "cell_type": "markdown",
   "metadata": {},
   "source": [
    "### Subclass vs subclass"
   ]
  },
  {
   "cell_type": "code",
   "execution_count": null,
   "metadata": {},
   "outputs": [],
   "source": [
    "dfGlobal['Group'] = dfGlobal.Sp.apply(getGrp)\n",
    "dfGlobal['DiffDens'] = dfGlobal['DensityWt'] - dfGlobal['DensityShuf']\n",
    "subclassList = [ ['Coding', 'LongNC'], ['Coding', 'Pseudogene'], ['Coding', 'ShortNC'],\n",
    "                ['LongNC', 'Pseudogene'], ['LongNC', 'ShortNC'], ['ShortNC', 'Pseudogene'] ]\n",
    "\n",
    "groupsClass = dfGlobal.groupby('Group')\n",
    "for name2, group2 in groupsClass:\n",
    "    print('================'+name2+'================')\n",
    "    group2 = group2.drop_duplicates(subset=None, keep='first', inplace=False)\n",
    "    if name2 != 'None':\n",
    "        for duoSubClass in subclassList:\n",
    "            a = group2[group2.Class == duoSubClass[0] ]['DiffDens']\n",
    "            b = group2[group2.Class == duoSubClass[1] ]['DiffDens']\n",
    "\n",
    "            res = AllTest(a,b,0.05, name2, '/'.join(duoSubClass))\n",
    "\n",
    "            dfTmp = pd.DataFrame()\n",
    "            dfTmp = dfTmp.append(group2[group2.Class == duoSubClass[0] ])\n",
    "            dfTmp = dfTmp.append(group2[group2.Class == duoSubClass[1] ])\n",
    "\n",
    "            if res != []:\n",
    "                makeBoxPlotClvsCl(res[1], dfTmp, 0.05, duoSubClass, name2)"
   ]
  },
  {
   "cell_type": "markdown",
   "metadata": {},
   "source": [
    "## Test exponential curve"
   ]
  },
  {
   "cell_type": "code",
   "execution_count": null,
   "metadata": {},
   "outputs": [],
   "source": [
    "dfGlobal['ShortName'] = dfGlobal.Sp.apply(applyShortName)\n",
    "dfGlobal['Group'] = dfGlobal.Sp.apply(getGrp)\n",
    "\n",
    "dfTmp = pd.DataFrame()\n",
    "dfTmp = dfTmp.append(dfGlobal[dfGlobal.Group == 'Bacteria'])\n",
    "\n",
    "def func(x, a, b, c):\n",
    "    return a * np.exp(-b * x) + c\n",
    "\n",
    "popt, pcov = curve_fit(func, dfTmp['GC'], dfTmp['DensityWt'])\n",
    "print(popt)\n",
    "print(pcov)\n",
    "\n",
    "arr = scipy.optimize.curve_fit(lambda t,a,b: a*np.exp(b*t),  dfTmp['GC'],  dfTmp['DensityWt'])\n",
    "print(arr)\n",
    "\n",
    "plt.figure()\n",
    "plt.plot(dfTmp['GC'], dfTmp['DensityWt'], 'ko', label=\"Original Noised Data\")\n",
    "plt.plot(arr[], label=\"Fitted Curve\")\n",
    "plt.legend()\n",
    "plt.show()"
   ]
  },
  {
   "cell_type": "markdown",
   "metadata": {},
   "source": [
    "## Test correlation on WT - Densities"
   ]
  },
  {
   "cell_type": "code",
   "execution_count": null,
   "metadata": {
    "scrolled": true
   },
   "outputs": [],
   "source": [
    "dfGenesDens[\"Density\"] = dfGenesDens[\"DensityGenes\"] - dfGenesDens[\"DensShuffl\"]\n",
    "dfTmp = pd.DataFrame()\n",
    "dfTmp = dfTmp.append(dfGenesDens)\n",
    "dfTmp['Group'] = dfTmp.Sp.apply(getGrp)\n",
    "\n",
    "groupsSp = dfTmp.groupby('Group')\n",
    "for name1, group1 in groupsSp:\n",
    "    print(\"Correlation between pG4 Densities and GC content for \"+name1)\n",
    "    sns.regplot(x=\"GC\", y=\"Density\", data=group1)\n",
    "    plt.show()\n",
    "    GC = np.array(group1[\"GC\"])\n",
    "    DensityGenes = np.array(group1[\"Density\"])\n",
    "    corr1 = scipy.stats.linregress(GC, DensityGenes)\n",
    "    print (corr1)"
   ]
  },
  {
   "cell_type": "markdown",
   "metadata": {},
   "source": [
    "## Species order by taxo"
   ]
  },
  {
   "cell_type": "code",
   "execution_count": null,
   "metadata": {},
   "outputs": [],
   "source": [
    "dfGlobal['ShortName'] = dfGlobal.Sp.apply(applyShortName)\n",
    "dfGlobal['Group'] = dfGlobal.Sp.apply(getGrp)\n",
    "\n",
    "dicoOrder = {'Archeae' : ['Mace', 'Hsal', 'Hbut', 'Aful', 'Msmi', 'Phor', 'Taci', 'Ssol', 'Paer', 'Nequ', 'Ckor', 'Csym'],\n",
    "            'Bacteria' : ['Aaeo', 'Mtub', 'Tthe', 'Caur', 'Mpne', 'Saur', 'Bsub', 'Efae', 'Spne', 'Ctra', 'Bbur', 'Cjej', 'Mxan', 'Gsul', 'Babo', 'Wend', 'Apha', 'Nmen', 'Lpne', 'Ftul', 'Vcho', 'Hinf', 'Ypes', 'Ecol'],\n",
    "            'Eukaryote' : ['Ptro', 'Hsap', 'Pabe', 'Mmus', 'Mdom', 'Oana', 'Acar', 'Ggal', 'Drer', 'Gacu', 'Dmel', 'Amel', 'Cele', 'Ncra', 'Anid', 'Scer', 'Spom', 'Ddis', 'Atha', 'Vvin', 'Slyc', 'Osat', 'Ppat', 'Crei', 'Lmaj']}\n",
    "groupsSp = dfGlobal.groupby('Group')\n",
    "for name1, group1 in groupsSp:\n",
    "    print(name1)\n",
    "    groupsClass = group1.groupby('Class')\n",
    "    for name2, group2 in groupsClass:\n",
    "        group2 = group2.drop_duplicates(subset=None, keep='first', inplace=False)\n",
    "        if len(group2.Group) == len(dicoOrder[name1]):\n",
    "            #group2['order'] = dicoOrder[name1]\n",
    "            #group2 = group2.sort_values('order')\n",
    "            #group2 = group2.reindex(axis='index', labels=dicoOrder[name1])\n",
    "            group2['ShortName'] = pd.Categorical(\n",
    "                    group2['ShortName'], categories=dicoOrder[name1], ordered=True)\n",
    "            group2 = group2.sort_values('ShortName')\n",
    "            \n",
    "            fig, axs = plt.subplots(1, 2, sharex='col',\n",
    "                        gridspec_kw={'hspace': 0, 'wspace': 0, 'width_ratios' : [2,1]})\n",
    "            (ax1, ax2)= axs\n",
    "            fig.suptitle('WT and Shuffled density with GC content for '+name1+' in '+name2+' transcripts.')    \n",
    "\n",
    "            my_range=range(1,len(group2.index)+1)\n",
    "            ax1.hlines(y=my_range, xmin=group2['DensityWt'], xmax=group2['DensityShuf'], color='grey')\n",
    "            ax1.scatter(group2['DensityWt'], my_range, color='#73BCAA', label='DensityWt', linewidth=4)\n",
    "            ax1.scatter(group2['DensityShuf'], my_range, color='#3C2D16', label='DensityShuf')\n",
    "            if name2 =='Coding' or name2 == 'Global':\n",
    "                ax1.set_xlim([-0.05, +1.20])\n",
    "            elif name2 == 'ShortNC':\n",
    "                ax1.set_xlim([-0.05, +0.60])\n",
    "            y = np.arange(len(group2['ShortName'])+1)\n",
    "            yLabels = ['']\n",
    "            yLabels.extend( list(group2['ShortName']) )\n",
    "            ax1.set_yticks(y)\n",
    "            ax1.set_yticklabels(yLabels, fontdict=None, minor=False)\n",
    "            ax1.legend()\n",
    "            y_pos = np.arange(len(group2['ShortName']))\n",
    "            ax2.barh(y_pos, group2['GC'], color='#E64E46', alpha=0.85)\n",
    "            for ax in axs.flat:\n",
    "                ax.label_outer()\n",
    "\n",
    "                #plt.savefig(name1+\"-\"+name2+\".svg\")\n",
    "                plt.show()\n",
    "                #print(group2)"
   ]
  },
  {
   "cell_type": "code",
   "execution_count": null,
   "metadata": {},
   "outputs": [],
   "source": [
    "dfGenesDens['ShortName'] = dfGenesDens.Sp.apply(applyShortName)\n",
    "dfGenesDens['Group'] = dfGenesDens.Sp.apply(getGrp)\n",
    "\n",
    "dicoOrder = {'Archeae' : ['Mace', 'Hsal', 'Hbut', 'Aful', 'Msmi', 'Phor', 'Taci', 'Ssol', 'Paer', 'Nequ', 'Ckor', 'Csym'],\n",
    "            'Bacteria' : ['Aaeo', 'Mtub', 'Tthe', 'Caur', 'Mpne', 'Saur', 'Bsub', 'Efae', 'Spne', 'Ctra', 'Bbur', 'Cjej', 'Mxan', 'Gsul', 'Babo', 'Wend', 'Apha', 'Nmen', 'Lpne', 'Ftul', 'Vcho', 'Hinf', 'Ypes', 'Ecol'],\n",
    "            'Eukaryote' : ['Ptro', 'Hsap', 'Pabe', 'Mmus', 'Mdom', 'Oana', 'Acar', 'Ggal', 'Drer', 'Gacu', 'Dmel', 'Amel', 'Cele', 'Ncra', 'Anid', 'Scer', 'Spom', 'Ddis', 'Atha', 'Vvin', 'Slyc', 'Osat', 'Ppat', 'Crei', 'Lmaj']}\n",
    "\n",
    "groupsSp = dfGenesDens.groupby('Group')\n",
    "for name1, group1 in groupsSp:\n",
    "    group1 = group1.drop_duplicates(subset=None, keep='first', inplace=False)\n",
    "    group1['ShortName'] = pd.Categorical(\n",
    "            group1['ShortName'], categories=dicoOrder[name1], ordered=True)\n",
    "    group1 = group1.sort_values('ShortName')\n",
    "\n",
    "    fig, axs = plt.subplots(1, 2, sharex='col',\n",
    "                gridspec_kw={'hspace': 0, 'wspace': 0, 'width_ratios' : [2,1]})\n",
    "    (ax1, ax2)= axs\n",
    "    fig.suptitle('WT and Shuffled density with GC content for '+name1+' in '+name2+' transcripts.')    \n",
    "\n",
    "    my_range=range(1,len(group1.index)+1)\n",
    "    ax1.hlines(y=my_range, xmin=group1['DensityGenes'], xmax=group1['DensShuffl'], color='grey')\n",
    "    ax1.scatter(group1['DensityGenes'], my_range, color='#73BCAA', label='WT density', linewidth=4)\n",
    "    ax1.scatter(group1['DensShuffl'], my_range, color='#3C2D16', label='Shuffled density')\n",
    "    ax1.set_xlim([-0.05, +1.20])\n",
    "    y = np.arange(len(group1['ShortName'])+1)\n",
    "    yLabels = ['']\n",
    "    yLabels.extend( list(group1['ShortName']) )\n",
    "    ax1.set_yticks(y)\n",
    "    ax1.set_yticklabels(yLabels, fontdict=None, minor=False)\n",
    "    ax1.legend()\n",
    "    y_pos = np.arange(len(group1['ShortName']))\n",
    "    ax2.barh(y_pos, group1['GC'], color='#E64E46', alpha=0.85)\n",
    "    for ax in axs.flat:\n",
    "        ax.label_outer()\n",
    "\n",
    "    plt.savefig(name1+\".svg\")\n",
    "    plt.show()"
   ]
  }
 ],
 "metadata": {
  "kernelspec": {
   "display_name": "Python 3",
   "language": "python",
   "name": "python3"
  },
  "language_info": {
   "codemirror_mode": {
    "name": "ipython",
    "version": 3
   },
   "file_extension": ".py",
   "mimetype": "text/x-python",
   "name": "python",
   "nbconvert_exporter": "python",
   "pygments_lexer": "ipython3",
   "version": "3.7.5"
  },
  "toc": {
   "base_numbering": 1,
   "nav_menu": {},
   "number_sections": true,
   "sideBar": true,
   "skip_h1_title": false,
   "title_cell": "Table of Contents",
   "title_sidebar": "Contents",
   "toc_cell": false,
   "toc_position": {
    "height": "calc(100% - 180px)",
    "left": "10px",
    "top": "150px",
    "width": "309px"
   },
   "toc_section_display": true,
   "toc_window_display": false
  }
 },
 "nbformat": 4,
 "nbformat_minor": 2
}
