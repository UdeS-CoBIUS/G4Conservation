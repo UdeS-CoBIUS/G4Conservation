{
 "cells": [
  {
   "cell_type": "code",
   "execution_count": 1,
   "metadata": {},
   "outputs": [],
   "source": [
    "import pandas as pd\n",
    "import matplotlib.pyplot as plt\n",
    "import seaborn as sns"
   ]
  },
  {
   "cell_type": "code",
   "execution_count": 2,
   "metadata": {},
   "outputs": [],
   "source": [
    "def importpG4Sarah(fileName):\n",
    "    LegthSarh = []\n",
    "    with open(fileName) as f:\n",
    "        content = f.read()\n",
    "        lines = content.split('\\n')\n",
    "        for l in lines:\n",
    "            if not l.startswith('InfoG4ByTranscript'):\n",
    "                if l:\n",
    "                    w = l.split('\\t')\n",
    "                    id = w[0].split('|')\n",
    "                    start = id[1].split(':')[1].split('-')[0]\n",
    "                    end = id[1].split(':')[1].split('-')[1]\n",
    "                    LegthSarh.append( int(end) - int(start) )\n",
    "#                     if id[2] == '1':\n",
    "#                         start = id[1].split(':')[1].split('-')[0]\n",
    "#                         end = id[1].split(':')[1].split('-')[1]\n",
    "#                         LegthSarh.append( int(end) - int(start) )\n",
    "#                     else:\n",
    "#                         end = id[1].split(':')[1].split('-')[0]\n",
    "#                         start = id[1].split(':')[1].split('-')[1]\n",
    "#                         LegthSarh.append( int(end) - int(start) )\n",
    "    return LegthSarh"
   ]
  },
  {
   "cell_type": "code",
   "execution_count": 3,
   "metadata": {},
   "outputs": [
    {
     "name": "stderr",
     "output_type": "stream",
     "text": [
      "/home/anais/.local/lib/python3.8/site-packages/IPython/core/interactiveshell.py:3071: DtypeWarning: Columns (1) have mixed types.Specify dtype option on import or set low_memory=False.\n",
      "  has_raised = await self.run_ast_nodes(code_ast.body, cell_name,\n"
     ]
    },
    {
     "data": {
      "text/html": [
       "<div>\n",
       "<style scoped>\n",
       "    .dataframe tbody tr th:only-of-type {\n",
       "        vertical-align: middle;\n",
       "    }\n",
       "\n",
       "    .dataframe tbody tr th {\n",
       "        vertical-align: top;\n",
       "    }\n",
       "\n",
       "    .dataframe thead th {\n",
       "        text-align: right;\n",
       "    }\n",
       "</style>\n",
       "<table border=\"1\" class=\"dataframe\">\n",
       "  <thead>\n",
       "    <tr style=\"text-align: right;\">\n",
       "      <th></th>\n",
       "      <th>Strand</th>\n",
       "      <th>Chromosome</th>\n",
       "      <th>locStart</th>\n",
       "      <th>locEnd</th>\n",
       "      <th>Gene</th>\n",
       "      <th>Location</th>\n",
       "      <th>meancGcC</th>\n",
       "      <th>meanG4H</th>\n",
       "      <th>meanG4NN</th>\n",
       "      <th>pG4Start</th>\n",
       "      <th>pG4End</th>\n",
       "      <th>Transcript</th>\n",
       "      <th>Biotype</th>\n",
       "      <th>Sequence</th>\n",
       "      <th>Class</th>\n",
       "      <th>Length</th>\n",
       "      <th>LengthTr</th>\n",
       "    </tr>\n",
       "  </thead>\n",
       "  <tbody>\n",
       "    <tr>\n",
       "      <th>0</th>\n",
       "      <td>-</td>\n",
       "      <td>Y</td>\n",
       "      <td>18773374</td>\n",
       "      <td>18790569</td>\n",
       "      <td>ENSG00000176728</td>\n",
       "      <td>intron</td>\n",
       "      <td>8.571429</td>\n",
       "      <td>1.116667</td>\n",
       "      <td>0.709113</td>\n",
       "      <td>18789497</td>\n",
       "      <td>18789438</td>\n",
       "      <td>ENST00000651886</td>\n",
       "      <td>lncRNA</td>\n",
       "      <td>CCTGGTCAAAAGGAGGGCTCTATTCTGATGCCTGTGGTGGGGGCGG...</td>\n",
       "      <td>LongNC</td>\n",
       "      <td>59</td>\n",
       "      <td>17195</td>\n",
       "    </tr>\n",
       "    <tr>\n",
       "      <th>1</th>\n",
       "      <td>-</td>\n",
       "      <td>Y</td>\n",
       "      <td>18773374</td>\n",
       "      <td>18790569</td>\n",
       "      <td>ENSG00000176728</td>\n",
       "      <td>intron</td>\n",
       "      <td>67.000000</td>\n",
       "      <td>0.983333</td>\n",
       "      <td>0.619213</td>\n",
       "      <td>18786537</td>\n",
       "      <td>18786478</td>\n",
       "      <td>ENST00000651886</td>\n",
       "      <td>lncRNA</td>\n",
       "      <td>TGAAGGGTGATATGGTAATACTAAGGATGGGAGAGAAGTTTGGGAT...</td>\n",
       "      <td>LongNC</td>\n",
       "      <td>59</td>\n",
       "      <td>17195</td>\n",
       "    </tr>\n",
       "    <tr>\n",
       "      <th>2</th>\n",
       "      <td>-</td>\n",
       "      <td>Y</td>\n",
       "      <td>18773374</td>\n",
       "      <td>18790569</td>\n",
       "      <td>ENSG00000176728</td>\n",
       "      <td>intron</td>\n",
       "      <td>21.166667</td>\n",
       "      <td>0.933333</td>\n",
       "      <td>0.854671</td>\n",
       "      <td>18786457</td>\n",
       "      <td>18786388</td>\n",
       "      <td>ENST00000651886</td>\n",
       "      <td>lncRNA</td>\n",
       "      <td>TAGATTGAGGGTTAGGTCTGGGGTTGACTTAAAGGTTCGTGTGGTG...</td>\n",
       "      <td>LongNC</td>\n",
       "      <td>69</td>\n",
       "      <td>17195</td>\n",
       "    </tr>\n",
       "    <tr>\n",
       "      <th>3</th>\n",
       "      <td>-</td>\n",
       "      <td>Y</td>\n",
       "      <td>18773374</td>\n",
       "      <td>18790569</td>\n",
       "      <td>ENSG00000176728</td>\n",
       "      <td>intron</td>\n",
       "      <td>16.166667</td>\n",
       "      <td>0.933333</td>\n",
       "      <td>0.823813</td>\n",
       "      <td>18786287</td>\n",
       "      <td>18786208</td>\n",
       "      <td>ENST00000651886</td>\n",
       "      <td>lncRNA</td>\n",
       "      <td>GGTAAGAGATAGGCTTACAGTTAGATGTTGGGGTTAGTGGAGGGTT...</td>\n",
       "      <td>LongNC</td>\n",
       "      <td>79</td>\n",
       "      <td>17195</td>\n",
       "    </tr>\n",
       "    <tr>\n",
       "      <th>4</th>\n",
       "      <td>-</td>\n",
       "      <td>Y</td>\n",
       "      <td>18773374</td>\n",
       "      <td>18790569</td>\n",
       "      <td>ENSG00000176728</td>\n",
       "      <td>intron</td>\n",
       "      <td>41.433333</td>\n",
       "      <td>1.000000</td>\n",
       "      <td>0.824185</td>\n",
       "      <td>18786017</td>\n",
       "      <td>18785848</td>\n",
       "      <td>ENST00000651886</td>\n",
       "      <td>lncRNA</td>\n",
       "      <td>TAGGGTTATTGTTTAGCACTTAGGTTTAGGTTTAGGGTTGGTTGAG...</td>\n",
       "      <td>LongNC</td>\n",
       "      <td>169</td>\n",
       "      <td>17195</td>\n",
       "    </tr>\n",
       "  </tbody>\n",
       "</table>\n",
       "</div>"
      ],
      "text/plain": [
       "  Strand Chromosome  locStart    locEnd             Gene Location   meancGcC  \\\n",
       "0      -          Y  18773374  18790569  ENSG00000176728   intron   8.571429   \n",
       "1      -          Y  18773374  18790569  ENSG00000176728   intron  67.000000   \n",
       "2      -          Y  18773374  18790569  ENSG00000176728   intron  21.166667   \n",
       "3      -          Y  18773374  18790569  ENSG00000176728   intron  16.166667   \n",
       "4      -          Y  18773374  18790569  ENSG00000176728   intron  41.433333   \n",
       "\n",
       "    meanG4H  meanG4NN  pG4Start    pG4End       Transcript Biotype  \\\n",
       "0  1.116667  0.709113  18789497  18789438  ENST00000651886  lncRNA   \n",
       "1  0.983333  0.619213  18786537  18786478  ENST00000651886  lncRNA   \n",
       "2  0.933333  0.854671  18786457  18786388  ENST00000651886  lncRNA   \n",
       "3  0.933333  0.823813  18786287  18786208  ENST00000651886  lncRNA   \n",
       "4  1.000000  0.824185  18786017  18785848  ENST00000651886  lncRNA   \n",
       "\n",
       "                                            Sequence   Class  Length  LengthTr  \n",
       "0  CCTGGTCAAAAGGAGGGCTCTATTCTGATGCCTGTGGTGGGGGCGG...  LongNC      59     17195  \n",
       "1  TGAAGGGTGATATGGTAATACTAAGGATGGGAGAGAAGTTTGGGAT...  LongNC      59     17195  \n",
       "2  TAGATTGAGGGTTAGGTCTGGGGTTGACTTAAAGGTTCGTGTGGTG...  LongNC      69     17195  \n",
       "3  GGTAAGAGATAGGCTTACAGTTAGATGTTGGGGTTAGTGGAGGGTT...  LongNC      79     17195  \n",
       "4  TAGGGTTATTGTTTAGCACTTAGGTTTAGGTTTAGGGTTGGTTGAG...  LongNC     169     17195  "
      ]
     },
     "execution_count": 3,
     "metadata": {},
     "output_type": "execute_result"
    }
   ],
   "source": [
    "dfWTMoi = pd.read_csv('/home/anais/Documents/Projet/G4Conservation/data/homo_sapiens/pG4WT.csv', sep='\\t')\n",
    "fileNameSarah = '/home/anais/Documents/Projet/G4Conservation/data/homo_sapiens/HS_All_G4InTranscript.txt'\n",
    "LengthSarah = importpG4Sarah(fileNameSarah)\n",
    "dfWTMoi['Length'] = dfWTMoi['pG4End'] - dfWTMoi['pG4Start']\n",
    "dfWTMoi['Length'] = abs( dfWTMoi['Length'] )\n",
    "dfWTMoi['LengthTr'] = dfWTMoi['locEnd'] - dfWTMoi['locStart']\n",
    "dfWTMoi.head()"
   ]
  },
  {
   "cell_type": "code",
   "execution_count": 4,
   "metadata": {},
   "outputs": [
    {
     "data": {
      "image/png": "[encoded data removed]",
      "text/plain": [
       "<Figure size 432x288 with 3 Axes>"
      ]
     },
     "metadata": {
      "needs_background": "light"
     },
     "output_type": "display_data"
    }
   ],
   "source": [
    "dftmp = pd.DataFrame()\n",
    "dftmp = dfWTMoi[['LengthTr', 'Transcript']]\n",
    "dftmp = dftmp.drop_duplicates(subset=None, keep='first', inplace=False)\n",
    "\n",
    "plt.subplot(1, 3, 1)\n",
    "sns.boxplot( y=dfWTMoi['Length'], color=\"#E64E46\" )\n",
    "plt.xlabel('my method')\n",
    "plt.yscale('log')\n",
    "plt.subplot(1, 3, 2)\n",
    "sns.boxplot( y=dftmp['LengthTr'], color=\"#E64E46\" )\n",
    "plt.title(\"Distribution of pG4 length\", loc='right')\n",
    "plt.xlabel('localisation')\n",
    "plt.yscale('log')\n",
    "plt.subplot(1, 3, 3)\n",
    "sns.boxplot( y=LengthSarah, color=\"#73BCAA\" )\n",
    "plt.xlabel('Sarah method')\n",
    "plt.yscale('log')\n",
    "plt.tight_layout()"
   ]
  },
  {
   "cell_type": "code",
   "execution_count": 5,
   "metadata": {},
   "outputs": [
    {
     "data": {
      "image/png": "[encoded data removed]",
      "text/plain": [
       "<Figure size 432x288 with 2 Axes>"
      ]
     },
     "metadata": {
      "needs_background": "light"
     },
     "output_type": "display_data"
    }
   ],
   "source": [
    "plt.subplot(1, 2, 1)\n",
    "sns.boxplot( y=dfWTMoi['Length'], color=\"#E64E46\" )\n",
    "plt.xlabel('my method')\n",
    "plt.yscale('log')\n",
    "plt.subplot(1, 2, 2)\n",
    "sns.boxplot( y=LengthSarah, color=\"#73BCAA\" )\n",
    "plt.xlabel('Sarah method')\n",
    "plt.yscale('log')\n",
    "plt.tight_layout()"
   ]
  },
  {
   "cell_type": "code",
   "execution_count": 6,
   "metadata": {},
   "outputs": [
    {
     "data": {
      "text/plain": [
       "count    642577.000000\n",
       "mean         80.987164\n",
       "std          47.384852\n",
       "min           2.000000\n",
       "25%          59.000000\n",
       "50%          69.000000\n",
       "75%          89.000000\n",
       "max        3759.000000\n",
       "Name: Length, dtype: float64"
      ]
     },
     "execution_count": 6,
     "metadata": {},
     "output_type": "execute_result"
    }
   ],
   "source": [
    "dfWTMoi['Length'].describe()"
   ]
  },
  {
   "cell_type": "code",
   "execution_count": 17,
   "metadata": {},
   "outputs": [
    {
     "data": {
      "text/plain": [
       "count    1.196189e+06\n",
       "mean     1.079704e+02\n",
       "std      1.706335e+03\n",
       "min      5.900000e+01\n",
       "25%      5.900000e+01\n",
       "50%      6.900000e+01\n",
       "75%      7.900000e+01\n",
       "max      2.970710e+05\n",
       "dtype: float64"
      ]
     },
     "execution_count": 17,
     "metadata": {},
     "output_type": "execute_result"
    }
   ],
   "source": [
    "LengthSarah = pd.Series(LengthSarah)\n",
    "LengthSarah.describe()"
   ]
  },
  {
   "cell_type": "code",
   "execution_count": 8,
   "metadata": {},
   "outputs": [
    {
     "data": {
      "image/png": "[encoded data removed]",
      "text/plain": [
       "<Figure size 432x288 with 1 Axes>"
      ]
     },
     "metadata": {
      "needs_background": "light"
     },
     "output_type": "display_data"
    }
   ],
   "source": [
    "p1=sns.kdeplot(dfWTMoi['Length'], shade=True, color=\"#E64E46\")\n",
    "p1=sns.kdeplot(LengthSarah, shade=True, color=\"#73BCAA\")\n",
    "plt.title(\"Distribution of pG4 length\", loc='Right')\n",
    "#plt.xscale('log')\n",
    "plt.xlim(-100000, 1000000)\n",
    "plt.show()"
   ]
  },
  {
   "cell_type": "code",
   "execution_count": 9,
   "metadata": {},
   "outputs": [
    {
     "data": {
      "image/png": "[encoded data removed]",
      "text/plain": [
       "<Figure size 432x288 with 2 Axes>"
      ]
     },
     "metadata": {
      "needs_background": "light"
     },
     "output_type": "display_data"
    }
   ],
   "source": [
    "plt.subplot(1, 2, 1)\n",
    "sns.violinplot( y=dfWTMoi['Length'], color=\"#E64E46\" )\n",
    "plt.title(\"Distribution of pG4 length\", loc='right')\n",
    "plt.xlabel('my method')\n",
    "plt.yscale('log')\n",
    "plt.subplot(1, 2, 2)\n",
    "sns.violinplot( y=LengthSarah, color=\"#73BCAA\" )\n",
    "plt.xlabel('Sarah method')\n",
    "plt.yscale('log')"
   ]
  },
  {
   "cell_type": "code",
   "execution_count": 11,
   "metadata": {},
   "outputs": [
    {
     "data": {
      "image/png": "[encoded data removed]",
      "text/plain": [
       "<Figure size 432x288 with 2 Axes>"
      ]
     },
     "metadata": {
      "needs_background": "light"
     },
     "output_type": "display_data"
    }
   ],
   "source": [
    "#print(dfWTMoi[dfWTMoi['Length'] == 4])\n",
    "\n",
    "dfWTMoi = dfWTMoi[ dfWTMoi['Length'] >= 20 ]\n",
    "\n",
    "plt.subplot(1, 2, 1)\n",
    "sns.boxplot( y=dfWTMoi['Length'], color=\"#E64E46\" )\n",
    "plt.title(\"Distribution of pG4 length\", loc='right')\n",
    "plt.xlabel('my method')\n",
    "plt.yscale('log')\n",
    "plt.subplot(1, 2, 2)\n",
    "sns.boxplot( y=LengthSarah, color=\"#73BCAA\" )\n",
    "plt.xlabel('Sarah method')\n",
    "plt.yscale('log')"
   ]
  },
  {
   "cell_type": "code",
   "execution_count": 12,
   "metadata": {},
   "outputs": [
    {
     "data": {
      "image/png": "[encoded data removed]",
      "text/plain": [
       "<Figure size 432x288 with 2 Axes>"
      ]
     },
     "metadata": {
      "needs_background": "light"
     },
     "output_type": "display_data"
    }
   ],
   "source": [
    "plt.subplot(1, 2, 1)\n",
    "sns.violinplot( y=dfWTMoi['Length'], color=\"#E64E46\" )\n",
    "plt.title(\"Distribution of pG4 length\", loc='right')\n",
    "plt.xlabel('my method')\n",
    "plt.yscale('log')\n",
    "plt.subplot(1, 2, 2)\n",
    "sns.violinplot( y=LengthSarah, color=\"#73BCAA\" )\n",
    "plt.xlabel('Sarah method')\n",
    "plt.yscale('log')"
   ]
  },
  {
   "cell_type": "markdown",
   "metadata": {},
   "source": [
    "# What if we take a look at genes ?"
   ]
  },
  {
   "cell_type": "code",
   "execution_count": 13,
   "metadata": {},
   "outputs": [
    {
     "data": {
      "text/html": [
       "<div>\n",
       "<style scoped>\n",
       "    .dataframe tbody tr th:only-of-type {\n",
       "        vertical-align: middle;\n",
       "    }\n",
       "\n",
       "    .dataframe tbody tr th {\n",
       "        vertical-align: top;\n",
       "    }\n",
       "\n",
       "    .dataframe thead th {\n",
       "        text-align: right;\n",
       "    }\n",
       "</style>\n",
       "<table border=\"1\" class=\"dataframe\">\n",
       "  <thead>\n",
       "    <tr style=\"text-align: right;\">\n",
       "      <th></th>\n",
       "      <th>Strand</th>\n",
       "      <th>Chromosome</th>\n",
       "      <th>locStart</th>\n",
       "      <th>locEnd</th>\n",
       "      <th>Gene</th>\n",
       "      <th>meancGcC</th>\n",
       "      <th>meanG4H</th>\n",
       "      <th>meanG4NN</th>\n",
       "      <th>pG4Start</th>\n",
       "      <th>pG4End</th>\n",
       "      <th>Sequence</th>\n",
       "      <th>Length</th>\n",
       "      <th>LengthGenes</th>\n",
       "    </tr>\n",
       "  </thead>\n",
       "  <tbody>\n",
       "    <tr>\n",
       "      <th>0</th>\n",
       "      <td>-</td>\n",
       "      <td>1</td>\n",
       "      <td>62454298</td>\n",
       "      <td>62688368</td>\n",
       "      <td>ENSG00000116641</td>\n",
       "      <td>6.038164</td>\n",
       "      <td>1.222222</td>\n",
       "      <td>0.824329</td>\n",
       "      <td>62688116</td>\n",
       "      <td>62688037</td>\n",
       "      <td>TCCCGCGGCCTGGCTCGCGGCGGGGCGGAAGGGGTTCGGGGTGGCT...</td>\n",
       "      <td>79</td>\n",
       "      <td>234070</td>\n",
       "    </tr>\n",
       "    <tr>\n",
       "      <th>1</th>\n",
       "      <td>-</td>\n",
       "      <td>1</td>\n",
       "      <td>62454298</td>\n",
       "      <td>62688368</td>\n",
       "      <td>ENSG00000116641</td>\n",
       "      <td>35.000000</td>\n",
       "      <td>1.033333</td>\n",
       "      <td>0.559667</td>\n",
       "      <td>62685766</td>\n",
       "      <td>62685707</td>\n",
       "      <td>TTGGGGTAAGGGAGTACAGGAGGAAAAAGGAGTTTGAGATTGGGAG...</td>\n",
       "      <td>59</td>\n",
       "      <td>234070</td>\n",
       "    </tr>\n",
       "    <tr>\n",
       "      <th>2</th>\n",
       "      <td>-</td>\n",
       "      <td>1</td>\n",
       "      <td>62454298</td>\n",
       "      <td>62688368</td>\n",
       "      <td>ENSG00000116641</td>\n",
       "      <td>7.693720</td>\n",
       "      <td>1.177778</td>\n",
       "      <td>0.894389</td>\n",
       "      <td>62670256</td>\n",
       "      <td>62670167</td>\n",
       "      <td>TGGGTGGTTGATGGGACTGGGCGCTGTGGAGCAGGGGGTGGCGCTC...</td>\n",
       "      <td>89</td>\n",
       "      <td>234070</td>\n",
       "    </tr>\n",
       "    <tr>\n",
       "      <th>3</th>\n",
       "      <td>-</td>\n",
       "      <td>1</td>\n",
       "      <td>62454298</td>\n",
       "      <td>62688368</td>\n",
       "      <td>ENSG00000116641</td>\n",
       "      <td>4.800000</td>\n",
       "      <td>0.966667</td>\n",
       "      <td>0.781277</td>\n",
       "      <td>62641046</td>\n",
       "      <td>62640987</td>\n",
       "      <td>TGGGGGATCCAGGAGGGGCAGTCCAGGTGCCACAGGCAGCCTGGGA...</td>\n",
       "      <td>59</td>\n",
       "      <td>234070</td>\n",
       "    </tr>\n",
       "    <tr>\n",
       "      <th>4</th>\n",
       "      <td>-</td>\n",
       "      <td>1</td>\n",
       "      <td>62454298</td>\n",
       "      <td>62688368</td>\n",
       "      <td>ENSG00000116641</td>\n",
       "      <td>8.135215</td>\n",
       "      <td>1.090000</td>\n",
       "      <td>0.909670</td>\n",
       "      <td>62610666</td>\n",
       "      <td>62610567</td>\n",
       "      <td>CATGGACACAGGGAAAGGAACATCACACACTGGGACCTGTCGGGGT...</td>\n",
       "      <td>99</td>\n",
       "      <td>234070</td>\n",
       "    </tr>\n",
       "  </tbody>\n",
       "</table>\n",
       "</div>"
      ],
      "text/plain": [
       "  Strand Chromosome  locStart    locEnd             Gene   meancGcC   meanG4H  \\\n",
       "0      -          1  62454298  62688368  ENSG00000116641   6.038164  1.222222   \n",
       "1      -          1  62454298  62688368  ENSG00000116641  35.000000  1.033333   \n",
       "2      -          1  62454298  62688368  ENSG00000116641   7.693720  1.177778   \n",
       "3      -          1  62454298  62688368  ENSG00000116641   4.800000  0.966667   \n",
       "4      -          1  62454298  62688368  ENSG00000116641   8.135215  1.090000   \n",
       "\n",
       "   meanG4NN  pG4Start    pG4End  \\\n",
       "0  0.824329  62688116  62688037   \n",
       "1  0.559667  62685766  62685707   \n",
       "2  0.894389  62670256  62670167   \n",
       "3  0.781277  62641046  62640987   \n",
       "4  0.909670  62610666  62610567   \n",
       "\n",
       "                                            Sequence  Length  LengthGenes  \n",
       "0  TCCCGCGGCCTGGCTCGCGGCGGGGCGGAAGGGGTTCGGGGTGGCT...      79       234070  \n",
       "1  TTGGGGTAAGGGAGTACAGGAGGAAAAAGGAGTTTGAGATTGGGAG...      59       234070  \n",
       "2  TGGGTGGTTGATGGGACTGGGCGCTGTGGAGCAGGGGGTGGCGCTC...      89       234070  \n",
       "3  TGGGGGATCCAGGAGGGGCAGTCCAGGTGCCACAGGCAGCCTGGGA...      59       234070  \n",
       "4  CATGGACACAGGGAAAGGAACATCACACACTGGGACCTGTCGGGGT...      99       234070  "
      ]
     },
     "execution_count": 13,
     "metadata": {},
     "output_type": "execute_result"
    }
   ],
   "source": [
    "path = '/home/anais/Documents/Projet/G4Conservation/'\n",
    "dfGenes = pd.read_csv(path+'data/homo_sapiens/Gene_pG4WT.csv', sep='\\t')\n",
    "\n",
    "dfGenes['Length'] = dfGenes['pG4End'] - dfGenes['pG4Start']\n",
    "dfGenes['Length'] = abs( dfGenes['Length'] )\n",
    "dfGenes['LengthGenes'] = dfGenes['locEnd'] - dfGenes['locStart']\n",
    "\n",
    "dfGenes.head()"
   ]
  },
  {
   "cell_type": "code",
   "execution_count": 14,
   "metadata": {},
   "outputs": [
    {
     "data": {
      "image/png": "[encoded data removed]",
      "text/plain": [
       "<Figure size 432x288 with 3 Axes>"
      ]
     },
     "metadata": {
      "needs_background": "light"
     },
     "output_type": "display_data"
    }
   ],
   "source": [
    "dftmp = pd.DataFrame()\n",
    "dftmp = dfGenes[['LengthGenes', 'Gene']]\n",
    "dftmp = dftmp.drop_duplicates(subset=None, keep='first', inplace=False)\n",
    "\n",
    "plt.subplot(1, 3, 1)\n",
    "sns.boxplot( y=dfGenes['Length'], color=\"#E64E46\" )\n",
    "plt.xlabel('my method GENES pG4')\n",
    "plt.yscale('log')\n",
    "plt.subplot(1, 3, 2)\n",
    "sns.boxplot( y=dftmp['LengthGenes'], color=\"#E64E46\" )\n",
    "plt.title(\"Distribution of pG4 length\", loc='right')\n",
    "plt.xlabel('GENES')\n",
    "plt.yscale('log')\n",
    "plt.subplot(1, 3, 3)\n",
    "sns.boxplot( y=LengthSarah, color=\"#73BCAA\" )\n",
    "plt.xlabel('Sarah method TRANSCRIPTS pG4')\n",
    "plt.yscale('log')\n",
    "plt.tight_layout()"
   ]
  },
  {
   "cell_type": "code",
   "execution_count": 15,
   "metadata": {},
   "outputs": [
    {
     "data": {
      "image/png": "[encoded data removed]",
      "text/plain": [
       "<Figure size 432x288 with 2 Axes>"
      ]
     },
     "metadata": {
      "needs_background": "light"
     },
     "output_type": "display_data"
    }
   ],
   "source": [
    "plt.subplot(1, 2, 1)\n",
    "sns.boxplot( y=dfGenes['Length'], color=\"#E64E46\" )\n",
    "plt.xlabel('my method GENES pG4')\n",
    "plt.yscale('log')\n",
    "plt.subplot(1, 2, 2)\n",
    "sns.boxplot( y=LengthSarah, color=\"#73BCAA\" )\n",
    "plt.xlabel('Sarah method TRANSCRIPTS pG4')\n",
    "plt.yscale('log')\n",
    "plt.tight_layout()"
   ]
  },
  {
   "cell_type": "code",
   "execution_count": null,
   "metadata": {},
   "outputs": [],
   "source": []
  }
 ],
 "metadata": {
  "kernelspec": {
   "display_name": "Python 3",
   "language": "python",
   "name": "python3"
  },
  "language_info": {
   "codemirror_mode": {
    "name": "ipython",
    "version": 3
   },
   "file_extension": ".py",
   "mimetype": "text/x-python",
   "name": "python",
   "nbconvert_exporter": "python",
   "pygments_lexer": "ipython3",
   "version": "3.8.2"
  }
 },
 "nbformat": 4,
 "nbformat_minor": 4
}
