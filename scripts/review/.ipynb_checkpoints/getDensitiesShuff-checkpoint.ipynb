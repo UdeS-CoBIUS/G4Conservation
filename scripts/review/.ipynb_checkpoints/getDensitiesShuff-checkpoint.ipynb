{
 "cells": [
  {
   "cell_type": "code",
   "execution_count": 1,
   "id": "dc23ff98",
   "metadata": {},
   "outputs": [],
   "source": [
    "import os\n",
    "import re\n",
    "import argparse\n",
    "import scipy\n",
    "import numpy as np\n",
    "import pandas as pd\n",
    "from Bio import SeqIO\n",
    "import seaborn as sns\n",
    "from pprint import pprint\n",
    "import matplotlib.pyplot as plt"
   ]
  },
  {
   "cell_type": "markdown",
   "id": "124dab54",
   "metadata": {},
   "source": [
    "# Import data"
   ]
  },
  {
   "cell_type": "code",
   "execution_count": 2,
   "id": "d47e4f0f",
   "metadata": {},
   "outputs": [
    {
     "name": "stderr",
     "output_type": "stream",
     "text": [
      "/home/anais/software/projectsVp3/lib/python3.9/site-packages/IPython/core/interactiveshell.py:3169: DtypeWarning: Columns (1,2,3,4,5,6,10) have mixed types.Specify dtype option on import or set low_memory=False.\n",
      "  has_raised = await self.run_ast_nodes(code_ast.body, cell_name,\n"
     ]
    }
   ],
   "source": [
    "path = '/home/anais/Documents/Projet/G4Conservation/'\n",
    "dfMonoGene = pd.DataFrame()\n",
    "dfTriGene = pd.DataFrame()\n",
    "\n",
    "spList = ['candidatus_korarchaeum_cryptofilum_opf8', 'halobacterium_salinarum_r1',\n",
    "      'myxococcus_xanthus_dk_1622', 'thermus_thermophilus_hb8',\n",
    "      'leishmania_major', 'pyrococcus_horikoshii_ot3', 'escherichia_coli_str_k_12_substr_mg1655',\n",
    "      'mycobacterium_tuberculosis_h37rv', 'saccharomyces_cerevisiae', 'chlamydomonas_reinhardtii']\n",
    "\n",
    "for sp in spList:\n",
    "    dfTmp = pd.read_csv(path+'reviewShuffle/reviewShuffle/'+sp+'/pG4_Shuffle_Mono_Gene.csv', sep='\\t')\n",
    "    dfTmp['Sp'] = sp\n",
    "    dfMonoGene = dfMonoGene.append(dfTmp)\n",
    "    \n",
    "    dfTmp = pd.read_csv(path+'reviewShuffle/reviewShuffle/'+sp+'/pG4_Shuffle_Tri_Tot_Gene.csv', sep='\\t')\n",
    "    dfTmp['Sp'] = sp\n",
    "    dfTriGene = dfTriGene.append(dfTmp)\n",
    "    \n",
    "dfMonoGene = dfMonoGene[dfMonoGene.pG4Start != 'pG4Start']\n",
    "dfTriGene = dfTriGene[dfTriGene.pG4Start != 'pG4Start']"
   ]
  },
  {
   "cell_type": "markdown",
   "id": "fa0e4b0a",
   "metadata": {},
   "source": [
    "# check pG4 length"
   ]
  },
  {
   "cell_type": "code",
   "execution_count": 3,
   "id": "63f89a16",
   "metadata": {},
   "outputs": [
    {
     "data": {
      "text/html": [
       "<div>\n",
       "<style scoped>\n",
       "    .dataframe tbody tr th:only-of-type {\n",
       "        vertical-align: middle;\n",
       "    }\n",
       "\n",
       "    .dataframe tbody tr th {\n",
       "        vertical-align: top;\n",
       "    }\n",
       "\n",
       "    .dataframe thead th {\n",
       "        text-align: right;\n",
       "    }\n",
       "</style>\n",
       "<table border=\"1\" class=\"dataframe\">\n",
       "  <thead>\n",
       "    <tr style=\"text-align: right;\">\n",
       "      <th></th>\n",
       "      <th>Gene</th>\n",
       "      <th>meancGcC</th>\n",
       "      <th>meanG4H</th>\n",
       "      <th>meanG4NN</th>\n",
       "      <th>pG4Start</th>\n",
       "      <th>pG4End</th>\n",
       "      <th>Chromosome</th>\n",
       "      <th>Strand</th>\n",
       "      <th>Sequence</th>\n",
       "      <th>Description</th>\n",
       "      <th>Repro</th>\n",
       "      <th>Sp</th>\n",
       "    </tr>\n",
       "  </thead>\n",
       "  <tbody>\n",
       "    <tr>\n",
       "      <th>0</th>\n",
       "      <td>Kcr_R0001</td>\n",
       "      <td>14.075757575757578</td>\n",
       "      <td>1.4</td>\n",
       "      <td>0.7126250817085089</td>\n",
       "      <td>31</td>\n",
       "      <td>100</td>\n",
       "      <td>Chromosome</td>\n",
       "      <td>+</td>\n",
       "      <td>AGCAGCACGGAACGGGCGGGGGTAACTCACTACTCAGGGCGGTGGG...</td>\n",
       "      <td>Kcr_R0001:Chromosome:2012~2124:+</td>\n",
       "      <td>1</td>\n",
       "      <td>candidatus_korarchaeum_cryptofilum_opf8</td>\n",
       "    </tr>\n",
       "    <tr>\n",
       "      <th>1</th>\n",
       "      <td>Kcr_0006</td>\n",
       "      <td>7.727272727272727</td>\n",
       "      <td>0.9</td>\n",
       "      <td>0.5846454626740698</td>\n",
       "      <td>11</td>\n",
       "      <td>70</td>\n",
       "      <td>Chromosome</td>\n",
       "      <td>-</td>\n",
       "      <td>TGGCGTGGGCGCGGGGCTAGCAAGGGGGATGTTGTTCCAAGAGGTA...</td>\n",
       "      <td>Kcr_0006:Chromosome:3525~5477:-</td>\n",
       "      <td>1</td>\n",
       "      <td>candidatus_korarchaeum_cryptofilum_opf8</td>\n",
       "    </tr>\n",
       "    <tr>\n",
       "      <th>2</th>\n",
       "      <td>Kcr_0006</td>\n",
       "      <td>7.583333333333332</td>\n",
       "      <td>1.0833333333333333</td>\n",
       "      <td>0.7740664356036223</td>\n",
       "      <td>1141</td>\n",
       "      <td>1200</td>\n",
       "      <td>Chromosome</td>\n",
       "      <td>-</td>\n",
       "      <td>TTATGGGGTGGGAGGGAGTACACGACACAATTGTCTAGGACTAGGA...</td>\n",
       "      <td>Kcr_0006:Chromosome:3525~5477:-</td>\n",
       "      <td>1</td>\n",
       "      <td>candidatus_korarchaeum_cryptofilum_opf8</td>\n",
       "    </tr>\n",
       "    <tr>\n",
       "      <th>3</th>\n",
       "      <td>Kcr_0008</td>\n",
       "      <td>7.6</td>\n",
       "      <td>1.0</td>\n",
       "      <td>0.8794254558984221</td>\n",
       "      <td>891</td>\n",
       "      <td>950</td>\n",
       "      <td>Chromosome</td>\n",
       "      <td>+</td>\n",
       "      <td>GAGGGTGGACATAAATGCAGGTGAGTGTGAGTGAAGGGCGGGACTT...</td>\n",
       "      <td>Kcr_0008:Chromosome:6797~7813:+</td>\n",
       "      <td>1</td>\n",
       "      <td>candidatus_korarchaeum_cryptofilum_opf8</td>\n",
       "    </tr>\n",
       "    <tr>\n",
       "      <th>4</th>\n",
       "      <td>Kcr_0009</td>\n",
       "      <td>9.125</td>\n",
       "      <td>0.95</td>\n",
       "      <td>0.5920479414624158</td>\n",
       "      <td>121</td>\n",
       "      <td>180</td>\n",
       "      <td>Chromosome</td>\n",
       "      <td>+</td>\n",
       "      <td>TTAGACCGGGGTGGTGGAGCGGTGGCGGCTTTAGGAAATAGATTAG...</td>\n",
       "      <td>Kcr_0009:Chromosome:7813~9165:+</td>\n",
       "      <td>1</td>\n",
       "      <td>candidatus_korarchaeum_cryptofilum_opf8</td>\n",
       "    </tr>\n",
       "  </tbody>\n",
       "</table>\n",
       "</div>"
      ],
      "text/plain": [
       "        Gene            meancGcC             meanG4H            meanG4NN  \\\n",
       "0  Kcr_R0001  14.075757575757578                 1.4  0.7126250817085089   \n",
       "1   Kcr_0006   7.727272727272727                 0.9  0.5846454626740698   \n",
       "2   Kcr_0006   7.583333333333332  1.0833333333333333  0.7740664356036223   \n",
       "3   Kcr_0008                 7.6                 1.0  0.8794254558984221   \n",
       "4   Kcr_0009               9.125                0.95  0.5920479414624158   \n",
       "\n",
       "  pG4Start pG4End  Chromosome Strand  \\\n",
       "0       31    100  Chromosome      +   \n",
       "1       11     70  Chromosome      -   \n",
       "2     1141   1200  Chromosome      -   \n",
       "3      891    950  Chromosome      +   \n",
       "4      121    180  Chromosome      +   \n",
       "\n",
       "                                            Sequence  \\\n",
       "0  AGCAGCACGGAACGGGCGGGGGTAACTCACTACTCAGGGCGGTGGG...   \n",
       "1  TGGCGTGGGCGCGGGGCTAGCAAGGGGGATGTTGTTCCAAGAGGTA...   \n",
       "2  TTATGGGGTGGGAGGGAGTACACGACACAATTGTCTAGGACTAGGA...   \n",
       "3  GAGGGTGGACATAAATGCAGGTGAGTGTGAGTGAAGGGCGGGACTT...   \n",
       "4  TTAGACCGGGGTGGTGGAGCGGTGGCGGCTTTAGGAAATAGATTAG...   \n",
       "\n",
       "                        Description Repro  \\\n",
       "0  Kcr_R0001:Chromosome:2012~2124:+     1   \n",
       "1   Kcr_0006:Chromosome:3525~5477:-     1   \n",
       "2   Kcr_0006:Chromosome:3525~5477:-     1   \n",
       "3   Kcr_0008:Chromosome:6797~7813:+     1   \n",
       "4   Kcr_0009:Chromosome:7813~9165:+     1   \n",
       "\n",
       "                                        Sp  \n",
       "0  candidatus_korarchaeum_cryptofilum_opf8  \n",
       "1  candidatus_korarchaeum_cryptofilum_opf8  \n",
       "2  candidatus_korarchaeum_cryptofilum_opf8  \n",
       "3  candidatus_korarchaeum_cryptofilum_opf8  \n",
       "4  candidatus_korarchaeum_cryptofilum_opf8  "
      ]
     },
     "execution_count": 3,
     "metadata": {},
     "output_type": "execute_result"
    }
   ],
   "source": [
    "dfMonoGene.head()"
   ]
  },
  {
   "cell_type": "code",
   "execution_count": 4,
   "id": "75a4ffeb",
   "metadata": {},
   "outputs": [],
   "source": [
    "dfMonoGene['LengthpG4'] = dfMonoGene['pG4End'].astype(int) - dfMonoGene['pG4Start'].astype(int) +1\n",
    "dfTriGene['LengthpG4'] = dfTriGene['pG4End'].astype(int) - dfTriGene['pG4Start'].astype(int) +1"
   ]
  },
  {
   "cell_type": "code",
   "execution_count": 5,
   "id": "ac0ee889",
   "metadata": {
    "scrolled": true
   },
   "outputs": [
    {
     "name": "stdout",
     "output_type": "stream",
     "text": [
      "74.85679614796628\n",
      "21.210850285897536\n"
     ]
    },
    {
     "data": {
      "image/png": "[encoded data removed]",
      "text/plain": [
       "<Figure size 432x288 with 1 Axes>"
      ]
     },
     "metadata": {
      "needs_background": "light"
     },
     "output_type": "display_data"
    },
    {
     "name": "stdout",
     "output_type": "stream",
     "text": [
      "74.83159082865937\n",
      "21.751823465242047\n"
     ]
    },
    {
     "data": {
      "image/png": "[encoded data removed]",
      "text/plain": [
       "<Figure size 432x288 with 1 Axes>"
      ]
     },
     "metadata": {
      "needs_background": "light"
     },
     "output_type": "display_data"
    }
   ],
   "source": [
    "print(dfMonoGene[dfMonoGene.Sp == 'chlamydomonas_reinhardtii'].LengthpG4.mean())\n",
    "print(dfMonoGene[dfMonoGene.Sp == 'chlamydomonas_reinhardtii'].LengthpG4.std())\n",
    "sns.boxplot(x=\"Sp\", y=\"LengthpG4\", data=dfMonoGene)\n",
    "plt.yscale('log')\n",
    "plt.show()\n",
    "print(dfTriGene[dfTriGene.Sp == 'chlamydomonas_reinhardtii'].LengthpG4.mean())\n",
    "print(dfTriGene[dfTriGene.Sp == 'chlamydomonas_reinhardtii'].LengthpG4.std())\n",
    "sns.boxplot(x=\"Sp\", y=\"LengthpG4\", data=dfTriGene)\n",
    "plt.yscale('log')\n",
    "plt.show()"
   ]
  },
  {
   "cell_type": "code",
   "execution_count": 6,
   "id": "c1de1075",
   "metadata": {
    "scrolled": true
   },
   "outputs": [
    {
     "name": "stdout",
     "output_type": "stream",
     "text": [
      "   Chromosome               Gene  \\\n",
      "0           7  CHLRE_07g354600v5   \n",
      "1           7  CHLRE_07g354600v5   \n",
      "2           7  CHLRE_07g354600v5   \n",
      "3           7  CHLRE_07g354600v5   \n",
      "4           7  CHLRE_07g354600v5   \n",
      "\n",
      "                                            Sequence Strand   locEnd  \\\n",
      "0  GGCAGACCGGCCCGACCGGTGAGGGAGGGAGAGGGAGAGGAAGCAG...      -  6001612   \n",
      "1  CGGTGCAGGGACCGGCTGCTGGCTCGGCTGGTGCGGCTGCGGGAGG...      -  6001612   \n",
      "2  AGCCCATACGGCAGCTGGAGCTGCAGGAGGAGGCGCAGGTGGGGGC...      -  6001612   \n",
      "3  GCGGCGGTGCAGCTGCTACAGGTGCGGTTGGGGAAGGCGCGGGCTC...      -  6001612   \n",
      "4  AGGCGGAGATGCCGCGGCGCTGGGAGGTGGTGGTGGCGGAGGCGCG...      -  6001612   \n",
      "\n",
      "   locStart   meanG4H  meanG4NN   meancGcC   pG4End  pG4Start  \n",
      "0   5983497  1.127778  0.584758   6.335137  5984456   5984357  \n",
      "1   5983497  1.031481  0.687864   8.017576  5984676   5984507  \n",
      "2   5983497  1.183333  0.846200  10.857602  5985376   5985257  \n",
      "3   5983497  0.900000  0.711823   4.750000  5985736   5985677  \n",
      "4   5983497  1.044444  0.720184   7.185897  5986116   5986037  \n",
      "108.56214848403691\n",
      "57.56195422558504\n"
     ]
    },
    {
     "data": {
      "image/png": "[encoded data removed]",
      "text/plain": [
       "<Figure size 432x288 with 1 Axes>"
      ]
     },
     "metadata": {
      "needs_background": "light"
     },
     "output_type": "display_data"
    }
   ],
   "source": [
    "dfCrei = pd.read_csv(path+'data/'+sp+'/Gene_pG4WT.csv', sep='\\t')\n",
    "print(dfCrei.head())\n",
    "dfCrei['LengthpG4'] = dfCrei['pG4End'].astype(int) - dfCrei['pG4Start'].astype(int) +1\n",
    "print(dfCrei.LengthpG4.mean())\n",
    "print(dfCrei.LengthpG4.std())\n",
    "sns.boxplot(y=\"LengthpG4\", data=dfCrei)\n",
    "plt.yscale('log')\n",
    "plt.show()"
   ]
  },
  {
   "cell_type": "code",
   "execution_count": 7,
   "id": "a1d98a6c",
   "metadata": {},
   "outputs": [
    {
     "name": "stdout",
     "output_type": "stream",
     "text": [
      "74.84798634329236\n",
      "74.8226318503486\n"
     ]
    }
   ],
   "source": [
    "meanLength = []\n",
    "groups = dfMonoGene.groupby('Sp')\n",
    "for spName, spDf in groups:\n",
    "    if spName == 'chlamydomonas_reinhardtii':\n",
    "        groups2 = spDf.groupby('Repro')\n",
    "        for repro, reproDf in groups2:\n",
    "            meanLength.append(reproDf.LengthpG4.mean())\n",
    "print(sum(meanLength)/float(len(meanLength)))\n",
    "\n",
    "meanLength = []\n",
    "groups = dfTriGene.groupby('Sp')\n",
    "for spName, spDf in groups:\n",
    "    if spName == 'chlamydomonas_reinhardtii':\n",
    "        groups2 = spDf.groupby('Repro')\n",
    "        for repro, reproDf in groups2:\n",
    "            meanLength.append(reproDf.LengthpG4.mean())\n",
    "print(sum(meanLength)/len(meanLength))    "
   ]
  },
  {
   "cell_type": "markdown",
   "id": "518be44c",
   "metadata": {},
   "source": [
    "# get gene length"
   ]
  },
  {
   "cell_type": "code",
   "execution_count": 8,
   "id": "58a26a7a",
   "metadata": {},
   "outputs": [
    {
     "name": "stdout",
     "output_type": "stream",
     "text": [
      "{'candidatus_korarchaeum_cryptofilum_opf8': 1450167,\n",
      " 'chlamydomonas_reinhardtii': 93552813,\n",
      " 'escherichia_coli_str_k_12_substr_mg1655': 4179326,\n",
      " 'halobacterium_salinarum_r1': 2431921,\n",
      " 'leishmania_major': 16195547,\n",
      " 'mycobacterium_tuberculosis_h37rv': 4044657,\n",
      " 'myxococcus_xanthus_dk_1622': 8412500,\n",
      " 'pyrococcus_horikoshii_ot3': 1741027,\n",
      " 'saccharomyces_cerevisiae': 9266162,\n",
      " 'thermus_thermophilus_hb8': 2043895}\n"
     ]
    }
   ],
   "source": [
    "dico = {}\n",
    "for sp in spList:\n",
    "    filename = path+'data/'+sp+'/Sequences_Gene_WT.fa'\n",
    "    try:\n",
    "        fastaOrigin = SeqIO.parse(open(filename),'fasta')\n",
    "    except:\n",
    "        pass\n",
    "    else:\n",
    "        for fasta in fastaOrigin:\n",
    "            name, seq = fasta.id, str(fasta.seq)\n",
    "            if sp not in dico:\n",
    "                dico[sp] = 0\n",
    "            dico[sp] += len(seq)\n",
    "pprint(dico)"
   ]
  },
  {
   "cell_type": "code",
   "execution_count": 9,
   "id": "ff99c6c7",
   "metadata": {},
   "outputs": [
    {
     "name": "stdout",
     "output_type": "stream",
     "text": [
      "93552813\n",
      "31676021\n",
      "28192024\n",
      "0\n",
      "0\n",
      "0\n"
     ]
    }
   ],
   "source": [
    "lenFasta = 0\n",
    "G = 0\n",
    "C = 0\n",
    "filename = path+'data/chlamydomonas_reinhardtii/Sequences_Gene_WT.fa'\n",
    "try:\n",
    "    fastaOrigin = SeqIO.parse(open(filename),'fasta')\n",
    "except:\n",
    "    pass\n",
    "else:\n",
    "    for fasta in fastaOrigin:\n",
    "        name, seq = fasta.id, str(fasta.seq)\n",
    "        lenFasta += len(seq)\n",
    "        G += seq.count('G')\n",
    "        C += seq.count('C')\n",
    "print(lenFasta)\n",
    "print(G)\n",
    "print(C)\n",
    "\n",
    "lenFasta = 0\n",
    "G = 0\n",
    "C = 0\n",
    "filename = path+'data/chlamydomonas_reinhardtii/Sequences_Shuffled_Tri_Gene.fa'\n",
    "try:\n",
    "    fastaOrigin = SeqIO.parse(open(filename),'fasta')\n",
    "except:\n",
    "    pass\n",
    "else:\n",
    "    for fasta in fastaOrigin:\n",
    "        name, seq = fasta.id, str(fasta.seq)\n",
    "        lenFasta += len(seq)\n",
    "        G += seq.count('G')\n",
    "        C += seq.count('C')\n",
    "print(lenFasta)\n",
    "print(G)\n",
    "print(C)"
   ]
  },
  {
   "cell_type": "markdown",
   "id": "9b3ce6b5",
   "metadata": {},
   "source": [
    "# Gene"
   ]
  },
  {
   "cell_type": "code",
   "execution_count": 10,
   "id": "81966475",
   "metadata": {
    "scrolled": true
   },
   "outputs": [],
   "source": [
    "dfDensMono = pd.DataFrame()\n",
    "groups = dfMonoGene.groupby('Sp')\n",
    "for spName, spDf in groups:\n",
    "    groups2 = spDf.groupby('Repro')\n",
    "    for reproName, reproDf in groups2:\n",
    "        row = {'Sp': [spName], 'Dens': [len(reproDf) / float(dico[spName]) *1000]}\n",
    "        dfDensMono = dfDensMono.append(pd.DataFrame(data=row))\n",
    "\n",
    "dfDensTri = pd.DataFrame()\n",
    "groups = dfTriGene.groupby('Sp')\n",
    "for spName, spDf in groups:\n",
    "    groups2 = spDf.groupby('Repro')\n",
    "    for reproName, reproDf in groups2:\n",
    "        row = {'Sp': [spName], 'Dens': [len(reproDf) / float(dico[spName]) *1000]}\n",
    "        dfDensTri = dfDensTri.append(pd.DataFrame(data=row))"
   ]
  },
  {
   "cell_type": "code",
   "execution_count": 11,
   "id": "61a908b0",
   "metadata": {
    "scrolled": true
   },
   "outputs": [
    {
     "data": {
      "image/png": "[encoded data removed]",
      "text/plain": [
       "<Figure size 432x288 with 1 Axes>"
      ]
     },
     "metadata": {
      "needs_background": "light"
     },
     "output_type": "display_data"
    },
    {
     "data": {
      "image/png": "[encoded data removed]",
      "text/plain": [
       "<Figure size 432x288 with 1 Axes>"
      ]
     },
     "metadata": {
      "needs_background": "light"
     },
     "output_type": "display_data"
    }
   ],
   "source": [
    "sns.boxplot(x=\"Sp\", y=\"Dens\", data=dfDensMono)\n",
    "plt.show()\n",
    "sns.boxplot(x=\"Sp\", y=\"Dens\", data=dfDensTri)\n",
    "plt.show()"
   ]
  },
  {
   "cell_type": "code",
   "execution_count": 12,
   "id": "7b364a52",
   "metadata": {},
   "outputs": [
    {
     "data": {
      "image/png": "[encoded data removed]",
      "text/plain": [
       "<Figure size 432x288 with 1 Axes>"
      ]
     },
     "metadata": {
      "needs_background": "light"
     },
     "output_type": "display_data"
    }
   ],
   "source": [
    "dicoTp = {'Sp': ['candidatus_korarchaeum_cryptofilum_opf8', 'halobacterium_salinarum_r1',\n",
    "                 'myxococcus_xanthus_dk_1622', 'thermus_thermophilus_hb8', 'leishmania_major',\n",
    "                 'pyrococcus_horikoshii_ot3', 'escherichia_coli_str_k_12_substr_mg1655',\n",
    "                 'mycobacterium_tuberculosis_h37rv', 'saccharomyces_cerevisiae', 'chlamydomonas_reinhardtii',\n",
    "                 'candidatus_korarchaeum_cryptofilum_opf8', 'halobacterium_salinarum_r1',\n",
    "                 'myxococcus_xanthus_dk_1622', 'thermus_thermophilus_hb8', 'leishmania_major',\n",
    "                 'pyrococcus_horikoshii_ot3', 'escherichia_coli_str_k_12_substr_mg1655',\n",
    "                 'mycobacterium_tuberculosis_h37rv', 'saccharomyces_cerevisiae', 'chlamydomonas_reinhardtii'],\n",
    "         'Mean': [0.484652, 0.086868, 0.190722, 0.774935, 0.074079, 0.0903, 0.018923, 0.140327, 0.0027, 1.15765,\n",
    "                  0.347403, 0.378966, 0.561457, 0.40569, 0.238899, 0.083801, 0.091237, 0.430635, 0.005757, 0.565293],\n",
    "         'Std': [0, 0, 0, 0, 0, 0, 0, 0, 0, 0,\n",
    "                 0.013227, 0.008951, 0.005637, 0.011889, 0.003053, 0.002101, 0.004177, 0.006999, 0.000777, 0.001861],\n",
    "         'Type': ['Wt','Wt','Wt','Wt','Wt','Wt','Wt','Wt','Wt', 'Wt',\n",
    "                  'Mono','Mono','Mono','Mono','Mono','Mono','Mono','Mono','Mono', 'Mono']}  \n",
    "\n",
    "dfHisto = pd.DataFrame(data=dicoTp)\n",
    "for sp in spList:\n",
    "    row = {'Sp': [sp], 'Mean': [dfDensTri[dfDensTri.Sp == sp].Dens.mean()], 'Std': [dfDensTri[dfDensTri.Sp == sp].Dens.std()], 'Type': ['Tri']}\n",
    "    dfHisto = dfHisto.append(pd.DataFrame(data=row))\n",
    "\n",
    "# width of the bars\n",
    "barWidth = 0.2\n",
    "\n",
    "# Choose the height of the blue bars\n",
    "bars00 = dfHisto[dfHisto.Type == 'Wt']['Mean']\n",
    "\n",
    "# Choose the height of the blue bars\n",
    "bars0 = dfHisto[dfHisto.Type == 'Mono']['Mean']\n",
    " \n",
    "# Choose the height of the cyan bars\n",
    "bars2 = dfHisto[dfHisto.Type == 'Tri']['Mean']\n",
    "\n",
    "# Choose the height of the error bars (bars1)\n",
    "yer00 = dfHisto[dfHisto.Type == 'Wt']['Std']\n",
    "\n",
    "# Choose the height of the error bars (bars1)\n",
    "yer0 = dfHisto[dfHisto.Type == 'Mono']['Std']\n",
    " \n",
    "# Choose the height of the error bars (bars2)\n",
    "yer2 = dfHisto[dfHisto.Type == 'Tri']['Std']\n",
    " \n",
    "# The x position of bars\n",
    "r00 = np.arange(len(bars00))\n",
    "r0 = [x + barWidth for x in r00]\n",
    "r2 = [x + barWidth for x in r0]\n",
    "\n",
    "# Create blue bars\n",
    "plt.bar(r00, bars00, width = barWidth, edgecolor = 'black', yerr=yer00, capsize=7, label='Wt')\n",
    "\n",
    "# Create blue bars\n",
    "plt.bar(r0, bars0, width = barWidth, edgecolor = 'black', yerr=yer0, capsize=7, label='Mono')\n",
    " \n",
    "# Create cyan bars\n",
    "plt.bar(r2, bars2, width = barWidth, edgecolor = 'black', yerr=yer2, capsize=7, label='Tri')\n",
    " \n",
    "# general layout\n",
    "plt.xticks([r + barWidth for r in range(len(bars2))], ['Ckor', 'Hsal', 'Mxan', 'Tthe',\n",
    "                                                        'Lmaj', 'Phor', 'Ecol', 'Mtub', 'Scer', 'Crei'])\n",
    "plt.ylabel('height')\n",
    "plt.xticks(rotation=90)\n",
    "plt.legend()\n",
    " \n",
    "# Show graphic\n",
    "plt.savefig('/home/anais/Pictures/Article2/review/HistogramShuffleMonoTri.svg')\n",
    "plt.rcParams['figure.figsize'] = [15, 5]\n",
    "plt.show()"
   ]
  }
 ],
 "metadata": {
  "kernelspec": {
   "display_name": "Python 3",
   "language": "python",
   "name": "python3"
  },
  "language_info": {
   "codemirror_mode": {
    "name": "ipython",
    "version": 3
   },
   "file_extension": ".py",
   "mimetype": "text/x-python",
   "name": "python",
   "nbconvert_exporter": "python",
   "pygments_lexer": "ipython3",
   "version": "3.9.5"
  }
 },
 "nbformat": 4,
 "nbformat_minor": 5
}
